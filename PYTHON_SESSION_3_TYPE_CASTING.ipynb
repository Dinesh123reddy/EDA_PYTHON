{
 "cells": [
  {
   "cell_type": "markdown",
   "id": "373985ae-f82c-46e1-968d-d1a79bceed0f",
   "metadata": {},
   "source": [
    "**TYPE CASTING**\n",
    "- Convert one data type to another data type is called as type casting.\n",
    "- Which means we wants to convert integer\n",
    " - integer type to all other(float,str,bool) data types\n",
    " - float type to all other(int,str,bool) data types\n",
    " - str type to all other(int,float,bool) data types\n",
    " - bool type to all other(int,float,str) data types"
   ]
  },
  {
   "cell_type": "markdown",
   "id": "42d75d27-8d64-437c-9c47-507b8da992f3",
   "metadata": {},
   "source": [
    "**Integer to other data types**"
   ]
  },
  {
   "cell_type": "markdown",
   "id": "b2d0957d-a96c-41aa-b28e-3649550f73f4",
   "metadata": {},
   "source": [
    "$int-float$"
   ]
  },
  {
   "cell_type": "code",
   "execution_count": 1,
   "id": "ebc6e3d4-ebf5-4dbd-9888-149a8209a1d3",
   "metadata": {},
   "outputs": [
    {
     "data": {
      "text/plain": [
       "float"
      ]
     },
     "execution_count": 1,
     "metadata": {},
     "output_type": "execute_result"
    }
   ],
   "source": [
    "n1=1.5\n",
    "type(n1)"
   ]
  },
  {
   "cell_type": "code",
   "execution_count": 2,
   "id": "5c530a9b-4951-436d-8ec0-48f509c41c29",
   "metadata": {},
   "outputs": [
    {
     "data": {
      "text/plain": [
       "True"
      ]
     },
     "execution_count": 2,
     "metadata": {},
     "output_type": "execute_result"
    }
   ],
   "source": [
    "bool(n1)"
   ]
  },
  {
   "cell_type": "code",
   "execution_count": 3,
   "id": "31773391-e509-4da2-a1cf-5c217b79a58e",
   "metadata": {},
   "outputs": [
    {
     "data": {
      "text/plain": [
       "'1.5'"
      ]
     },
     "execution_count": 3,
     "metadata": {},
     "output_type": "execute_result"
    }
   ],
   "source": [
    "str(n1)"
   ]
  },
  {
   "cell_type": "code",
   "execution_count": 4,
   "id": "a6495029-10e9-49bf-95c5-8daf6fdcc401",
   "metadata": {},
   "outputs": [
    {
     "data": {
      "text/plain": [
       "1.5"
      ]
     },
     "execution_count": 4,
     "metadata": {},
     "output_type": "execute_result"
    }
   ],
   "source": [
    "float(n1)"
   ]
  },
  {
   "cell_type": "markdown",
   "id": "5201f8c5-c9e8-4ce1-b1a4-33cd00dfec2d",
   "metadata": {},
   "source": [
    "**NOTE**\n",
    "- Integer = 0, then only boolean will become False\n",
    "- Otherwise for any positive number or any negative number it becomes True"
   ]
  },
  {
   "cell_type": "markdown",
   "id": "8ea9979b-7db8-43c0-8d30-6bc6d24a09a9",
   "metadata": {},
   "source": [
    "**Float to another data type**"
   ]
  },
  {
   "cell_type": "code",
   "execution_count": 6,
   "id": "7be67d23-40f4-4ad0-98f2-c8da776d3008",
   "metadata": {},
   "outputs": [
    {
     "name": "stdout",
     "output_type": "stream",
     "text": [
      "1\n",
      "True\n"
     ]
    },
    {
     "data": {
      "text/plain": [
       "'1.2'"
      ]
     },
     "execution_count": 6,
     "metadata": {},
     "output_type": "execute_result"
    }
   ],
   "source": [
    "n1=1.2\n",
    "print(int(n1))\n",
    "print(bool(n1))\n",
    "str(n1)"
   ]
  },
  {
   "cell_type": "markdown",
   "id": "f890abc8-a338-41e3-b737-0f652edd133f",
   "metadata": {},
   "source": [
    "**String to another data type**"
   ]
  },
  {
   "cell_type": "code",
   "execution_count": 14,
   "id": "f3c63bd1-70a5-476e-9926-69660c97766e",
   "metadata": {},
   "outputs": [
    {
     "ename": "ValueError",
     "evalue": "invalid literal for int() with base 10: '1.2'",
     "output_type": "error",
     "traceback": [
      "\u001b[1;31m---------------------------------------------------------------------------\u001b[0m",
      "\u001b[1;31mValueError\u001b[0m                                Traceback (most recent call last)",
      "Cell \u001b[1;32mIn[14], line 4\u001b[0m\n\u001b[0;32m      2\u001b[0m n2\u001b[38;5;241m=\u001b[39m\u001b[38;5;124m'\u001b[39m\u001b[38;5;124m1\u001b[39m\u001b[38;5;124m'\u001b[39m\n\u001b[0;32m      3\u001b[0m n3\u001b[38;5;241m=\u001b[39m\u001b[38;5;124m'\u001b[39m\u001b[38;5;124m1.2\u001b[39m\u001b[38;5;124m'\u001b[39m\n\u001b[1;32m----> 4\u001b[0m \u001b[38;5;28mint\u001b[39m(\u001b[38;5;124m'\u001b[39m\u001b[38;5;124m1.2\u001b[39m\u001b[38;5;124m'\u001b[39m)\n",
      "\u001b[1;31mValueError\u001b[0m: invalid literal for int() with base 10: '1.2'"
     ]
    }
   ],
   "source": [
    "n1='bat'\n",
    "n2='1'\n",
    "n3='1.2'\n",
    "int('1.2')"
   ]
  },
  {
   "cell_type": "code",
   "execution_count": 40,
   "id": "917fe779-b322-420c-97ef-e76d930ac024",
   "metadata": {},
   "outputs": [
    {
     "data": {
      "text/plain": [
       "1.2"
      ]
     },
     "execution_count": 40,
     "metadata": {},
     "output_type": "execute_result"
    }
   ],
   "source": [
    "float('1.2')"
   ]
  },
  {
   "cell_type": "code",
   "execution_count": 41,
   "id": "6bde1d17-660b-4a5e-bc47-8d6b1a28122d",
   "metadata": {},
   "outputs": [
    {
     "data": {
      "text/plain": [
       "True"
      ]
     },
     "execution_count": 41,
     "metadata": {},
     "output_type": "execute_result"
    }
   ],
   "source": [
    "bool('1.2')"
   ]
  },
  {
   "cell_type": "markdown",
   "id": "14b0f71d-9a1d-4d9e-9f4e-963337590686",
   "metadata": {},
   "source": [
    "- Float is the boss\n",
    "- Which means float of any value either it is integer in strings format\n",
    "- Or float in strings format will works\n",
    "- But integer will works only for integer in strings format ( int('1')) this works\n",
    "- Integer type casting will fail for float in strings format (int('1.2')) this fails"
   ]
  },
  {
   "cell_type": "code",
   "execution_count": 4,
   "id": "d6d9ea5b-a55e-4be2-8c23-807c32fcf2d8",
   "metadata": {},
   "outputs": [
    {
     "data": {
      "text/plain": [
       "True"
      ]
     },
     "execution_count": 4,
     "metadata": {},
     "output_type": "execute_result"
    }
   ],
   "source": [
    "bool('0') # There is a value inside the single qoutes so it gives the output as True"
   ]
  },
  {
   "cell_type": "code",
   "execution_count": 5,
   "id": "2d887383-b222-4df2-9849-68be84cf58f6",
   "metadata": {},
   "outputs": [
    {
     "data": {
      "text/plain": [
       "False"
      ]
     },
     "execution_count": 5,
     "metadata": {},
     "output_type": "execute_result"
    }
   ],
   "source": [
    "bool() # There is no value inside the expression so it gives the output as False"
   ]
  },
  {
   "cell_type": "code",
   "execution_count": 45,
   "id": "bfc2742d-c566-4a14-b7f6-c81335c30eb6",
   "metadata": {},
   "outputs": [
    {
     "data": {
      "text/plain": [
       "False"
      ]
     },
     "execution_count": 45,
     "metadata": {},
     "output_type": "execute_result"
    }
   ],
   "source": [
    "bool(0)"
   ]
  },
  {
   "cell_type": "markdown",
   "id": "bd95ff54-23c8-4627-8ca9-bf82dab5db8e",
   "metadata": {},
   "source": [
    "- Empty string of boolean give False\n",
    "- False means nothing either 0 or empty string"
   ]
  },
  {
   "cell_type": "markdown",
   "id": "955b4ebd-3819-4af0-b8bf-fa2ef390bb5b",
   "metadata": {},
   "source": [
    "**Boolean to other data types**"
   ]
  },
  {
   "cell_type": "code",
   "execution_count": 47,
   "id": "c72a678e-4a38-4fea-a75c-01f61e192e16",
   "metadata": {},
   "outputs": [
    {
     "data": {
      "text/plain": [
       "1"
      ]
     },
     "execution_count": 47,
     "metadata": {},
     "output_type": "execute_result"
    }
   ],
   "source": [
    "n1=True\n",
    "int(n1)\n"
   ]
  },
  {
   "cell_type": "code",
   "execution_count": 48,
   "id": "e94b84c5-a5c2-469d-ac06-eccba7b0bc37",
   "metadata": {},
   "outputs": [
    {
     "data": {
      "text/plain": [
       "1.0"
      ]
     },
     "execution_count": 48,
     "metadata": {},
     "output_type": "execute_result"
    }
   ],
   "source": [
    "float(n1)"
   ]
  },
  {
   "cell_type": "code",
   "execution_count": 49,
   "id": "74d84166-ecb3-4874-b994-ac9f985dff50",
   "metadata": {},
   "outputs": [
    {
     "data": {
      "text/plain": [
       "'True'"
      ]
     },
     "execution_count": 49,
     "metadata": {},
     "output_type": "execute_result"
    }
   ],
   "source": [
    "str(n1)"
   ]
  },
  {
   "cell_type": "code",
   "execution_count": 50,
   "id": "5fe45675-57bd-4630-97f5-c8e3b620d441",
   "metadata": {},
   "outputs": [
    {
     "data": {
      "text/plain": [
       "0"
      ]
     },
     "execution_count": 50,
     "metadata": {},
     "output_type": "execute_result"
    }
   ],
   "source": [
    "n1=False\n",
    "int(n1)"
   ]
  },
  {
   "cell_type": "code",
   "execution_count": 51,
   "id": "5be6cd60-662a-4127-82fe-eca932600047",
   "metadata": {},
   "outputs": [
    {
     "data": {
      "text/plain": [
       "0.0"
      ]
     },
     "execution_count": 51,
     "metadata": {},
     "output_type": "execute_result"
    }
   ],
   "source": [
    "float(n1)"
   ]
  },
  {
   "cell_type": "code",
   "execution_count": 52,
   "id": "e60a9d1a-b4fe-432b-8c1d-322f721d7c3f",
   "metadata": {},
   "outputs": [
    {
     "data": {
      "text/plain": [
       "'False'"
      ]
     },
     "execution_count": 52,
     "metadata": {},
     "output_type": "execute_result"
    }
   ],
   "source": [
    "str(n1)"
   ]
  },
  {
   "cell_type": "code",
   "execution_count": 57,
   "id": "843d8276-3a55-4f52-a7e1-fd40ced7e8cd",
   "metadata": {},
   "outputs": [
    {
     "name": "stdout",
     "output_type": "stream",
     "text": [
      "<class 'int'>\n",
      "0.0\n",
      "0\n",
      "False\n",
      "1\n",
      "1.2\n",
      "True\n",
      "1\n",
      "1.0\n",
      "True\n",
      "0\n",
      "0.0\n",
      "False\n"
     ]
    }
   ],
   "source": [
    "n1=0\n",
    "n2=1.2\n",
    "n3='bat'\n",
    "n4=True\n",
    "n5=False\n",
    "# Integer to other data types\n",
    "print(type(n1))\n",
    "print(float(n1))\n",
    "print(str(n1))\n",
    "print(bool(n1))\n",
    "# Float to other data types\n",
    "print(int(n2))\n",
    "print(str(n2))\n",
    "print(bool(n2))\n",
    "# Bool to other data types\n",
    "print(int(n4))\n",
    "print(float(n4))\n",
    "print(str(n4))\n",
    "print(int(n5))\n",
    "print(float(n5))\n",
    "print(str(n5))"
   ]
  },
  {
   "cell_type": "code",
   "execution_count": 58,
   "id": "9fe8b0ea-fe4f-4b19-b3db-502f32147f1b",
   "metadata": {},
   "outputs": [
    {
     "name": "stdout",
     "output_type": "stream",
     "text": [
      "0\n",
      "0.0\n",
      "True\n"
     ]
    },
    {
     "ename": "ValueError",
     "evalue": "invalid literal for int() with base 10: '1.2'",
     "output_type": "error",
     "traceback": [
      "\u001b[1;31m---------------------------------------------------------------------------\u001b[0m",
      "\u001b[1;31mValueError\u001b[0m                                Traceback (most recent call last)",
      "Cell \u001b[1;32mIn[58], line 8\u001b[0m\n\u001b[0;32m      6\u001b[0m \u001b[38;5;28mprint\u001b[39m(\u001b[38;5;28mfloat\u001b[39m(\u001b[38;5;124m'\u001b[39m\u001b[38;5;124m0\u001b[39m\u001b[38;5;124m'\u001b[39m))\n\u001b[0;32m      7\u001b[0m \u001b[38;5;28mprint\u001b[39m(\u001b[38;5;28mbool\u001b[39m(\u001b[38;5;124m'\u001b[39m\u001b[38;5;124m0\u001b[39m\u001b[38;5;124m'\u001b[39m))\n\u001b[1;32m----> 8\u001b[0m \u001b[38;5;28mprint\u001b[39m(\u001b[38;5;28mint\u001b[39m(\u001b[38;5;124m'\u001b[39m\u001b[38;5;124m1.2\u001b[39m\u001b[38;5;124m'\u001b[39m))\n\u001b[0;32m      9\u001b[0m \u001b[38;5;28mprint\u001b[39m(\u001b[38;5;28mfloat\u001b[39m(\u001b[38;5;124m'\u001b[39m\u001b[38;5;124m1.2\u001b[39m\u001b[38;5;124m'\u001b[39m))\n\u001b[0;32m     10\u001b[0m \u001b[38;5;28mprint\u001b[39m(\u001b[38;5;28mbool\u001b[39m(\u001b[38;5;124m'\u001b[39m\u001b[38;5;124m1.2\u001b[39m\u001b[38;5;124m'\u001b[39m))\n",
      "\u001b[1;31mValueError\u001b[0m: invalid literal for int() with base 10: '1.2'"
     ]
    }
   ],
   "source": [
    "n1=0\n",
    "n2=1.2\n",
    "n3='bat'\n",
    "# Str to other data types\n",
    "print(int('0'))\n",
    "print(float('0'))\n",
    "print(bool('0'))\n",
    "print(int('1.2'))\n",
    "print(float('1.2'))\n",
    "print(bool('1.2'))\n",
    "print(int('bat'))\n",
    "print(float('bat'))\n",
    "print(bool('bat'))"
   ]
  }
 ],
 "metadata": {
  "kernelspec": {
   "display_name": "Python 3 (ipykernel)",
   "language": "python",
   "name": "python3"
  },
  "language_info": {
   "codemirror_mode": {
    "name": "ipython",
    "version": 3
   },
   "file_extension": ".py",
   "mimetype": "text/x-python",
   "name": "python",
   "nbconvert_exporter": "python",
   "pygments_lexer": "ipython3",
   "version": "3.11.7"
  }
 },
 "nbformat": 4,
 "nbformat_minor": 5
}
