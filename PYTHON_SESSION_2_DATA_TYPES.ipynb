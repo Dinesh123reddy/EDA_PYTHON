{
 "cells": [
  {
   "cell_type": "markdown",
   "id": "ae8f6a05-d2ec-4ce0-87b3-5cffe01e351e",
   "metadata": {},
   "source": [
    "**Data Types**\n",
    "- In python type declare not required\n",
    "- Python will automatically take the type based on provided value\n",
    "- We have many data types available\n",
    "- The main data types are\n",
    "   - integer\n",
    "   - float\n",
    "   - boolean\n",
    "   - string\n",
    "- List\n",
    "- Dictionary\n",
    "- Tuple\n",
    "- Complex\n"
   ]
  },
  {
   "cell_type": "markdown",
   "id": "d9453991-0694-4ab4-81b0-b69af5057fa7",
   "metadata": {},
   "source": [
    "**INTEGER**"
   ]
  },
  {
   "cell_type": "code",
   "execution_count": 1,
   "id": "ff725ee9-051a-4771-b112-00d57b864896",
   "metadata": {},
   "outputs": [
    {
     "data": {
      "text/plain": [
       "int"
      ]
     },
     "execution_count": 1,
     "metadata": {},
     "output_type": "execute_result"
    }
   ],
   "source": [
    "n=1\n",
    "type(n)"
   ]
  },
  {
   "cell_type": "markdown",
   "id": "7e7ccec4-df61-4fba-b99d-9ec1d9e520ff",
   "metadata": {},
   "source": [
    "- binary representation\n",
    "- octa representation\n",
    "- hexa representation"
   ]
  },
  {
   "cell_type": "markdown",
   "id": "fa9826c2-621d-4d9e-a8ba-29c87aa7dbea",
   "metadata": {},
   "source": [
    "**Binary Representation**\n",
    "- bi means 2\n",
    "- so it requires 2 digits\n",
    "- Generally we have 0 1 2 3 4 5 6 7 8 9\n",
    "- So it will represent only with 0 and 1\n",
    "- The correct representation is 0b10,0b111\n",
    "- Wrong representation is 0b102 # 2 should not include because binary is combination of 0 and 1"
   ]
  },
  {
   "cell_type": "markdown",
   "id": "807c68d3-fc3a-43e2-8805-cfd3479535da",
   "metadata": {},
   "source": [
    "- ob111\n",
    "- Binary calculation start from right to left\n",
    "- If it starts with '0b' which represents it is a binary number\n",
    "- We have to calculate in a order 2^0,2^1,2^2,----,2^n from right to left and multiply with their respective 0's and 1's"
   ]
  },
  {
   "cell_type": "code",
   "execution_count": 9,
   "id": "ca5f45d1-6f2e-40a4-a32c-89edf8788a21",
   "metadata": {},
   "outputs": [
    {
     "data": {
      "text/plain": [
       "5"
      ]
     },
     "execution_count": 9,
     "metadata": {},
     "output_type": "execute_result"
    }
   ],
   "source": [
    "0b101 # This represents binary code of 101 is 5"
   ]
  },
  {
   "cell_type": "code",
   "execution_count": 5,
   "id": "2c52f6b6-1c4d-4171-a650-ba72571b3600",
   "metadata": {},
   "outputs": [],
   "source": [
    "import os"
   ]
  },
  {
   "cell_type": "code",
   "execution_count": 6,
   "id": "bd5f6257-0aa1-4fdb-8682-e7faa7688263",
   "metadata": {},
   "outputs": [
    {
     "data": {
      "text/plain": [
       "'C:\\\\Users\\\\Dinesh Reddy\\\\Documents\\\\NARESH IT\\\\PYTHON\\\\PYTHON_SESSION2_DATATYPES'"
      ]
     },
     "execution_count": 6,
     "metadata": {},
     "output_type": "execute_result"
    }
   ],
   "source": [
    "os.getcwd() # It get the current working directory\n",
    "# It will show the path of our python file located"
   ]
  },
  {
   "cell_type": "code",
   "execution_count": null,
   "id": "1aa00e42-de78-4b7c-bc23-2b9236ccf9ff",
   "metadata": {},
   "outputs": [],
   "source": [
    "#NUMBERS WITH THEIR BINARY CODES OF 4 2 1 CODE\n",
    "4 2 1   num    \n",
    "0 0 0    0\n",
    "0 0 1    1\n",
    "0 1 0    2\n",
    "0 1 1    3 \n",
    "1 0 0    4\n",
    "1 0 1    5\n",
    "1 1 0    6\n",
    "1 1 1    7"
   ]
  },
  {
   "cell_type": "code",
   "execution_count": null,
   "id": "3de47ac4-6a8f-4625-8b07-b3854e0e1e0b",
   "metadata": {},
   "outputs": [],
   "source": [
    "# NUMBERS WITH THEIR BINARY CODES OF 8 4 2 1 CODE\n",
    "8 4 2 1    Num\n",
    "0 0 0 0     0\n",
    "0 0 0 1     1\n",
    "0 0 1 0     2\n",
    "0 0 1 1     3\n",
    "0 1 0 0     4\n",
    "0 1 0 1     5\n",
    "0 1 1 0     6\n",
    "0 1 1 1     7\n",
    "1 0 0 0     8\n",
    "1 0 0 1     9\n",
    "1 0 1 0     10\n",
    "1 0 1 1     11\n",
    "1 1 0 0     12\n",
    "1 1 0 1     13\n",
    "1 1 1 0     14\n",
    "1 1 1 1     15"
   ]
  },
  {
   "cell_type": "markdown",
   "id": "a3e0ac10-f647-44a8-9daf-faa8eef7d6ee",
   "metadata": {},
   "source": [
    "**OCTAL**\n",
    "- octa means 8\n",
    "- so it requires 8 digits\n",
    "- Generally we have 0 1 2 3 4 5 6 7 8 9\n",
    "- So it will represent only with 0 1 2 3 4 5 6 7\n",
    "- The correct representation is 0o123,0o17654321\n",
    "- Wrong representation is 0o108,0o987 # 8,9 should not include because octa is combination of 0 1 2 3 4 5 6 7"
   ]
  },
  {
   "cell_type": "code",
   "execution_count": 12,
   "id": "3d4d9650-fff9-4d01-b42a-efa7206b3901",
   "metadata": {},
   "outputs": [
    {
     "data": {
      "text/plain": [
       "83"
      ]
     },
     "execution_count": 12,
     "metadata": {},
     "output_type": "execute_result"
    }
   ],
   "source": [
    "0o123 # Octa calculation start from right to left\n",
    "#If it starts with '0o' which represents it is a octa number\n",
    "# We have to calculate in a order 8^0,8^1,8^2,----,8^n from right to left and multiply with their respective 0 1 2 3 4 5 6 7"
   ]
  },
  {
   "cell_type": "markdown",
   "id": "6ae07557-4f02-4ce2-b459-a26901f7b375",
   "metadata": {},
   "source": [
    "**HEXA**\n",
    "- Hexa means 16\n",
    "- so it requires 16 digits\n",
    "- Generally we have 0 1 2 3 4 5 6 7 8 9 A(10) B(11) C(12) D(13) E(14) F(15)\n",
    "- So it will represent only with 0-9 A-F\n",
    "- The correct representation is 0xF9,0x123abc,0xabc\n",
    "- Wrong representation is 0xGH,0XABCDEFG # G,H should not include because Hexa is combination of 0-9 A-F"
   ]
  },
  {
   "cell_type": "code",
   "execution_count": 13,
   "id": "d364c1d1-3aef-42fb-810d-330afb91f309",
   "metadata": {},
   "outputs": [
    {
     "data": {
      "text/plain": [
       "2748"
      ]
     },
     "execution_count": 13,
     "metadata": {},
     "output_type": "execute_result"
    }
   ],
   "source": [
    "0xabc # Hexa calculation start from right to left\n",
    "#If it starts with '0x' which represents it is a hexa number\n",
    "# We have to calculate in a order 16^0,16^1,16^2,----,16^n from right to left and multiply with their respective 0-9 A-F"
   ]
  },
  {
   "cell_type": "markdown",
   "id": "8f4cecd0-0083-4154-a2eb-1376a5511f4b",
   "metadata": {},
   "source": [
    "**FLOAT**"
   ]
  },
  {
   "cell_type": "code",
   "execution_count": 15,
   "id": "01e72927-d6a3-476c-88ae-6e9231a88bb1",
   "metadata": {},
   "outputs": [
    {
     "data": {
      "text/plain": [
       "float"
      ]
     },
     "execution_count": 15,
     "metadata": {},
     "output_type": "execute_result"
    }
   ],
   "source": [
    "num=12.3 # Float is nothing but if there is value after the decimal value then it is a considered as a float value.\n",
    "type(num)"
   ]
  },
  {
   "cell_type": "code",
   "execution_count": 17,
   "id": "e941dbbe-3bf1-4612-858c-87d5188909ef",
   "metadata": {},
   "outputs": [
    {
     "data": {
      "text/plain": [
       "(10.0, 100.0, 1000.0, 10000.0)"
      ]
     },
     "execution_count": 17,
     "metadata": {},
     "output_type": "execute_result"
    }
   ],
   "source": [
    "1e1,1e2,1e3,1e4 # kep = k(10^p)"
   ]
  },
  {
   "cell_type": "code",
   "execution_count": 25,
   "id": "9c0e1034-2c0a-4ba1-9451-7b2c60afd767",
   "metadata": {},
   "outputs": [
    {
     "data": {
      "text/plain": [
       "(10.0, 100.0, 1000.0, 10000.0)"
      ]
     },
     "execution_count": 25,
     "metadata": {},
     "output_type": "execute_result"
    }
   ],
   "source": [
    "1e+1,1e+2,1e+3,1e+4 # '+' Positive means multiply (ke+p = k(10^p))"
   ]
  },
  {
   "cell_type": "code",
   "execution_count": 26,
   "id": "092efd3e-943a-4ded-b73c-1acdf64d0a38",
   "metadata": {},
   "outputs": [
    {
     "data": {
      "text/plain": [
       "(2.4, 0.24, 0.024, 0.0024)"
      ]
     },
     "execution_count": 26,
     "metadata": {},
     "output_type": "execute_result"
    }
   ],
   "source": [
    "24e-1,24e-2,24e-3,24e-4 # '-' Negative means division ( ke-p = k/(10^p))"
   ]
  },
  {
   "cell_type": "markdown",
   "id": "724668c6-8574-4e92-8c48-fa889ef8f34c",
   "metadata": {},
   "source": [
    "**Strings**\n",
    "- Strings are used to represent the english characters generally \n",
    "- Strings will represent in \n",
    "   - Single quotes\n",
    "   - Double quotes\n",
    "   - Triple quotes"
   ]
  },
  {
   "cell_type": "code",
   "execution_count": 32,
   "id": "20e8cdc1-8a14-467d-8faf-96bcc9651c4b",
   "metadata": {},
   "outputs": [
    {
     "name": "stdout",
     "output_type": "stream",
     "text": [
      "Dinesh\n",
      "<class 'str'>\n"
     ]
    }
   ],
   "source": [
    "name=\"Dinesh\"\n",
    "print(name)\n",
    "print(type(name))"
   ]
  },
  {
   "cell_type": "markdown",
   "id": "2f090cac-0e16-48e5-8b28-905a97609072",
   "metadata": {},
   "source": [
    "- **RED COLOUR MEANS STRINGS**\n",
    "- **GREEN COLOUR MEANS KEYWORDS**\n",
    "- **BLACK COLOUR MEANS VARIABLES**"
   ]
  },
  {
   "cell_type": "code",
   "execution_count": 36,
   "id": "ab10ed49-7fbf-4b15-90d0-69c01c99c9d6",
   "metadata": {},
   "outputs": [
    {
     "data": {
      "text/plain": [
       "'python'"
      ]
     },
     "execution_count": 36,
     "metadata": {},
     "output_type": "execute_result"
    }
   ],
   "source": [
    "name='python'\n",
    "names=\"Dinesh\"\n",
    "name\n"
   ]
  },
  {
   "cell_type": "code",
   "execution_count": 37,
   "id": "e006ce4b-2900-4304-b20d-8706ece8a838",
   "metadata": {},
   "outputs": [
    {
     "data": {
      "text/plain": [
       "'Dinesh'"
      ]
     },
     "execution_count": 37,
     "metadata": {},
     "output_type": "execute_result"
    }
   ],
   "source": [
    "names"
   ]
  },
  {
   "cell_type": "markdown",
   "id": "8885443f-03b4-4b2b-94bf-c70249035237",
   "metadata": {},
   "source": [
    "**From the above code we know that output always in single quotes**"
   ]
  },
  {
   "cell_type": "code",
   "execution_count": 34,
   "id": "36b7c552-ce57-4269-b445-7560c803622e",
   "metadata": {},
   "outputs": [
    {
     "name": "stdout",
     "output_type": "stream",
     "text": [
      "python\n",
      "Dinesh\n"
     ]
    }
   ],
   "source": [
    "name='python'\n",
    "names=\"Dinesh\"\n",
    "print(name)\n",
    "print(names)"
   ]
  },
  {
   "cell_type": "markdown",
   "id": "d6d2477c-a9dd-4d9a-96ee-1f70d80e3bc1",
   "metadata": {},
   "source": [
    "**From the above code we see if we print the string values it will give the output with no quotes**"
   ]
  },
  {
   "cell_type": "code",
   "execution_count": 40,
   "id": "5568e992-4e10-4a26-a585-73daf6d5cfef",
   "metadata": {},
   "outputs": [
    {
     "name": "stdout",
     "output_type": "stream",
     "text": [
      " Hello \"world\"\n"
     ]
    }
   ],
   "source": [
    "name=' Hello \"world\"'\n",
    "print(name)"
   ]
  },
  {
   "cell_type": "markdown",
   "id": "369ff7d4-e1f2-4ea2-99b6-e8e40b49ab8a",
   "metadata": {},
   "source": [
    "**Entire string in double quotes the highlighted word in a single quote vice versa**"
   ]
  },
  {
   "cell_type": "markdown",
   "id": "d1ea2736-b2c2-4546-991b-30cf699d2f6b",
   "metadata": {},
   "source": [
    "***TRIPLE QUOTES***\n",
    "- Triple quotes is not used for coding\n",
    "- Triple quotes is used to provide the information to the user\n",
    "- In order to provide the information in jupyter notebook we will markdown\n",
    "- In VScode or pycharm there is no markdown option\n",
    "- Thatswhy the world start used to write the information in triple quotes\n",
    "- This entire process is called **Doc String**\n"
   ]
  },
  {
   "cell_type": "code",
   "execution_count": 44,
   "id": "2dff773d-69aa-49d6-af4e-e575ad363c3f",
   "metadata": {},
   "outputs": [
    {
     "data": {
      "text/plain": [
       "'\\nHello\\nMy Name is\\nDinesh Reddy\\n'"
      ]
     },
     "execution_count": 44,
     "metadata": {},
     "output_type": "execute_result"
    }
   ],
   "source": [
    "\"\"\"\n",
    "Hello\n",
    "My Name is\n",
    "Dinesh Reddy\n",
    "\"\"\""
   ]
  },
  {
   "cell_type": "markdown",
   "id": "17c6cac2-e3e3-448d-bf63-66223afbeb78",
   "metadata": {},
   "source": [
    "**BOOLEAN**"
   ]
  },
  {
   "cell_type": "code",
   "execution_count": 46,
   "id": "92a44fb9-c64b-4830-8216-5de9e95d8a06",
   "metadata": {},
   "outputs": [
    {
     "name": "stdout",
     "output_type": "stream",
     "text": [
      "<class 'bool'>\n",
      "<class 'bool'>\n"
     ]
    }
   ],
   "source": [
    "n1=True\n",
    "n2=False\n",
    "print(type(n1))\n",
    "print(type(n2))"
   ]
  },
  {
   "cell_type": "code",
   "execution_count": 47,
   "id": "74f186c7-ea1a-4043-82f0-7b45e9ce2f7d",
   "metadata": {},
   "outputs": [
    {
     "name": "stdout",
     "output_type": "stream",
     "text": [
      "<class 'str'>\n",
      "<class 'bool'>\n"
     ]
    }
   ],
   "source": [
    "true=\"True\"\n",
    "false=False\n",
    "print(type(true))\n",
    "print(type(false))"
   ]
  },
  {
   "cell_type": "markdown",
   "id": "9a133040-1de0-4cd5-a56c-a60c1c39679c",
   "metadata": {},
   "source": [
    "**From the above code we see true and false are variables and True is in double quotes so it is a string and False is a boolean**"
   ]
  }
 ],
 "metadata": {
  "kernelspec": {
   "display_name": "Python 3 (ipykernel)",
   "language": "python",
   "name": "python3"
  },
  "language_info": {
   "codemirror_mode": {
    "name": "ipython",
    "version": 3
   },
   "file_extension": ".py",
   "mimetype": "text/x-python",
   "name": "python",
   "nbconvert_exporter": "python",
   "pygments_lexer": "ipython3",
   "version": "3.11.7"
  }
 },
 "nbformat": 4,
 "nbformat_minor": 5
}
