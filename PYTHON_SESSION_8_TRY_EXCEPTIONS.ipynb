{
 "cells": [
  {
   "cell_type": "markdown",
   "id": "1665ec97-fa1a-4393-bce6-142d4f3100b6",
   "metadata": {},
   "source": [
    "**try-except**\n",
    "- Generally in real time we will write n number of python lines\n",
    "- There is a situation we might ger an error, that error might be unknown\n",
    "- This unknown error does not cause any harm\n",
    "- Even though we are getting error we need to proceed further\n",
    "- Also we need to catch that error\n",
    "- Because we already known python is a sequential process\n"
   ]
  },
  {
   "cell_type": "markdown",
   "id": "8b23a57f-9a1d-4142-a910-9e439ec8dbbc",
   "metadata": {},
   "source": [
    "- try-except has two blocks\n",
    "- try block as actual code\n",
    "- except block will catch the error"
   ]
  },
  {
   "cell_type": "code",
   "execution_count": 3,
   "id": "497add71-38c1-4431-9e95-db25f2cfab34",
   "metadata": {},
   "outputs": [
    {
     "name": "stdin",
     "output_type": "stream",
     "text": [
      "Enter a number:  10\n",
      "Enter a number:  twenty\n"
     ]
    },
    {
     "name": "stdout",
     "output_type": "stream",
     "text": [
      "Hello\n",
      "You are getting error\n",
      "Check the code properly\n"
     ]
    }
   ],
   "source": [
    "try:\n",
    "    n1=eval(input(\"Enter a number: \"))\n",
    "    n2=eval(input(\"Enter a number: \"))\n",
    "    add=n1+n2\n",
    "    print(add)\n",
    "except:\n",
    "    print(\"Hello\")\n",
    "    print(\"You are getting error\")\n",
    "    print(\"Check the code properly\")"
   ]
  },
  {
   "cell_type": "markdown",
   "id": "8261c47f-01eb-43d3-be09-8e040bfd3bbb",
   "metadata": {},
   "source": [
    "**Note**\n",
    "- Generally try except block will use to catch the errors"
   ]
  },
  {
   "cell_type": "code",
   "execution_count": 8,
   "id": "ee28a775-a713-4046-966d-a28014fb367f",
   "metadata": {},
   "outputs": [
    {
     "name": "stdin",
     "output_type": "stream",
     "text": [
      "Enter a number:  1\n",
      "Enter a number:  0\n"
     ]
    },
    {
     "name": "stdout",
     "output_type": "stream",
     "text": [
      "The error is division by zero\n"
     ]
    }
   ],
   "source": [
    "try:\n",
    "    n1=eval(input(\"Enter a number: \"))\n",
    "    n2=eval(input(\"Enter a number: \"))\n",
    "    add=n1+n2\n",
    "    div=n1/n2\n",
    "    print(add)\n",
    "except Exception as e:\n",
    "    print(f\"The error is {e}\")"
   ]
  },
  {
   "cell_type": "code",
   "execution_count": 14,
   "id": "02c9a091-d777-4528-8680-23c7606c4fbe",
   "metadata": {},
   "outputs": [
    {
     "name": "stdin",
     "output_type": "stream",
     "text": [
      "Enter a number:  ten\n"
     ]
    },
    {
     "name": "stdout",
     "output_type": "stream",
     "text": [
      "name 'ten' is not defined\n"
     ]
    }
   ],
   "source": [
    "# Now onwards every code should write in try-except \n",
    "try:\n",
    "    num=eval(input(\"Enter a number: \"))\n",
    "    if num%2==0:\n",
    "        print(\"Even number\")\n",
    "    else:\n",
    "        print(\"Odd number\")\n",
    "except Exception as e:\n",
    "    print(e)"
   ]
  },
  {
   "cell_type": "code",
   "execution_count": null,
   "id": "b5e2dc88-0fe7-4e34-b2b6-b6d1e50800e3",
   "metadata": {},
   "outputs": [],
   "source": []
  }
 ],
 "metadata": {
  "kernelspec": {
   "display_name": "Python 3 (ipykernel)",
   "language": "python",
   "name": "python3"
  },
  "language_info": {
   "codemirror_mode": {
    "name": "ipython",
    "version": 3
   },
   "file_extension": ".py",
   "mimetype": "text/x-python",
   "name": "python",
   "nbconvert_exporter": "python",
   "pygments_lexer": "ipython3",
   "version": "3.11.7"
  }
 },
 "nbformat": 4,
 "nbformat_minor": 5
}
