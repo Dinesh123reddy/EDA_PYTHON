{
 "cells": [
  {
   "cell_type": "code",
   "execution_count": 1,
   "id": "6f345974-2347-4df5-ac51-d282921756f5",
   "metadata": {},
   "outputs": [],
   "source": [
    "num1=100\n",
    "num2=200\n",
    "add=num1+num2"
   ]
  },
  {
   "cell_type": "markdown",
   "id": "578c0e19-7a1e-45b6-ba31-d48b06870dd5",
   "metadata": {},
   "source": [
    "$Input$\n",
    "- input keyword is used to take the values from user"
   ]
  },
  {
   "cell_type": "code",
   "execution_count": 6,
   "id": "f707bda0-70d6-4c77-b8b9-00630c4a0f54",
   "metadata": {},
   "outputs": [
    {
     "name": "stdin",
     "output_type": "stream",
     "text": [
      "Enter the number: 300\n"
     ]
    },
    {
     "data": {
      "text/plain": [
       "'300'"
      ]
     },
     "execution_count": 6,
     "metadata": {},
     "output_type": "execute_result"
    }
   ],
   "source": [
    "input(\"Enter the number:\")"
   ]
  },
  {
   "cell_type": "code",
   "execution_count": 2,
   "id": "5cc533f3-aa0c-46e2-a5f9-05da9f9b3429",
   "metadata": {},
   "outputs": [
    {
     "name": "stdin",
     "output_type": "stream",
     "text": [
      " 10\n",
      " 20\n",
      " 30\n"
     ]
    },
    {
     "data": {
      "text/plain": [
       "'30'"
      ]
     },
     "execution_count": 2,
     "metadata": {},
     "output_type": "execute_result"
    }
   ],
   "source": [
    "input()\n",
    "input()\n",
    "input()\n"
   ]
  },
  {
   "cell_type": "code",
   "execution_count": 28,
   "id": "f2cd570b-3d17-448b-8a1e-78947d4c89e1",
   "metadata": {},
   "outputs": [
    {
     "name": "stdin",
     "output_type": "stream",
     "text": [
      "Enter the number1: 100\n",
      "Enter the number2: 200\n",
      "Enter the number3: 300\n"
     ]
    },
    {
     "data": {
      "text/plain": [
       "'100200300'"
      ]
     },
     "execution_count": 28,
     "metadata": {},
     "output_type": "execute_result"
    }
   ],
   "source": [
    "a=input(\"Enter the number1:\") # a='100'\n",
    "b=input(\"Enter the number2:\") # b='200'\n",
    "c=input(\"Enter the number3:\") # c='300'\n",
    "a+b+c # '100'+'200'+'300'= '100200300'"
   ]
  },
  {
   "cell_type": "code",
   "execution_count": 33,
   "id": "2789370f-d034-461e-afd1-635ba45d5fbc",
   "metadata": {},
   "outputs": [
    {
     "name": "stdin",
     "output_type": "stream",
     "text": [
      "Enter the number1: 100\n",
      "Enter the number2: 200\n"
     ]
    },
    {
     "data": {
      "text/plain": [
       "300"
      ]
     },
     "execution_count": 33,
     "metadata": {},
     "output_type": "execute_result"
    }
   ],
   "source": [
    "a=input(\"Enter the number1:\") # a='100' \n",
    "b=input(\"Enter the number2:\") # b='200'\n",
    "int(a)+int(b) # int('100') + int('200') = 300"
   ]
  },
  {
   "cell_type": "markdown",
   "id": "c4e207ad-22b1-44e7-8a79-4725d4bee65c",
   "metadata": {},
   "source": [
    "**Note**\n",
    "- input always give the string data type only\n",
    "- in order to perform math calculations we need to convert into numerical format i.e. int or float"
   ]
  },
  {
   "cell_type": "code",
   "execution_count": 38,
   "id": "bf7ad404-deeb-49ff-aa01-dddbadd1ce3b",
   "metadata": {},
   "outputs": [
    {
     "name": "stdin",
     "output_type": "stream",
     "text": [
      "Enter the number1: 100\n",
      "Enter the number2: 200.3\n"
     ]
    },
    {
     "data": {
      "text/plain": [
       "300.3"
      ]
     },
     "execution_count": 38,
     "metadata": {},
     "output_type": "execute_result"
    }
   ],
   "source": [
    "a=eval(input(\"Enter the number1:\")) # a=int('100') ---> 100\n",
    "b=eval(input(\"Enter the number2:\")) # b=int('200') ---> 200\n",
    "a+b # 100 + 200 = 300\n"
   ]
  },
  {
   "cell_type": "markdown",
   "id": "26d74aea-6860-4562-9852-d077e741bfa2",
   "metadata": {},
   "source": [
    "**Eval**\n",
    "- eval means evaluate\n",
    "- what ever the number we enter, eval will convert to corressponding data type"
   ]
  },
  {
   "cell_type": "code",
   "execution_count": 18,
   "id": "ba0778c0-650e-452d-861a-3a43a90d9405",
   "metadata": {},
   "outputs": [],
   "source": [
    "# Write a program ask the user enter 3 numbers calculate average\n",
    "# Write a program ask the user enter 2 numbers calculate addition,subtraction,multiplication and division\n",
    "# Write a program ask the user enter radius values calculate area of circle\n",
    "# Write a program ask the user bill amount\n",
    "# Write a program ask the user how much tip you want to pay in percentage\n",
    "# Write a program ask the user total bill\n",
    "# Write a program ask the user bill amount in dollars\n",
    "# Write a program ask the user one dollar\n",
    "# Write a program ask the user bill amount in rupees\n",
    "# Write a program ask the user enter base height calculate area of triangle\n",
    "# Write a program ask the user length and breadth calculate area of rectangle"
   ]
  },
  {
   "cell_type": "code",
   "execution_count": 19,
   "id": "c6856296-0ac3-49ed-8fc1-c9acd7e70230",
   "metadata": {},
   "outputs": [
    {
     "name": "stdin",
     "output_type": "stream",
     "text": [
      "Enter the number1: 10\n",
      "Enter the number2: 20\n"
     ]
    },
    {
     "name": "stdout",
     "output_type": "stream",
     "text": [
      "average of 10 and 20 is 15.0\n",
      "addition of 10 and 20 is 30\n",
      "subtraction of 10 and 20 is -10\n",
      "multiplication of 10 and 20 is 200\n",
      "division of 10 and 20 is 0.5\n"
     ]
    }
   ],
   "source": [
    "# Write a program ask the user enter 3 numbers calculate average\n",
    "# Write a program ask the user enter 2 numbers calculate addition,subtraction,multiplication and division\n",
    "a=eval(input(\"Enter the number1:\")) \n",
    "b=eval(input(\"Enter the number2:\")) \n",
    "average=(a+b)/2 # 100 + 200 = 300\n",
    "print(f\"average of {a} and {b} is {average}\")\n",
    "add=a+b\n",
    "sub=a-b\n",
    "multiply=a*b\n",
    "division=a/b\n",
    "print(f\"addition of {a} and {b} is {add}\")\n",
    "print(f\"subtraction of {a} and {b} is {sub}\")\n",
    "print(f\"multiplication of {a} and {b} is {multiply}\")\n",
    "print(f\"division of {a} and {b} is {division}\")"
   ]
  },
  {
   "cell_type": "code",
   "execution_count": 3,
   "id": "1f09a94b-f94e-4fdf-adcf-3edb892e2fd8",
   "metadata": {},
   "outputs": [
    {
     "name": "stdin",
     "output_type": "stream",
     "text": [
      "Enter the radius 1\n"
     ]
    },
    {
     "name": "stdout",
     "output_type": "stream",
     "text": [
      "area of circle with radius 1 is: 3.14\n"
     ]
    }
   ],
   "source": [
    "# Write a program ask the user enter radius values calculate area of circle\n",
    "radius=eval(input(\"Enter the radius\"))\n",
    "pi_value=3.14\n",
    "Area=pi_value*radius*radius\n",
    "print(f\"area of circle with radius {radius} is: {Area}\")"
   ]
  },
  {
   "cell_type": "code",
   "execution_count": 28,
   "id": "04e4d34b-d410-4a33-baec-5e5a498ef01f",
   "metadata": {},
   "outputs": [
    {
     "name": "stdin",
     "output_type": "stream",
     "text": [
      "Enter the bill amount: 1000\n",
      "Enter the total bill: 1100\n"
     ]
    },
    {
     "name": "stdout",
     "output_type": "stream",
     "text": [
      "The tip percentage of bill amount 1000 from the total bill 1100 is: 10.0\n"
     ]
    }
   ],
   "source": [
    "# Write a program ask the user bill amount\n",
    "# Write a program ask the user how much tip you want to pay in percentage\n",
    "# Write a program ask the user total bill\n",
    "c=eval(input(\"Enter the bill amount:\")) \n",
    "e=eval(input(\"Enter the total bill:\"))\n",
    "tip_percentage=c/(e-c)\n",
    "print(f\"The tip percentage of bill amount {c} from the total bill {e} is: {tip_percentage}\")"
   ]
  },
  {
   "cell_type": "code",
   "execution_count": 23,
   "id": "740c70d3-6cf3-4a79-98df-687cadc3b604",
   "metadata": {},
   "outputs": [
    {
     "name": "stdin",
     "output_type": "stream",
     "text": [
      "Enter the bill amount in dollars: 100\n",
      "Enter the value of 1 dollar: 82.34\n"
     ]
    },
    {
     "name": "stdout",
     "output_type": "stream",
     "text": [
      "The bill amount in 100 dollars is 8234.0\n"
     ]
    }
   ],
   "source": [
    "# Write a program ask the user bill amount in dollars\n",
    "# Write a program ask the user one dollar\n",
    "# Write a program ask the user bill amount in rupees\n",
    "f=eval(input(\"Enter the bill amount in dollars:\"))\n",
    "g=eval(input(\"Enter the value of 1 dollar:\"))\n",
    "bill_amount=f*g\n",
    "print(f\"The bill amount in {f} dollars is {bill_amount}\")"
   ]
  },
  {
   "cell_type": "code",
   "execution_count": 30,
   "id": "0a41890c-a152-486a-b531-5a70bef6f9b3",
   "metadata": {},
   "outputs": [
    {
     "name": "stdin",
     "output_type": "stream",
     "text": [
      "Enter the base: 5\n",
      "Enter the height: 6\n"
     ]
    },
    {
     "name": "stdout",
     "output_type": "stream",
     "text": [
      "Area of triangle with base 5 and height 6 is 15.0\n"
     ]
    }
   ],
   "source": [
    "# Write a program ask the user enter base height calculate area of triangle\n",
    "base=eval(input(\"Enter the base:\"))\n",
    "height=eval(input(\"Enter the height:\"))\n",
    "Area=1/2*base*height\n",
    "print(f\"Area of triangle with base {base} and height {height} is {Area}\")"
   ]
  },
  {
   "cell_type": "code",
   "execution_count": 32,
   "id": "3a6f552a-bb50-4921-bedc-a462a87cc542",
   "metadata": {},
   "outputs": [
    {
     "name": "stdin",
     "output_type": "stream",
     "text": [
      "Enter the length: 10\n",
      "Enter the breadth: 20\n"
     ]
    },
    {
     "name": "stdout",
     "output_type": "stream",
     "text": [
      "Area of rectangle whose length 10 and breadth 20 is: 200\n"
     ]
    }
   ],
   "source": [
    "# Write a program ask the user length and breadth calculate area of rectangle\n",
    "length=eval(input(\"Enter the length:\"))\n",
    "breadth=eval(input(\"Enter the breadth:\"))\n",
    "Area=length*breadth\n",
    "print(f\"Area of rectangle whose length {length} and breadth {breadth} is: {Area}\")  "
   ]
  }
 ],
 "metadata": {
  "kernelspec": {
   "display_name": "Python 3 (ipykernel)",
   "language": "python",
   "name": "python3"
  },
  "language_info": {
   "codemirror_mode": {
    "name": "ipython",
    "version": 3
   },
   "file_extension": ".py",
   "mimetype": "text/x-python",
   "name": "python",
   "nbconvert_exporter": "python",
   "pygments_lexer": "ipython3",
   "version": "3.11.7"
  }
 },
 "nbformat": 4,
 "nbformat_minor": 5
}
