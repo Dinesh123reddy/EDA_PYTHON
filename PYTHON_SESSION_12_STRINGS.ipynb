{
 "cells": [
  {
   "cell_type": "markdown",
   "id": "8691d3a2-08b1-4b51-ab69-11a97fb55f96",
   "metadata": {},
   "source": [
    "**First part**\n",
    "- Initialization\n",
    "- type\n",
    "- len\n",
    "- max\n",
    "- min\n",
    "- sorted\n",
    "- reversed\n",
    "- in\n",
    "- for loop using in\n",
    "- index\n",
    "- for loop using index\n",
    "- mutable\n",
    "- concatenation\n",
    "  \n",
    "**Second part**\n",
    "- methods"
   ]
  },
  {
   "cell_type": "code",
   "execution_count": 15,
   "id": "d8a956ad-e8ed-4ad4-9b48-427209bfef54",
   "metadata": {},
   "outputs": [
    {
     "data": {
      "text/plain": [
       "'python'"
      ]
     },
     "execution_count": 15,
     "metadata": {},
     "output_type": "execute_result"
    }
   ],
   "source": [
    "str1='python'\n",
    "str1"
   ]
  },
  {
   "cell_type": "code",
   "execution_count": 16,
   "id": "3531ccf6-bf96-4904-ab77-b1eb7bc718dc",
   "metadata": {},
   "outputs": [
    {
     "data": {
      "text/plain": [
       "'python'"
      ]
     },
     "execution_count": 16,
     "metadata": {},
     "output_type": "execute_result"
    }
   ],
   "source": [
    "str2=\"python\"\n",
    "str2"
   ]
  },
  {
   "cell_type": "markdown",
   "id": "6bea4baf-2821-4454-9c8f-45f50cc6d611",
   "metadata": {},
   "source": [
    "**Note**\n",
    "- If we mentioned single quotes or double quotes by default python provides output in single quotes\n",
    "- If we print the strings, we will answer without quotes"
   ]
  },
  {
   "cell_type": "markdown",
   "id": "8f57fe3e-45a0-404d-9129-bf21af00a380",
   "metadata": {},
   "source": [
    "**Triple quotes**"
   ]
  },
  {
   "cell_type": "code",
   "execution_count": 19,
   "id": "c7fb2972-402a-4779-8bc8-38fd777d09af",
   "metadata": {},
   "outputs": [
    {
     "data": {
      "text/plain": [
       "'Hi how are you?\\nIam fine!'"
      ]
     },
     "execution_count": 19,
     "metadata": {},
     "output_type": "execute_result"
    }
   ],
   "source": [
    "str3=\"\"\"Hi how are you?\n",
    "Iam fine!\"\"\"\n",
    "str3"
   ]
  },
  {
   "cell_type": "code",
   "execution_count": 20,
   "id": "e8cf2478-d256-4b6b-af3f-3499d0a98a15",
   "metadata": {},
   "outputs": [
    {
     "name": "stdout",
     "output_type": "stream",
     "text": [
      "Hi how are you?\n",
      "Iam fine!\n"
     ]
    }
   ],
   "source": [
    "print(str3)"
   ]
  },
  {
   "cell_type": "markdown",
   "id": "4664bb81-dfd5-473e-803a-78f13afb1c9f",
   "metadata": {},
   "source": [
    "**Note**\n",
    "- If we mentioned single quotes or double quotes by default python provides output in single quotes\n",
    "- If we print the strings, we will answer without quotes\n",
    "- Triple quotes are using for doc string\n",
    "- In order to convey the information about coding part we will use doc string\n",
    "- Anything inside the single quotes or double quotes is considered as strings"
   ]
  },
  {
   "cell_type": "markdown",
   "id": "34c8d05b-805d-49a0-bb20-6d9e8a58276f",
   "metadata": {},
   "source": [
    "**type**"
   ]
  },
  {
   "cell_type": "code",
   "execution_count": 22,
   "id": "5fb1913d-0417-4e57-9cab-fef8c136e02d",
   "metadata": {},
   "outputs": [
    {
     "name": "stdout",
     "output_type": "stream",
     "text": [
      "<class 'str'>\n",
      "<class 'str'>\n",
      "<class 'str'>\n"
     ]
    }
   ],
   "source": [
    "print(type(str1))\n",
    "print(type(str2))\n",
    "print(type(str3))"
   ]
  },
  {
   "cell_type": "code",
   "execution_count": 23,
   "id": "11f51c83-4234-4d45-951d-a45a9f76f33d",
   "metadata": {},
   "outputs": [],
   "source": [
    "str4='10' # integer value in string format\n",
    "str5='10.5' # float value in the form of string\n",
    "str6='123abc' # Alpha numeric value in the form of string\n",
    "str7='True' # Boolean value in the form of string\n",
    "str8='sinx'"
   ]
  },
  {
   "cell_type": "markdown",
   "id": "77fbc6c0-0d6a-4045-a9b3-36676541e69e",
   "metadata": {},
   "source": [
    "**len**"
   ]
  },
  {
   "cell_type": "code",
   "execution_count": 24,
   "id": "6b485aa7-d3dd-42bb-a696-3b5a47e2df1a",
   "metadata": {},
   "outputs": [
    {
     "data": {
      "text/plain": [
       "6"
      ]
     },
     "execution_count": 24,
     "metadata": {},
     "output_type": "execute_result"
    }
   ],
   "source": [
    "len(str1)"
   ]
  },
  {
   "cell_type": "markdown",
   "id": "5aa39503-fa02-4c09-a6dd-46f5db6d8a70",
   "metadata": {},
   "source": [
    "**max and min**"
   ]
  },
  {
   "cell_type": "code",
   "execution_count": 33,
   "id": "7e53ef87-3c3c-4401-87ff-9d8017c19cd6",
   "metadata": {},
   "outputs": [
    {
     "name": "stdout",
     "output_type": "stream",
     "text": [
      "u\n"
     ]
    },
    {
     "data": {
      "text/plain": [
       "'T'"
      ]
     },
     "execution_count": 33,
     "metadata": {},
     "output_type": "execute_result"
    }
   ],
   "source": [
    "print(max(str7))\n",
    "min(str7)"
   ]
  },
  {
   "cell_type": "markdown",
   "id": "d141ad69-feba-4339-bd5c-c8abae42498b",
   "metadata": {},
   "source": [
    "**Keywords vs Methods**"
   ]
  },
  {
   "cell_type": "markdown",
   "id": "14b3c45a-b588-4f29-b04b-74ce11bf6bea",
   "metadata": {},
   "source": [
    "**Keywords**\n",
    "- type(<>)\n",
    "- print(<>)\n",
    "- len(<>)\n",
    "- max(<>)\n",
    "- min(<>)\n",
    "- eval(<>)\n",
    "- input(<>)\n",
    "- if(<>)\n",
    "- elif(<>)\n",
    "- else(<>)\n",
    "- for(<>)\n",
    "- while(<>)\n",
    "- sum(<>)"
   ]
  },
  {
   "cell_type": "markdown",
   "id": "cdd06a7e-7e45-4a4c-a4dd-95ba36b694f9",
   "metadata": {},
   "source": [
    "**Methods**\n",
    "- For methods we need to import the package the first then only we can use package\n",
    "- import time\n",
    "- time.sleep(<>)\n",
    "- import math\n",
    "- math.sqrt(<>)"
   ]
  },
  {
   "cell_type": "markdown",
   "id": "af24126c-866a-44f9-a6e5-2c287b7f09d2",
   "metadata": {},
   "source": [
    "**Sum**"
   ]
  },
  {
   "cell_type": "code",
   "execution_count": 34,
   "id": "a1beeba4-d303-4a5d-9116-a0482b7b5ffb",
   "metadata": {},
   "outputs": [
    {
     "ename": "TypeError",
     "evalue": "unsupported operand type(s) for +: 'int' and 'str'",
     "output_type": "error",
     "traceback": [
      "\u001b[1;31m---------------------------------------------------------------------------\u001b[0m",
      "\u001b[1;31mTypeError\u001b[0m                                 Traceback (most recent call last)",
      "Cell \u001b[1;32mIn[34], line 2\u001b[0m\n\u001b[0;32m      1\u001b[0m str1\u001b[38;5;241m=\u001b[39m\u001b[38;5;124m'\u001b[39m\u001b[38;5;124mpython\u001b[39m\u001b[38;5;124m'\u001b[39m\n\u001b[1;32m----> 2\u001b[0m \u001b[38;5;28msum\u001b[39m(str1)\n",
      "\u001b[1;31mTypeError\u001b[0m: unsupported operand type(s) for +: 'int' and 'str'"
     ]
    }
   ],
   "source": [
    "str1='python'\n",
    "sum(str1)"
   ]
  },
  {
   "cell_type": "code",
   "execution_count": 36,
   "id": "4321e8fe-f3fb-4205-b24f-964c05b66292",
   "metadata": {},
   "outputs": [
    {
     "data": {
      "text/plain": [
       "'python'"
      ]
     },
     "execution_count": 36,
     "metadata": {},
     "output_type": "execute_result"
    }
   ],
   "source": [
    "'p'+'y'+'t'+'h'+'o'+'n'"
   ]
  },
  {
   "cell_type": "code",
   "execution_count": 37,
   "id": "5a02efb0-dc7f-4a28-a44e-5e792288bc4f",
   "metadata": {},
   "outputs": [
    {
     "data": {
      "text/plain": [
       "6"
      ]
     },
     "execution_count": 37,
     "metadata": {},
     "output_type": "execute_result"
    }
   ],
   "source": [
    "sum([1,2,3])"
   ]
  },
  {
   "cell_type": "markdown",
   "id": "e3566279-6663-4961-a23b-fec7d7a63496",
   "metadata": {},
   "source": [
    "**Sorted**"
   ]
  },
  {
   "cell_type": "code",
   "execution_count": 38,
   "id": "ab36ba55-9604-46b5-9511-75e8a3b67b0b",
   "metadata": {},
   "outputs": [
    {
     "data": {
      "text/plain": [
       "['h', 'n', 'o', 'p', 't', 'y']"
      ]
     },
     "execution_count": 38,
     "metadata": {},
     "output_type": "execute_result"
    }
   ],
   "source": [
    "sorted(str1)"
   ]
  },
  {
   "cell_type": "markdown",
   "id": "b1fa97a7-91fd-4e8a-b739-8d040a686757",
   "metadata": {},
   "source": [
    "**Note**\n",
    "- sorting gives ascending order based on ASCII numbers\n",
    "- sorted is kind of a function\n",
    "- Every function we have arguments\n",
    "- In that one default argument is **reverse=False**\n",
    "- By default sorted output gives **ascending order**\n",
    "- We can change the order, by providing **reverse=True**\n",
    "- **If we do not mention, it will give the default answer**"
   ]
  },
  {
   "cell_type": "code",
   "execution_count": 46,
   "id": "d5ba92cc-aae3-466f-b967-d6b8a0c6a4ab",
   "metadata": {},
   "outputs": [
    {
     "data": {
      "text/plain": [
       "['s', 'n', 'i', 'h', 'e', 'D']"
      ]
     },
     "execution_count": 46,
     "metadata": {},
     "output_type": "execute_result"
    }
   ],
   "source": [
    "sorted('Dinesh',reverse=True)"
   ]
  },
  {
   "cell_type": "code",
   "execution_count": 41,
   "id": "97763ffe-1c9d-4c62-862d-0d978d629d6c",
   "metadata": {},
   "outputs": [
    {
     "data": {
      "text/plain": [
       "0j"
      ]
     },
     "execution_count": 41,
     "metadata": {},
     "output_type": "execute_result"
    }
   ],
   "source": [
    "complex() # 0+0j"
   ]
  },
  {
   "cell_type": "code",
   "execution_count": 44,
   "id": "8e4397a1-bbb3-4884-ac36-55e59f1fae31",
   "metadata": {},
   "outputs": [
    {
     "name": "stdout",
     "output_type": "stream",
     "text": [
      "(1+0j)\n",
      "(1+2j)\n",
      "(10+20j)\n"
     ]
    }
   ],
   "source": [
    "print(complex(1))  # It takes only real value and imaginary part will be zero\n",
    "print(complex(1,2)) # It takes both real and imaginary values as 1=real and 2=imaginary\n",
    "print(complex(real=10,imag=20)) # We can represent the values as real and imag"
   ]
  },
  {
   "cell_type": "code",
   "execution_count": 59,
   "id": "faf30805-5563-46bc-90a5-9274ec4bd726",
   "metadata": {},
   "outputs": [
    {
     "ename": "TypeError",
     "evalue": "sorted expected 1 argument, got 0",
     "output_type": "error",
     "traceback": [
      "\u001b[1;31m---------------------------------------------------------------------------\u001b[0m",
      "\u001b[1;31mTypeError\u001b[0m                                 Traceback (most recent call last)",
      "Cell \u001b[1;32mIn[59], line 1\u001b[0m\n\u001b[1;32m----> 1\u001b[0m \u001b[38;5;28msorted\u001b[39m(iterable\u001b[38;5;241m=\u001b[39m\u001b[38;5;124m'\u001b[39m\u001b[38;5;124mpython\u001b[39m\u001b[38;5;124m'\u001b[39m) \u001b[38;5;66;03m# Error\u001b[39;00m\n\u001b[0;32m      2\u001b[0m random\u001b[38;5;241m.\u001b[39mrandint(a\u001b[38;5;241m=\u001b[39m\u001b[38;5;241m10\u001b[39m,b\u001b[38;5;241m=\u001b[39m\u001b[38;5;241m20\u001b[39m)\n",
      "\u001b[1;31mTypeError\u001b[0m: sorted expected 1 argument, got 0"
     ]
    }
   ],
   "source": [
    "sorted(iterable='python') # Error\n",
    "random.randint(a=10,b=20) # Answer"
   ]
  },
  {
   "cell_type": "markdown",
   "id": "092ba0e2-7ce9-4ff7-b574-db8790e62291",
   "metadata": {},
   "source": [
    "**Note**\n",
    "- We have arguments before / and after /\n",
    "- We can use the argument names after / only\n",
    "- For example sorted has two arguments one is iterable and another is reverse\n",
    "- iterable is before / symbol \n",
    "- reverse is mentioned after / symbol\n",
    "- So we can use only reverse argument name while we are doing the work\n",
    "- We cannot use iterable argument name \n",
    "- Instead of using iterable name we can provide direct value at that position"
   ]
  },
  {
   "cell_type": "markdown",
   "id": "63a57485-1f8c-4290-a55f-f2ece7ba0b9b",
   "metadata": {},
   "source": [
    "**reversed**"
   ]
  },
  {
   "cell_type": "code",
   "execution_count": 62,
   "id": "75a4acac-e011-4c3d-86ad-49b6a1917fed",
   "metadata": {},
   "outputs": [
    {
     "data": {
      "text/plain": [
       "<reversed at 0x19405dd7700>"
      ]
     },
     "execution_count": 62,
     "metadata": {},
     "output_type": "execute_result"
    }
   ],
   "source": [
    "reversed('python')"
   ]
  },
  {
   "cell_type": "markdown",
   "id": "634fa7eb-8a74-4efe-a829-e28e7b16e5c0",
   "metadata": {},
   "source": [
    "- I already done my work\n",
    "- Your output is stored in that memory location\n",
    "- Whenever you see this kind of answer less than and greater than symbol or memory\n",
    "- use for loop to see the output"
   ]
  },
  {
   "cell_type": "code",
   "execution_count": 65,
   "id": "352308c9-5ee3-4e87-a31e-22583eac80f2",
   "metadata": {},
   "outputs": [
    {
     "name": "stdout",
     "output_type": "stream",
     "text": [
      "h\n",
      "s\n",
      "e\n",
      "n\n",
      "i\n",
      "D\n"
     ]
    }
   ],
   "source": [
    "str11='Dinesh'\n",
    "output=reversed(str11)\n",
    "for i in output:\n",
    "    print(i)"
   ]
  },
  {
   "cell_type": "code",
   "execution_count": 11,
   "id": "11d273e8-1493-4b8e-8972-9a5d59102c22",
   "metadata": {},
   "outputs": [
    {
     "data": {
      "text/plain": [
       "['s', 'r', 'n', 'h', 'e', 'a']"
      ]
     },
     "execution_count": 11,
     "metadata": {},
     "output_type": "execute_result"
    }
   ],
   "source": [
    "sorted('naresh',reverse=True)"
   ]
  },
  {
   "cell_type": "markdown",
   "id": "e733ace4-8ab8-4426-90dd-56a187ef69c0",
   "metadata": {},
   "source": [
    "**in**"
   ]
  },
  {
   "cell_type": "code",
   "execution_count": 16,
   "id": "bc0c7d4c-ec68-4779-9400-e408e3261dc5",
   "metadata": {},
   "outputs": [
    {
     "data": {
      "text/plain": [
       "True"
      ]
     },
     "execution_count": 16,
     "metadata": {},
     "output_type": "execute_result"
    }
   ],
   "source": [
    "str1='Dinesh'\n",
    "'n' in str1"
   ]
  },
  {
   "cell_type": "code",
   "execution_count": 18,
   "id": "14c25771-f151-47ed-8939-d5e2258a7f59",
   "metadata": {},
   "outputs": [
    {
     "data": {
      "text/plain": [
       "True"
      ]
     },
     "execution_count": 18,
     "metadata": {},
     "output_type": "execute_result"
    }
   ],
   "source": [
    "str1='Dinesh'\n",
    "'nn' not in str1"
   ]
  },
  {
   "cell_type": "markdown",
   "id": "5fcbe61c-9856-4a6a-9fa8-b66de3bce0de",
   "metadata": {},
   "source": [
    "**Note**\n",
    "- In operator directly access the letters"
   ]
  },
  {
   "cell_type": "code",
   "execution_count": 28,
   "id": "497adf59-48af-4ad5-b316-23004932ae53",
   "metadata": {},
   "outputs": [
    {
     "name": "stdout",
     "output_type": "stream",
     "text": [
      "3\n"
     ]
    }
   ],
   "source": [
    "# Ask the user count how many 'a' are present in a given string\n",
    "# str2= 'hai naresh how are you'\n",
    "count=0\n",
    "str2='hai naresh how are you'\n",
    "for i in str2:\n",
    "    if 'a'in i:\n",
    "        count+=1\n",
    "print(count)"
   ]
  },
  {
   "cell_type": "code",
   "execution_count": 39,
   "id": "806641d5-5599-4039-b849-7367eb0e5fcd",
   "metadata": {},
   "outputs": [
    {
     "name": "stdout",
     "output_type": "stream",
     "text": [
      "9\n"
     ]
    }
   ],
   "source": [
    "# wap ask the user find how many vowels are there in a given string\n",
    "# str3= 'hai naresh how are you'\n",
    "count=0\n",
    "str3='hai naresh how are you'\n",
    "for i in str3:\n",
    "    if i in'aeiou':\n",
    "        count+=1\n",
    "print(count)"
   ]
  },
  {
   "cell_type": "code",
   "execution_count": 1,
   "id": "17909a1c-bd63-42b4-a428-68d0979855e4",
   "metadata": {},
   "outputs": [
    {
     "name": "stdout",
     "output_type": "stream",
     "text": [
      "5\n"
     ]
    }
   ],
   "source": [
    "# str4= 'hai naresh how are you'\n",
    "# repeated vowels are there\n",
    "# we dont want repeated vowels\n",
    "# count the vowels which should not repeated\n",
    "str4= 'hai naresh how are you'\n",
    "str5=''\n",
    "count=0\n",
    "for i in str4:\n",
    "    if i in 'aeiou':\n",
    "        if i not in str5:\n",
    "            count+=1\n",
    "            str5=str5+i\n",
    "        \n",
    "print(len(str5))"
   ]
  },
  {
   "cell_type": "markdown",
   "id": "39415de6-85d0-45f5-8ecd-d0951bf601b0",
   "metadata": {},
   "source": [
    "**How to update the empty strings**"
   ]
  },
  {
   "cell_type": "code",
   "execution_count": 56,
   "id": "9c5abbd2-f442-4985-8de1-f31bd57891ef",
   "metadata": {},
   "outputs": [
    {
     "data": {
      "text/plain": [
       "'Dinesh'"
      ]
     },
     "execution_count": 56,
     "metadata": {},
     "output_type": "execute_result"
    }
   ],
   "source": [
    "s1='Dinesh'\n",
    "s2=''\n",
    "for i in s1:\n",
    "    s2=s2+i\n",
    "s2"
   ]
  },
  {
   "cell_type": "markdown",
   "id": "5921a4d7-66a9-4846-abb7-e217e6347ca4",
   "metadata": {},
   "source": [
    "**Concatenation**"
   ]
  },
  {
   "cell_type": "code",
   "execution_count": 58,
   "id": "098dc5f6-97fd-41bb-984c-a1c64431a169",
   "metadata": {},
   "outputs": [
    {
     "data": {
      "text/plain": [
       "'Dinesh Reddy'"
      ]
     },
     "execution_count": 58,
     "metadata": {},
     "output_type": "execute_result"
    }
   ],
   "source": [
    "s1='Dinesh'\n",
    "s2=' Reddy'\n",
    "s1+s2"
   ]
  },
  {
   "cell_type": "code",
   "execution_count": 62,
   "id": "82a0160c-f75d-4ff3-8324-3aa99aa63d53",
   "metadata": {},
   "outputs": [
    {
     "ename": "TypeError",
     "evalue": "can't multiply sequence by non-int of type 'str'",
     "output_type": "error",
     "traceback": [
      "\u001b[1;31m---------------------------------------------------------------------------\u001b[0m",
      "\u001b[1;31mTypeError\u001b[0m                                 Traceback (most recent call last)",
      "Cell \u001b[1;32mIn[62], line 3\u001b[0m\n\u001b[0;32m      1\u001b[0m s1\u001b[38;5;241m=\u001b[39m\u001b[38;5;124m'\u001b[39m\u001b[38;5;124mDinesh\u001b[39m\u001b[38;5;124m'\u001b[39m\n\u001b[0;32m      2\u001b[0m s2\u001b[38;5;241m=\u001b[39m\u001b[38;5;124m'\u001b[39m\u001b[38;5;124m Reddy\u001b[39m\u001b[38;5;124m'\u001b[39m\n\u001b[1;32m----> 3\u001b[0m s1\u001b[38;5;241m*\u001b[39ms2\n\u001b[0;32m      4\u001b[0m s1\u001b[38;5;241m/\u001b[39ms2\n\u001b[0;32m      5\u001b[0m s1\u001b[38;5;241m-\u001b[39ms2\n",
      "\u001b[1;31mTypeError\u001b[0m: can't multiply sequence by non-int of type 'str'"
     ]
    }
   ],
   "source": [
    "s1='Dinesh'\n",
    "s2=' Reddy'\n",
    "s1*s2\n",
    "s1/s2\n",
    "s1-s2"
   ]
  },
  {
   "cell_type": "markdown",
   "id": "d5c0c754-dcf8-460b-a13a-edb75d06fef5",
   "metadata": {},
   "source": [
    "**Index**"
   ]
  },
  {
   "cell_type": "markdown",
   "id": "d0518c73-9934-48ba-bf29-c02213d9a469",
   "metadata": {},
   "source": [
    "- Index meaning a number attached to a letter\n",
    "- In python index starts with zero\n",
    "- We have two directions\n",
    "   - Positive direction\n",
    "     - Positive numbers starts with zero\n",
    "   - Negative direction\n",
    "     - Negative numbers starts with -1, applicable to last letter"
   ]
  },
  {
   "cell_type": "code",
   "execution_count": 72,
   "id": "b5d79e25-49c9-4b22-afbe-72ae2728d1b4",
   "metadata": {},
   "outputs": [
    {
     "data": {
      "text/plain": [
       "('p', 'y', 't', 'h', 'o', 'n')"
      ]
     },
     "execution_count": 72,
     "metadata": {},
     "output_type": "execute_result"
    }
   ],
   "source": [
    "s1='python'\n",
    "s1[0],s1[1],s1[2],s1[3],s1[4],s1[5]"
   ]
  },
  {
   "cell_type": "code",
   "execution_count": 73,
   "id": "d05a8aa2-013c-4a42-828e-1ad806a6dfc9",
   "metadata": {},
   "outputs": [
    {
     "data": {
      "text/plain": [
       "('n', 'o', 'h', 't', 'y', 'p')"
      ]
     },
     "execution_count": 73,
     "metadata": {},
     "output_type": "execute_result"
    }
   ],
   "source": [
    "s1='python'\n",
    "s1[-1],s1[-2],s1[-3],s1[-4],s1[-5],s1[-6]"
   ]
  },
  {
   "cell_type": "markdown",
   "id": "6b35aa87-1776-4806-aaa3-e1a3e4c3b3c0",
   "metadata": {},
   "source": [
    "**Mutable-Immutable**\n",
    "- Mutable : It can change\n",
    "- We can change using indexing\n",
    "- Immutable : It cannot change\n",
    "- We cannot change using indexing"
   ]
  },
  {
   "cell_type": "code",
   "execution_count": 7,
   "id": "f6a65a2c-57b1-44c5-bd03-4e834aff2f83",
   "metadata": {},
   "outputs": [
    {
     "ename": "TypeError",
     "evalue": "'str' object does not support item assignment",
     "output_type": "error",
     "traceback": [
      "\u001b[1;31m---------------------------------------------------------------------------\u001b[0m",
      "\u001b[1;31mTypeError\u001b[0m                                 Traceback (most recent call last)",
      "Cell \u001b[1;32mIn[7], line 5\u001b[0m\n\u001b[0;32m      1\u001b[0m s\u001b[38;5;241m=\u001b[39m\u001b[38;5;124m'\u001b[39m\u001b[38;5;124mWelcome\u001b[39m\u001b[38;5;124m'\u001b[39m \u001b[38;5;66;03m# WeLcome\u001b[39;00m\n\u001b[0;32m      2\u001b[0m \u001b[38;5;66;03m# I want to replace 'l' with 'L'\u001b[39;00m\n\u001b[0;32m      3\u001b[0m \u001b[38;5;66;03m# Possible\u001b[39;00m\n\u001b[0;32m      4\u001b[0m \u001b[38;5;66;03m# Not Possible\u001b[39;00m\n\u001b[1;32m----> 5\u001b[0m s[\u001b[38;5;241m2\u001b[39m]\u001b[38;5;241m=\u001b[39m\u001b[38;5;124m'\u001b[39m\u001b[38;5;124mL\u001b[39m\u001b[38;5;124m'\u001b[39m\n",
      "\u001b[1;31mTypeError\u001b[0m: 'str' object does not support item assignment"
     ]
    }
   ],
   "source": [
    "s='Welcome' # WeLcome\n",
    "# I want to replace 'l' with 'L'\n",
    "# Possible\n",
    "# Not Possible\n",
    "s[2]='L'"
   ]
  },
  {
   "cell_type": "markdown",
   "id": "11e84d0b-fc65-4b51-909f-7eee496c0f13",
   "metadata": {},
   "source": [
    "**Strings** **are immutable**"
   ]
  },
  {
   "cell_type": "code",
   "execution_count": 8,
   "id": "f1e3df0b-b0a3-4d2f-8c49-b9ac4bed9b6e",
   "metadata": {},
   "outputs": [
    {
     "data": {
      "text/plain": [
       "[1, 200, 3, 4]"
      ]
     },
     "execution_count": 8,
     "metadata": {},
     "output_type": "execute_result"
    }
   ],
   "source": [
    "l=[1,2,3,4] # 2=200\n",
    "l[1]=200\n",
    "l"
   ]
  },
  {
   "cell_type": "markdown",
   "id": "994a37a1-1e0e-4e6e-b2e6-bf1cfa190633",
   "metadata": {},
   "source": [
    "**Lists are mutable**"
   ]
  },
  {
   "cell_type": "markdown",
   "id": "8a03bfa6-6b83-4edd-9091-bad71e4109cf",
   "metadata": {},
   "source": [
    "- range belongs to which family\n",
    "      - **math family**\n",
    "- inside range bracket what we need to provide\n",
    "      - **number**\n",
    "- How many numbers we need to provide\n",
    "      - **Number of letters : len(string)**\n",
    "- How to access the letter using number\n",
    "      - **By using index**"
   ]
  },
  {
   "cell_type": "code",
   "execution_count": 13,
   "id": "4cb35262-278b-4006-8e5a-0e1cd78bc028",
   "metadata": {},
   "outputs": [
    {
     "name": "stdout",
     "output_type": "stream",
     "text": [
      "PALLE DINESH REDDY"
     ]
    }
   ],
   "source": [
    "# Print each letter using for loop range\n",
    "a='PALLE DINESH REDDY'\n",
    "# Range belongs to math family\n",
    "# inside bracket we need to provide a number\n",
    "# How many numbers we need to provide\n",
    "#           number of letters are = 18\n",
    "# How to access a letter using number:\n",
    "for i in range(len(a)):\n",
    "    print(a[i],end=\"\")"
   ]
  },
  {
   "cell_type": "markdown",
   "id": "a8501359-dc60-4ed0-a638-2947e39d828c",
   "metadata": {},
   "source": [
    "- **for-in** directly access the letter\n",
    "- **for-range** will access using index"
   ]
  },
  {
   "cell_type": "code",
   "execution_count": 14,
   "id": "c3c2637b-24a9-479a-976b-acc5aa84ca88",
   "metadata": {},
   "outputs": [
    {
     "name": "stdout",
     "output_type": "stream",
     "text": [
      "PALLE DINESH REDDY"
     ]
    }
   ],
   "source": [
    "b='PALLE DINESH REDDY'\n",
    "for i in b:\n",
    "    print(i,end=\"\")"
   ]
  },
  {
   "cell_type": "code",
   "execution_count": 15,
   "id": "2326029f-a1aa-4426-afb7-958fb5167f05",
   "metadata": {},
   "outputs": [
    {
     "name": "stdout",
     "output_type": "stream",
     "text": [
      "PALLE DINESH REDDY"
     ]
    }
   ],
   "source": [
    "a='PALLE DINESH REDDY'\n",
    "for i in range(len(a)):\n",
    "    print(a[i],end=\"\")"
   ]
  },
  {
   "cell_type": "code",
   "execution_count": 20,
   "id": "06e089af-eec6-4fb8-a084-f9ffd32fccac",
   "metadata": {},
   "outputs": [
    {
     "name": "stdout",
     "output_type": "stream",
     "text": [
      "0 w\n",
      "The positive index of w is 0\n",
      "1 e\n",
      "The positive index of e is 1\n",
      "2 l\n",
      "The positive index of l is 2\n",
      "3 c\n",
      "The positive index of c is 3\n",
      "4 o\n",
      "The positive index of o is 4\n",
      "5 m\n",
      "The positive index of m is 5\n",
      "6 e\n",
      "The positive index of e is 6\n"
     ]
    }
   ],
   "source": [
    "# wap ask the user iterate using a string\n",
    "# str='welcome'\n",
    "# print the positive index of w is 0\n",
    "# print the positive index of e is 1\n",
    "str='welcome'\n",
    "for i in range(len(str)):\n",
    "    print(i,str[i])\n",
    "    print(f\"The positive index of {str[i]} is {i}\")"
   ]
  },
  {
   "cell_type": "code",
   "execution_count": 21,
   "id": "59248bee-3a61-49a0-ad65-d95fc0e97c59",
   "metadata": {},
   "outputs": [
    {
     "name": "stdout",
     "output_type": "stream",
     "text": [
      "-7 w\n",
      "The negative index of w is -7\n",
      "-6 e\n",
      "The negative index of e is -6\n",
      "-5 l\n",
      "The negative index of l is -5\n",
      "-4 c\n",
      "The negative index of c is -4\n",
      "-3 o\n",
      "The negative index of o is -3\n",
      "-2 m\n",
      "The negative index of m is -2\n",
      "-1 e\n",
      "The negative index of e is -1\n"
     ]
    }
   ],
   "source": [
    "# wap ask the user iterate using a string\n",
    "# str='welcome'\n",
    "# print the negative index of w is -7\n",
    "# print the negative index of e is -6\n",
    "str='welcome'\n",
    "for i in range(len(str)):\n",
    "    print(i-len(str),str[i])\n",
    "    print(f\"The negative index of {str[i]} is {i-len(str)}\")"
   ]
  },
  {
   "cell_type": "code",
   "execution_count": 22,
   "id": "19523636-9866-46a9-aa40-615cf86a1311",
   "metadata": {},
   "outputs": [
    {
     "name": "stdout",
     "output_type": "stream",
     "text": [
      "The positive index is 0 and the negative index is -7 for w\n",
      "The positive index is 1 and the negative index is -6 for e\n",
      "The positive index is 2 and the negative index is -5 for l\n",
      "The positive index is 3 and the negative index is -4 for c\n",
      "The positive index is 4 and the negative index is -3 for o\n",
      "The positive index is 5 and the negative index is -2 for m\n",
      "The positive index is 6 and the negative index is -1 for e\n"
     ]
    }
   ],
   "source": [
    "# The positive index is 0 and negative index -7 for 'w'\n",
    "str='welcome'\n",
    "for i in range(len(str)):\n",
    "    print(f\"The positive index is {i} and the negative index is {i-len(str)} for {str[i]}\")"
   ]
  },
  {
   "cell_type": "code",
   "execution_count": 31,
   "id": "321a19f2-911e-48a4-b206-39239aa12c6d",
   "metadata": {},
   "outputs": [
    {
     "name": "stdout",
     "output_type": "stream",
     "text": [
      "1\n",
      "8\n",
      "18\n"
     ]
    }
   ],
   "source": [
    "# wap ask the user get the index of each 'a' in a given string\n",
    "# str1='Hai how are you i am good'\n",
    "str1='Hai how are you i am good'\n",
    "for i in range(len(str1)):\n",
    "    if 'a' in str1[i]:\n",
    "        print(i)"
   ]
  },
  {
   "cell_type": "code",
   "execution_count": 32,
   "id": "a007c05e-577a-4615-b6f2-a43ecbc94abc",
   "metadata": {},
   "outputs": [
    {
     "name": "stdout",
     "output_type": "stream",
     "text": [
      "3\n"
     ]
    }
   ],
   "source": [
    "# wap ask the user to get count of number of 'a' in a given string \n",
    "count=0\n",
    "str1='Hai how are you i am good'\n",
    "for i in range(len(str1)):\n",
    "    if 'a' in str1[i]:\n",
    "        count+=1\n",
    "print(count)"
   ]
  },
  {
   "cell_type": "code",
   "execution_count": 33,
   "id": "559809f8-c40c-450a-9522-f6c1f45c3085",
   "metadata": {},
   "outputs": [
    {
     "name": "stdout",
     "output_type": "stream",
     "text": [
      "27\n"
     ]
    }
   ],
   "source": [
    "# wap ask the user get the sum of all index numbers of 'a'\n",
    "summ=0\n",
    "str1='Hai how are you i am good'\n",
    "for i in range(len(str1)):\n",
    "    if 'a' in str1[i]:\n",
    "        summ+=i\n",
    "print(summ)"
   ]
  },
  {
   "cell_type": "code",
   "execution_count": 42,
   "id": "adfcc3b9-49ae-4ff0-87a2-dd7e18d29a0f",
   "metadata": {},
   "outputs": [
    {
     "name": "stdout",
     "output_type": "stream",
     "text": [
      "a i o a e o u i a o o "
     ]
    }
   ],
   "source": [
    "# wap ask the user get the vowels from a given string using for-range\n",
    "str1='Hai how are you i am good'\n",
    "for i in range(len(str1)):\n",
    "    if str1[i] in 'aeiou':\n",
    "        print(str1[i],end=\" \")"
   ]
  },
  {
   "cell_type": "code",
   "execution_count": 57,
   "id": "c67b42eb-7164-4e99-9aeb-9e0062810755",
   "metadata": {},
   "outputs": [
    {
     "name": "stdout",
     "output_type": "stream",
     "text": [
      "aioeu"
     ]
    }
   ],
   "source": [
    "s='Hai how are you i am good'\n",
    "s1=''\n",
    "for i in range(len(s)):\n",
    "    if s[i] not in s1:\n",
    "        if s[i] in 'aeiou':\n",
    "            print(s[i],end=\"\")\n",
    "            s1=s[i]+s1"
   ]
  },
  {
   "cell_type": "code",
   "execution_count": 15,
   "id": "647d921d-d882-415a-adf3-a027389a8e65",
   "metadata": {},
   "outputs": [
    {
     "name": "stdout",
     "output_type": "stream",
     "text": [
      "3\n"
     ]
    }
   ],
   "source": [
    "# string='ola ola ola'\n",
    "# How many 'ola' are there\n",
    "s1='ola ola ola'\n",
    "count=0\n",
    "str=s1.split()\n",
    "for i in range(len(str)):\n",
    "    if str[i]=='ola':\n",
    "        count+=1\n",
    "print(count)"
   ]
  },
  {
   "cell_type": "code",
   "execution_count": 40,
   "id": "f6d4bced-1b49-466b-ba12-442e335c9e35",
   "metadata": {},
   "outputs": [
    {
     "name": "stdout",
     "output_type": "stream",
     "text": [
      "9\n"
     ]
    }
   ],
   "source": [
    "# string1='hello hello hello how how how how are you'\n",
    "# what is the most repeated word\n",
    "count=0\n",
    "s4='hello hello hello how how how how are you'\n",
    "str1=s4.split()\n",
    "for i in range(len(str1)):\n",
    "    for j in range(i):\n",
    "        if str1[i]==str1[j]:\n",
    "            count+=1\n",
    "\n",
    "print(count)"
   ]
  },
  {
   "cell_type": "code",
   "execution_count": 1,
   "id": "3b95706f-533f-4daf-847c-7e821604c6a8",
   "metadata": {},
   "outputs": [
    {
     "name": "stdout",
     "output_type": "stream",
     "text": [
      "hellooooo\n",
      "u\n"
     ]
    }
   ],
   "source": [
    "# string2='hellooooo how aree u'\n",
    "# what is the maximum length of word: hellooooo\n",
    "# what is the minimum length of word: u\n",
    "# Q16) string1='hellooooo how aree u'\n",
    "# what is the maximum length of word: helloooo\n",
    "# what is the minimum length of word: u\n",
    "str1='hellooooo how aree u'\n",
    "str2=str1.split()\n",
    "for i in range(len(str2)-1):\n",
    "    if len(str2[i])<len(str2[i+1]):\n",
    "        c=str2[i]\n",
    "        str2[i]=str2[i+1]\n",
    "        str2[i+1]=c\n",
    "print(str2[0])\n",
    "print(str2[len(str2)-1])"
   ]
  },
  {
   "cell_type": "code",
   "execution_count": 1,
   "id": "ba4d31f1-2c8d-4801-aadf-be0feea3365b",
   "metadata": {},
   "outputs": [],
   "source": [
    "# without using sorted then sort the letters\n"
   ]
  },
  {
   "cell_type": "markdown",
   "id": "5b8fd079-e54f-4b28-9c4f-3f5d914e6d56",
   "metadata": {},
   "source": [
    "**Slice**\n",
    "- we can cut into pieces\n",
    "- similar to range concept\n",
    "- start,stop,step here also"
   ]
  },
  {
   "cell_type": "code",
   "execution_count": 4,
   "id": "4e16f8c2-e148-4ab6-9edd-a83d28eadf75",
   "metadata": {},
   "outputs": [
    {
     "data": {
      "text/plain": [
       "'hai how are yo'"
      ]
     },
     "execution_count": 4,
     "metadata": {},
     "output_type": "execute_result"
    }
   ],
   "source": [
    "str1='hai how are you'\n",
    "str1[:-1]"
   ]
  },
  {
   "cell_type": "code",
   "execution_count": null,
   "id": "e5c7a312-d11b-4b1d-9b15-e6d24b0b08ab",
   "metadata": {},
   "outputs": [],
   "source": [
    "-15 -14 -13 -12 -11 -10 -9 -8 -7 -6 -5 -4   -3 -2 -1\n",
    " h   a   i        h   o  w     a  r  e       y  o  u\n",
    " 0   1   2   3    4   5  6  7  8  9  10  11 12 13  14 "
   ]
  },
  {
   "cell_type": "code",
   "execution_count": null,
   "id": "a89f5cc7-99f6-4166-852c-bbe8d066a912",
   "metadata": {},
   "outputs": [],
   "source": [
    "str1[start:stop:step]"
   ]
  },
  {
   "cell_type": "markdown",
   "id": "cdacadb9-d96c-4a38-ab24-0f1a6498e67d",
   "metadata": {},
   "source": [
    "$Pattern-1$"
   ]
  },
  {
   "cell_type": "markdown",
   "id": "3f792b25-34da-4c2e-a1b9-de2987081512",
   "metadata": {},
   "source": [
    "**str1[start]**"
   ]
  },
  {
   "cell_type": "markdown",
   "id": "f204169a-a1bc-48e5-8ce4-14b0317f5a65",
   "metadata": {},
   "source": [
    "- By default start value = start only\n",
    "- Last value nothing mentioned automatically it will go till = last only\n",
    "- Step nothing mentioned means, it is a positive direction and increment by 1"
   ]
  },
  {
   "cell_type": "code",
   "execution_count": 5,
   "id": "50a3cb4c-b961-4045-8fe5-b71db9dae426",
   "metadata": {},
   "outputs": [
    {
     "data": {
      "text/plain": [
       "'e you'"
      ]
     },
     "execution_count": 5,
     "metadata": {},
     "output_type": "execute_result"
    }
   ],
   "source": [
    "# -15 -14 -13 -12 -11 -10 -9 -8 -7 -6 -5 -4   -3 -2 -1\n",
    "#  h   a   i        h   o  w     a  r  e       y  o  u\n",
    "#  0   1   2   3    4   5  6  7  8  9  10  11 12 13  14 \n",
    "str1='hai how are you'\n",
    "str1[-5:]"
   ]
  },
  {
   "cell_type": "code",
   "execution_count": 19,
   "id": "4c014f7d-8fda-4398-b9bc-6fe9e9398168",
   "metadata": {},
   "outputs": [
    {
     "data": {
      "text/plain": [
       "'ow are you'"
      ]
     },
     "execution_count": 19,
     "metadata": {},
     "output_type": "execute_result"
    }
   ],
   "source": [
    "str1='hai how are you'\n",
    "str1[5:]"
   ]
  },
  {
   "cell_type": "code",
   "execution_count": null,
   "id": "ae4493ad-224c-45f3-bb92-3922fbb77216",
   "metadata": {},
   "outputs": [],
   "source": [
    "str1='hai how are you'\n",
    "str1[:-5]"
   ]
  },
  {
   "cell_type": "code",
   "execution_count": 18,
   "id": "1a5f6d5d-3f6a-4e6b-bb28-035c6c406783",
   "metadata": {},
   "outputs": [
    {
     "data": {
      "text/plain": [
       "'hai h'"
      ]
     },
     "execution_count": 18,
     "metadata": {},
     "output_type": "execute_result"
    }
   ],
   "source": [
    "str1='hai how are you'\n",
    "str1[:5]"
   ]
  },
  {
   "cell_type": "code",
   "execution_count": 17,
   "id": "ad7f71d3-a3fe-4132-ac21-e4ad2cdf2bc0",
   "metadata": {},
   "outputs": [
    {
     "data": {
      "text/plain": [
       "'hai how ar'"
      ]
     },
     "execution_count": 17,
     "metadata": {},
     "output_type": "execute_result"
    }
   ],
   "source": [
    "str1='hai how are you'\n",
    "str1[:-5]"
   ]
  },
  {
   "cell_type": "markdown",
   "id": "d9eb9f55-7f54-4488-b76b-b02c5560c068",
   "metadata": {},
   "source": [
    "$Pattern-2$"
   ]
  },
  {
   "cell_type": "markdown",
   "id": "92c9d7c5-5a64-4478-bfca-e4cf20f4ceb9",
   "metadata": {},
   "source": [
    "- str1[start,stop]\n",
    "- Start value means by default start only\n",
    "- Step is not mentioned positive direction\n",
    "- Last=stop-1"
   ]
  },
  {
   "cell_type": "code",
   "execution_count": 20,
   "id": "b15e4051-6ba5-4635-8f8e-26f8f959c827",
   "metadata": {},
   "outputs": [
    {
     "data": {
      "text/plain": [
       "''"
      ]
     },
     "execution_count": 20,
     "metadata": {},
     "output_type": "execute_result"
    }
   ],
   "source": [
    "str1='hai how are you'\n",
    "str1[14:-5]"
   ]
  },
  {
   "cell_type": "code",
   "execution_count": 21,
   "id": "5a58abb4-cff6-4840-a19c-fc640ccaadd3",
   "metadata": {},
   "outputs": [
    {
     "data": {
      "text/plain": [
       "'ow are yo'"
      ]
     },
     "execution_count": 21,
     "metadata": {},
     "output_type": "execute_result"
    }
   ],
   "source": [
    "str1='hai how are you'\n",
    "str1[5:14]"
   ]
  },
  {
   "cell_type": "code",
   "execution_count": 27,
   "id": "7ffd6566-d693-4e9a-a678-5dbd3143603d",
   "metadata": {},
   "outputs": [
    {
     "data": {
      "text/plain": [
       "'e yo'"
      ]
     },
     "execution_count": 27,
     "metadata": {},
     "output_type": "execute_result"
    }
   ],
   "source": [
    "str1='hai how are you'\n",
    "str1[-5:14]"
   ]
  },
  {
   "cell_type": "markdown",
   "id": "e991b8a2-3738-41e5-a811-91290e200dd0",
   "metadata": {},
   "source": [
    "**Truncation Behaviour**"
   ]
  },
  {
   "cell_type": "markdown",
   "id": "e7ea3f3b-33ca-4927-842a-7301e6e988d5",
   "metadata": {},
   "source": [
    "- Whenever string range is limited, but we provided unlimited number\n",
    "- String will consider till the range we have\n",
    "- In the above example our range only 15 letters\n",
    "- We provied 500, then 500 will truncate to till 15 letters"
   ]
  },
  {
   "cell_type": "code",
   "execution_count": 31,
   "id": "805a9f14-47b9-45e5-96f2-9526f0ed35fd",
   "metadata": {},
   "outputs": [
    {
     "data": {
      "text/plain": [
       "'ow are you'"
      ]
     },
     "execution_count": 31,
     "metadata": {},
     "output_type": "execute_result"
    }
   ],
   "source": [
    "str1='hai how are you'\n",
    "str1[5:500]"
   ]
  },
  {
   "cell_type": "code",
   "execution_count": 35,
   "id": "37bf735e-c3b0-437b-8ff6-0cbc7f1f4b0c",
   "metadata": {},
   "outputs": [
    {
     "data": {
      "text/plain": [
       "'hai how are you'"
      ]
     },
     "execution_count": 35,
     "metadata": {},
     "output_type": "execute_result"
    }
   ],
   "source": [
    "str1='hai how are you'\n",
    "str1[-500:500]"
   ]
  },
  {
   "cell_type": "code",
   "execution_count": 32,
   "id": "8625ca08-7e4f-478e-bc25-892ecdcefc4a",
   "metadata": {},
   "outputs": [
    {
     "data": {
      "text/plain": [
       "'u'"
      ]
     },
     "execution_count": 32,
     "metadata": {},
     "output_type": "execute_result"
    }
   ],
   "source": [
    "str1='hai how are you'\n",
    "str1[-1:500]"
   ]
  },
  {
   "cell_type": "code",
   "execution_count": 33,
   "id": "206cc3c4-7a3e-4b21-8e5a-2cc36fe69717",
   "metadata": {},
   "outputs": [
    {
     "data": {
      "text/plain": [
       "''"
      ]
     },
     "execution_count": 33,
     "metadata": {},
     "output_type": "execute_result"
    }
   ],
   "source": [
    "str1='hai how are you'\n",
    "str1[500:]"
   ]
  },
  {
   "cell_type": "markdown",
   "id": "09b1e8c6-2dc2-4f26-b820-b6cd3cbbc636",
   "metadata": {},
   "source": [
    "$Pattern-3$"
   ]
  },
  {
   "cell_type": "markdown",
   "id": "6cc85ca0-2720-4e51-9af4-deb5a375e6fc",
   "metadata": {},
   "source": [
    "- str1[start,stop,step]\n",
    "- Start value means by default start only\n",
    "- Step is not mentioned positive direction\n",
    "- Last=stop-1"
   ]
  },
  {
   "cell_type": "code",
   "execution_count": 9,
   "id": "586899b5-650b-4efc-8cd7-93f7928ecd91",
   "metadata": {},
   "outputs": [
    {
     "data": {
      "text/plain": [
       "'eyu'"
      ]
     },
     "execution_count": 9,
     "metadata": {},
     "output_type": "execute_result"
    }
   ],
   "source": [
    "str1='hai how are you'\n",
    "str1[-5::2]"
   ]
  },
  {
   "cell_type": "code",
   "execution_count": 10,
   "id": "2fbcd68e-8226-48a2-b13c-e2e9fb90875a",
   "metadata": {},
   "outputs": [
    {
     "data": {
      "text/plain": [
       "'o r o'"
      ]
     },
     "execution_count": 10,
     "metadata": {},
     "output_type": "execute_result"
    }
   ],
   "source": [
    "str1='hai how are you'\n",
    "str1[5::2]"
   ]
  },
  {
   "cell_type": "code",
   "execution_count": 11,
   "id": "0411918a-7902-4109-99e4-f9f380bf665d",
   "metadata": {},
   "outputs": [
    {
     "data": {
      "text/plain": [
       "'eawhih'"
      ]
     },
     "execution_count": 11,
     "metadata": {},
     "output_type": "execute_result"
    }
   ],
   "source": [
    "str1='hai how are you'\n",
    "str1[-5::-2]"
   ]
  },
  {
   "cell_type": "code",
   "execution_count": 12,
   "id": "4b7660bf-1bd7-4a7c-9e69-8f99c27b04f0",
   "metadata": {},
   "outputs": [
    {
     "data": {
      "text/plain": [
       "'hih'"
      ]
     },
     "execution_count": 12,
     "metadata": {},
     "output_type": "execute_result"
    }
   ],
   "source": [
    "str1='hai how are you'\n",
    "str1[:5:2]"
   ]
  },
  {
   "cell_type": "code",
   "execution_count": 36,
   "id": "4b6bbb06-ada2-4bb7-ad8e-9fce1661e783",
   "metadata": {},
   "outputs": [
    {
     "data": {
      "text/plain": [
       "'uyeaw'"
      ]
     },
     "execution_count": 36,
     "metadata": {},
     "output_type": "execute_result"
    }
   ],
   "source": [
    "str1='hai how are you'\n",
    "str1[:5:-2]"
   ]
  },
  {
   "cell_type": "code",
   "execution_count": 37,
   "id": "d098ef35-1b4d-4f81-b3b2-a825b4531a94",
   "metadata": {},
   "outputs": [
    {
     "data": {
      "text/plain": [
       "'uyeawhih'"
      ]
     },
     "execution_count": 37,
     "metadata": {},
     "output_type": "execute_result"
    }
   ],
   "source": [
    "str1='hai how are you'\n",
    "str1[::-2]"
   ]
  },
  {
   "cell_type": "code",
   "execution_count": 38,
   "id": "6d021ff2-9043-47fd-b025-f840809d68de",
   "metadata": {},
   "outputs": [
    {
     "data": {
      "text/plain": [
       "'hihwaeyu'"
      ]
     },
     "execution_count": 38,
     "metadata": {},
     "output_type": "execute_result"
    }
   ],
   "source": [
    "str1='hai how are you'\n",
    "str1[::2]"
   ]
  },
  {
   "cell_type": "code",
   "execution_count": 43,
   "id": "d487a86d-774f-43e2-936e-dc6b7dfc4355",
   "metadata": {},
   "outputs": [
    {
     "data": {
      "text/plain": [
       "''"
      ]
     },
     "execution_count": 43,
     "metadata": {},
     "output_type": "execute_result"
    }
   ],
   "source": [
    "str1='hai how are you'\n",
    "str1[-13:2:2]"
   ]
  },
  {
   "cell_type": "code",
   "execution_count": 44,
   "id": "39fd1ffa-a37b-4b17-a7c8-2282e9eac5b7",
   "metadata": {},
   "outputs": [
    {
     "data": {
      "text/plain": [
       "'uyeaw'"
      ]
     },
     "execution_count": 44,
     "metadata": {},
     "output_type": "execute_result"
    }
   ],
   "source": [
    "str1[:] # Complete string\n",
    "str1[::] # Complete string\n",
    "str1[::-1] # Reverse\n",
    "str1[:5:-2]"
   ]
  },
  {
   "cell_type": "markdown",
   "id": "cd2eb524-f823-41e0-a5e7-f7fb6ea380b9",
   "metadata": {},
   "source": [
    "**Methods**\n",
    "- Strings lists tuple and dictionary every data type has its own methods\n",
    "- We already seen that packages has different method\n",
    "- For example random package : randint method\n",
    "- Math package : sqrt method\n",
    "- In the same way strings also have methods\n",
    "- In order to see the methods for the packages\n",
    "   - we are importing the package\n",
    "   - we are applying the dir\n",
    "- In the similar way in order to see the methods of string, we need to apply the dir only"
   ]
  },
  {
   "cell_type": "code",
   "execution_count": 54,
   "id": "76c4dcd9-3616-4b92-bdd7-49eb395e852c",
   "metadata": {},
   "outputs": [
    {
     "data": {
      "text/plain": [
       "['__add__',\n",
       " '__class__',\n",
       " '__contains__',\n",
       " '__delattr__',\n",
       " '__dir__',\n",
       " '__doc__',\n",
       " '__eq__',\n",
       " '__format__',\n",
       " '__ge__',\n",
       " '__getattribute__',\n",
       " '__getitem__',\n",
       " '__getnewargs__',\n",
       " '__getstate__',\n",
       " '__gt__',\n",
       " '__hash__',\n",
       " '__init__',\n",
       " '__init_subclass__',\n",
       " '__iter__',\n",
       " '__le__',\n",
       " '__len__',\n",
       " '__lt__',\n",
       " '__mod__',\n",
       " '__mul__',\n",
       " '__ne__',\n",
       " '__new__',\n",
       " '__reduce__',\n",
       " '__reduce_ex__',\n",
       " '__repr__',\n",
       " '__rmod__',\n",
       " '__rmul__',\n",
       " '__setattr__',\n",
       " '__sizeof__',\n",
       " '__str__',\n",
       " '__subclasshook__',\n",
       " 'capitalize',\n",
       " 'casefold',\n",
       " 'center',\n",
       " 'count',\n",
       " 'encode',\n",
       " 'endswith',\n",
       " 'expandtabs',\n",
       " 'find',\n",
       " 'format',\n",
       " 'format_map',\n",
       " 'index',\n",
       " 'isalnum',\n",
       " 'isalpha',\n",
       " 'isascii',\n",
       " 'isdecimal',\n",
       " 'isdigit',\n",
       " 'isidentifier',\n",
       " 'islower',\n",
       " 'isnumeric',\n",
       " 'isprintable',\n",
       " 'isspace',\n",
       " 'istitle',\n",
       " 'isupper',\n",
       " 'join',\n",
       " 'ljust',\n",
       " 'lower',\n",
       " 'lstrip',\n",
       " 'maketrans',\n",
       " 'partition',\n",
       " 'removeprefix',\n",
       " 'removesuffix',\n",
       " 'replace',\n",
       " 'rfind',\n",
       " 'rindex',\n",
       " 'rjust',\n",
       " 'rpartition',\n",
       " 'rsplit',\n",
       " 'rstrip',\n",
       " 'split',\n",
       " 'splitlines',\n",
       " 'startswith',\n",
       " 'strip',\n",
       " 'swapcase',\n",
       " 'title',\n",
       " 'translate',\n",
       " 'upper',\n",
       " 'zfill']"
      ]
     },
     "execution_count": 54,
     "metadata": {},
     "output_type": "execute_result"
    }
   ],
   "source": [
    "dir('')"
   ]
  },
  {
   "cell_type": "markdown",
   "id": "7d59199b-a58b-4990-85a1-f5c3c9a1a2a5",
   "metadata": {},
   "source": [
    "- Lower\n",
    "- Upper\n",
    "- Capitalize\n",
    "- Title\n",
    "- Centre"
   ]
  },
  {
   "cell_type": "code",
   "execution_count": 1,
   "id": "7354e51b-9a7a-4fbd-9bfc-1b5b07798c91",
   "metadata": {},
   "outputs": [
    {
     "name": "stdout",
     "output_type": "stream",
     "text": [
      "HAI HOW ARE YOU\n",
      "hai how are you\n",
      "Hai how are you\n",
      "Hai How Are You\n",
      "     hai how are you     \n"
     ]
    }
   ],
   "source": [
    "str1='hai how are you'\n",
    "print(str1.upper())\n",
    "print(str1.lower())\n",
    "print(str1.capitalize())\n",
    "print(str1.title())\n",
    "print(str1.center(25))"
   ]
  },
  {
   "cell_type": "markdown",
   "id": "4b922001-ac04-418f-acb5-f8e660c009ff",
   "metadata": {},
   "source": [
    "**Count**"
   ]
  },
  {
   "cell_type": "code",
   "execution_count": 4,
   "id": "e693c9f3-d03b-4257-ac7e-63dd927e5520",
   "metadata": {},
   "outputs": [],
   "source": [
    "str1='hai how are you'\n",
    "# How many 'a's are there\n",
    "count=0\n",
    "for i in str1:\n",
    "    if i=='a':\n",
    "        count+=1\n",
    "\n",
    "count=0"
   ]
  },
  {
   "cell_type": "code",
   "execution_count": 19,
   "id": "12516f6a-8828-45be-a4bb-3e2b5b29b751",
   "metadata": {},
   "outputs": [
    {
     "data": {
      "text/plain": [
       "2"
      ]
     },
     "execution_count": 19,
     "metadata": {},
     "output_type": "execute_result"
    }
   ],
   "source": [
    "str1='hai how are you'\n",
    "str1.count('a')"
   ]
  },
  {
   "cell_type": "markdown",
   "id": "5c09a28c-1799-43b1-96f6-dd42db0234ca",
   "metadata": {},
   "source": [
    "- We want number of 'a' from a specific index\n",
    "- We want number of 'a' between two indexes"
   ]
  },
  {
   "cell_type": "code",
   "execution_count": 20,
   "id": "6184b78e-9e63-44ae-bec2-1b435dcebf6b",
   "metadata": {},
   "outputs": [
    {
     "data": {
      "text/plain": [
       "1"
      ]
     },
     "execution_count": 20,
     "metadata": {},
     "output_type": "execute_result"
    }
   ],
   "source": [
    "str1='hai how are you'\n",
    "str1.count('a',3) # We are giving substring and start value"
   ]
  },
  {
   "cell_type": "code",
   "execution_count": 21,
   "id": "51d882c7-2af8-4ed0-9b37-fb57dabd3eda",
   "metadata": {},
   "outputs": [
    {
     "data": {
      "text/plain": [
       "2"
      ]
     },
     "execution_count": 21,
     "metadata": {},
     "output_type": "execute_result"
    }
   ],
   "source": [
    "str1='hai how are you'\n",
    "str1.count('a',1,10) # We are giving substring and start value and end value"
   ]
  },
  {
   "cell_type": "code",
   "execution_count": 22,
   "id": "780a2e99-15e9-4367-874d-023edb3d4c21",
   "metadata": {},
   "outputs": [
    {
     "data": {
      "text/plain": [
       "0"
      ]
     },
     "execution_count": 22,
     "metadata": {},
     "output_type": "execute_result"
    }
   ],
   "source": [
    "str1='hai how are you'\n",
    "str1.count('a',-1,-10)"
   ]
  },
  {
   "cell_type": "markdown",
   "id": "c4ae8fca-8849-4a61-be9b-3705a078e023",
   "metadata": {},
   "source": [
    "**Window Method**"
   ]
  },
  {
   "cell_type": "code",
   "execution_count": 24,
   "id": "36848b69-4a10-431e-ad81-5a6d771716a5",
   "metadata": {},
   "outputs": [
    {
     "data": {
      "text/plain": [
       "3"
      ]
     },
     "execution_count": 24,
     "metadata": {},
     "output_type": "execute_result"
    }
   ],
   "source": [
    "str2='ola ola ola'\n",
    "count=0\n",
    "for i in range(len(str2)):\n",
    "    if str2[i:i+3]=='ola':\n",
    "        count+=1\n",
    "count"
   ]
  },
  {
   "cell_type": "markdown",
   "id": "b7470fcc-6111-482c-b315-b0ef0e949ca2",
   "metadata": {},
   "source": [
    "**Replace**"
   ]
  },
  {
   "cell_type": "code",
   "execution_count": 36,
   "id": "04177d9c-59fe-4c22-ae17-b93cc7b762a8",
   "metadata": {},
   "outputs": [
    {
     "data": {
      "text/plain": [
       "'wElcomE'"
      ]
     },
     "execution_count": 36,
     "metadata": {},
     "output_type": "execute_result"
    }
   ],
   "source": [
    "str1='welcome'\n",
    "# I want to replace 'e' with 'E'\n",
    "str1.replace('e','E')"
   ]
  },
  {
   "cell_type": "code",
   "execution_count": 37,
   "id": "54ccf194-031a-4ed3-bbb1-05f6e712191d",
   "metadata": {},
   "outputs": [
    {
     "data": {
      "text/plain": [
       "'wElcome'"
      ]
     },
     "execution_count": 37,
     "metadata": {},
     "output_type": "execute_result"
    }
   ],
   "source": [
    "str1='welcome'\n",
    "# I want to replace 'e' with 'E'\n",
    "str1.replace('e','E',1)"
   ]
  },
  {
   "cell_type": "markdown",
   "id": "4585581a-90b5-49c0-a5bf-02c4b3643568",
   "metadata": {},
   "source": [
    "- By default replace wil change all the occurences\n",
    "- count=-1 is responsible for that\n",
    "- which means we can provide some count also, which how many i want \n",
    "- Give welcome and change count=1 and count=2 explore it"
   ]
  },
  {
   "cell_type": "markdown",
   "id": "d73c8b68-c1c0-474c-9b68-0f8fc110c55c",
   "metadata": {},
   "source": [
    "- We know that strings are immutable\n",
    "- We can not use index operations also\n",
    "- slice and concatenation\n",
    "- Divide welcome : we   come\n"
   ]
  },
  {
   "cell_type": "code",
   "execution_count": 26,
   "id": "c4fb44f0-255e-4a9e-a660-9820a6104d1c",
   "metadata": {},
   "outputs": [
    {
     "data": {
      "text/plain": [
       "'weLcome'"
      ]
     },
     "execution_count": 26,
     "metadata": {},
     "output_type": "execute_result"
    }
   ],
   "source": [
    "str1='welcome'\n",
    "str2=str1[0:2]+'L'+str1[3:7]\n",
    "str2"
   ]
  },
  {
   "cell_type": "code",
   "execution_count": 54,
   "id": "1e6f2ad3-dea1-498e-9fde-ea1b4bbbcd10",
   "metadata": {},
   "outputs": [
    {
     "data": {
      "text/plain": [
       "'resta$t'"
      ]
     },
     "execution_count": 54,
     "metadata": {},
     "output_type": "execute_result"
    }
   ],
   "source": [
    "str3='restart'\n",
    "str3[::-1].replace('r','$',1)[::-1]"
   ]
  },
  {
   "cell_type": "code",
   "execution_count": 52,
   "id": "f5c7fd54-346f-4379-88b9-b28f52fb66ae",
   "metadata": {},
   "outputs": [
    {
     "data": {
      "text/plain": [
       "'resta$t'"
      ]
     },
     "execution_count": 52,
     "metadata": {},
     "output_type": "execute_result"
    }
   ],
   "source": [
    "str3='restart'\n",
    "s1=str3[:1]\n",
    "s2=str3[1:]\n",
    "s3=s2.replace('r','$')\n",
    "s1+s3"
   ]
  },
  {
   "cell_type": "markdown",
   "id": "3e8bf08d-fef7-43ee-8972-ac0c31eb10c0",
   "metadata": {},
   "source": [
    "**index-find**"
   ]
  },
  {
   "cell_type": "code",
   "execution_count": 55,
   "id": "a4c1b3ca-873f-49ed-9234-e5b172eb7074",
   "metadata": {},
   "outputs": [
    {
     "data": {
      "text/plain": [
       "['__add__',\n",
       " '__class__',\n",
       " '__contains__',\n",
       " '__delattr__',\n",
       " '__dir__',\n",
       " '__doc__',\n",
       " '__eq__',\n",
       " '__format__',\n",
       " '__ge__',\n",
       " '__getattribute__',\n",
       " '__getitem__',\n",
       " '__getnewargs__',\n",
       " '__getstate__',\n",
       " '__gt__',\n",
       " '__hash__',\n",
       " '__init__',\n",
       " '__init_subclass__',\n",
       " '__iter__',\n",
       " '__le__',\n",
       " '__len__',\n",
       " '__lt__',\n",
       " '__mod__',\n",
       " '__mul__',\n",
       " '__ne__',\n",
       " '__new__',\n",
       " '__reduce__',\n",
       " '__reduce_ex__',\n",
       " '__repr__',\n",
       " '__rmod__',\n",
       " '__rmul__',\n",
       " '__setattr__',\n",
       " '__sizeof__',\n",
       " '__str__',\n",
       " '__subclasshook__',\n",
       " 'capitalize',\n",
       " 'casefold',\n",
       " 'center',\n",
       " 'count',\n",
       " 'encode',\n",
       " 'endswith',\n",
       " 'expandtabs',\n",
       " 'find',\n",
       " 'format',\n",
       " 'format_map',\n",
       " 'index',\n",
       " 'isalnum',\n",
       " 'isalpha',\n",
       " 'isascii',\n",
       " 'isdecimal',\n",
       " 'isdigit',\n",
       " 'isidentifier',\n",
       " 'islower',\n",
       " 'isnumeric',\n",
       " 'isprintable',\n",
       " 'isspace',\n",
       " 'istitle',\n",
       " 'isupper',\n",
       " 'join',\n",
       " 'ljust',\n",
       " 'lower',\n",
       " 'lstrip',\n",
       " 'maketrans',\n",
       " 'partition',\n",
       " 'removeprefix',\n",
       " 'removesuffix',\n",
       " 'replace',\n",
       " 'rfind',\n",
       " 'rindex',\n",
       " 'rjust',\n",
       " 'rpartition',\n",
       " 'rsplit',\n",
       " 'rstrip',\n",
       " 'split',\n",
       " 'splitlines',\n",
       " 'startswith',\n",
       " 'strip',\n",
       " 'swapcase',\n",
       " 'title',\n",
       " 'translate',\n",
       " 'upper',\n",
       " 'zfill']"
      ]
     },
     "execution_count": 55,
     "metadata": {},
     "output_type": "execute_result"
    }
   ],
   "source": [
    "dir('')"
   ]
  },
  {
   "cell_type": "markdown",
   "id": "5ccaa87f-51e6-4805-ba91-041dba202268",
   "metadata": {},
   "source": [
    "- 'isalnum',\n",
    "- 'isalpha',\n",
    "- 'isascii',\n",
    "- 'isdecimal',\n",
    "- 'isdigit',\n",
    "- 'isidentifier',\n",
    "- 'islower',\n",
    "- 'isnumeric',\n",
    "- 'isprintable',\n",
    "- 'isspace',\n",
    "- 'istitle',\n",
    "- 'isupper',\n",
    "- 'join',\n",
    "- 'ljust',\n",
    "- 'lower',\n",
    "- 'lstrip',\n",
    "- 'maketrans',\n",
    "- 'partition',\n",
    "- 'removeprefix',\n",
    "- 'removesuffix',\n",
    "- 'replace',\n",
    "- 'rfind',\n",
    "- 'rindex',\n",
    "- 'rjust',\n",
    "- 'rpartition',\n",
    "- 'rsplit',\n",
    "- 'rstrip',\n",
    "- 'split',\n",
    "- 'splitlines',\n",
    "- 'startswith',\n",
    "- 'strip',\n",
    "- 'swapcase',\n",
    "- 'title',\n",
    "- 'translate',\n",
    "- 'upper',\n",
    "- 'zfill'"
   ]
  },
  {
   "cell_type": "markdown",
   "id": "07fdf3d4-319d-491a-824d-c9cb8effb07a",
   "metadata": {},
   "source": [
    "**Index**\n",
    "- index says that it will give the index of any letter in a given string\n",
    "- we already seen about count : Count will give how many letters are there\n",
    "   - at what index you want to count\n",
    "   - between indexes also we can count the letters\n",
    "- index meaning it will provide the index\n",
    "- imagine that there same letters repeated\n",
    "- how can we find the next index"
   ]
  },
  {
   "cell_type": "code",
   "execution_count": 15,
   "id": "ae80ceed-497a-4400-9c0a-569a35d5c293",
   "metadata": {},
   "outputs": [
    {
     "data": {
      "text/plain": [
       "1"
      ]
     },
     "execution_count": 15,
     "metadata": {},
     "output_type": "execute_result"
    }
   ],
   "source": [
    "str1='hai hai hai'\n",
    "str1.index('a')"
   ]
  },
  {
   "cell_type": "code",
   "execution_count": 5,
   "id": "9ccf03c4-094d-4171-9fa8-433468242e2f",
   "metadata": {},
   "outputs": [
    {
     "data": {
      "text/plain": [
       "5"
      ]
     },
     "execution_count": 5,
     "metadata": {},
     "output_type": "execute_result"
    }
   ],
   "source": [
    "str1='hai hai hai'\n",
    "str1.index('a',2)"
   ]
  },
  {
   "cell_type": "code",
   "execution_count": 7,
   "id": "62aa208f-b5dd-432c-ac9e-2909ccfcd64f",
   "metadata": {},
   "outputs": [
    {
     "data": {
      "text/plain": [
       "5"
      ]
     },
     "execution_count": 7,
     "metadata": {},
     "output_type": "execute_result"
    }
   ],
   "source": [
    "str1='hai hai hai'\n",
    "str1.index('a',2,11)"
   ]
  },
  {
   "cell_type": "code",
   "execution_count": 12,
   "id": "b82a294f-62b8-4f5b-952d-4a3bff60453b",
   "metadata": {},
   "outputs": [
    {
     "ename": "ValueError",
     "evalue": "substring not found",
     "output_type": "error",
     "traceback": [
      "\u001b[1;31m---------------------------------------------------------------------------\u001b[0m",
      "\u001b[1;31mValueError\u001b[0m                                Traceback (most recent call last)",
      "Cell \u001b[1;32mIn[12], line 2\u001b[0m\n\u001b[0;32m      1\u001b[0m str1\u001b[38;5;241m=\u001b[39m\u001b[38;5;124m'\u001b[39m\u001b[38;5;124mhai hai hai\u001b[39m\u001b[38;5;124m'\u001b[39m\n\u001b[1;32m----> 2\u001b[0m str1\u001b[38;5;241m.\u001b[39mindex(\u001b[38;5;124m'\u001b[39m\u001b[38;5;124ma\u001b[39m\u001b[38;5;124m'\u001b[39m,\u001b[38;5;241m11\u001b[39m)\n",
      "\u001b[1;31mValueError\u001b[0m: substring not found"
     ]
    }
   ],
   "source": [
    "str1='hai hai hai'\n",
    "str1.index('a',11)"
   ]
  },
  {
   "cell_type": "code",
   "execution_count": 26,
   "id": "1a07ddb7-0148-43a9-9187-ca8f62d39257",
   "metadata": {},
   "outputs": [
    {
     "name": "stdout",
     "output_type": "stream",
     "text": [
      "5\n"
     ]
    }
   ],
   "source": [
    "str1='hai hai hai'\n",
    "try:\n",
    "    print(str1.index('a',2,10))\n",
    "except Exception as e:\n",
    "    print(e)"
   ]
  },
  {
   "cell_type": "code",
   "execution_count": 39,
   "id": "3e6f330d-d7ee-49e9-a75a-161d0d929f6b",
   "metadata": {},
   "outputs": [
    {
     "name": "stdout",
     "output_type": "stream",
     "text": [
      "substring not found\n"
     ]
    }
   ],
   "source": [
    "str1='hai hai hai'\n",
    "try:\n",
    "    print(str1.index('a',-9,-6))\n",
    "except Exception as e:\n",
    "    print(e)"
   ]
  },
  {
   "cell_type": "code",
   "execution_count": 33,
   "id": "94b80237-69d8-408b-8bc9-ddc3fe1a3ea7",
   "metadata": {},
   "outputs": [
    {
     "name": "stdout",
     "output_type": "stream",
     "text": [
      "1\n",
      "5\n",
      "9\n",
      "substring not found\n"
     ]
    }
   ],
   "source": [
    "str1='hai hai hai'\n",
    "try :\n",
    "    i1=str1.index('a')\n",
    "    print(i1)\n",
    "    i2=str1.index('a',i1+1)\n",
    "    print(i2)\n",
    "    i3=str1.index('a',i2+1)\n",
    "    print(i3)\n",
    "    i4=str1.index('a',i3+1)\n",
    "    print(i4)\n",
    "except Exception as e:\n",
    "    print(e)"
   ]
  },
  {
   "cell_type": "markdown",
   "id": "deac04b2-bbd1-4d61-85fe-b0b317ba7859",
   "metadata": {},
   "source": [
    "**Find**"
   ]
  },
  {
   "cell_type": "code",
   "execution_count": 35,
   "id": "8b140b9b-b0bf-4d69-a5c3-23639be2d9a2",
   "metadata": {},
   "outputs": [
    {
     "data": {
      "text/plain": [
       "5"
      ]
     },
     "execution_count": 35,
     "metadata": {},
     "output_type": "execute_result"
    }
   ],
   "source": [
    "str1='hai hai hai'\n",
    "str1.find('a',2)"
   ]
  },
  {
   "cell_type": "code",
   "execution_count": 37,
   "id": "7173e9bd-b0c4-4fc7-82af-dcff809a6cf2",
   "metadata": {},
   "outputs": [
    {
     "data": {
      "text/plain": [
       "-1"
      ]
     },
     "execution_count": 37,
     "metadata": {},
     "output_type": "execute_result"
    }
   ],
   "source": [
    "str1='hai hai hai' # If the substring not found return -1\n",
    "str1.find('a',11)"
   ]
  },
  {
   "cell_type": "code",
   "execution_count": 41,
   "id": "8592338b-336f-4996-b4d9-fdddc2986f09",
   "metadata": {},
   "outputs": [
    {
     "data": {
      "text/plain": [
       "'hai hai hai'"
      ]
     },
     "execution_count": 41,
     "metadata": {},
     "output_type": "execute_result"
    }
   ],
   "source": [
    "str1='hai hai hai' # If the substring not found return -1\n",
    "str1.replace('z','Z')"
   ]
  },
  {
   "cell_type": "markdown",
   "id": "8d770f52-e634-4031-90f0-6da9174d6c4b",
   "metadata": {},
   "source": [
    "- If the substring not found\n",
    "- Count will give '0'\n",
    "- Replace method will give original string\n",
    "- Index will give **substring not found error**\n",
    "- Find will give **-1**"
   ]
  },
  {
   "cell_type": "code",
   "execution_count": 58,
   "id": "bfbd1c8d-9610-4e1e-8f0d-0889c52dabc8",
   "metadata": {},
   "outputs": [
    {
     "name": "stdout",
     "output_type": "stream",
     "text": [
      "virat\n",
      "kohli\n",
      "rcb\n",
      "rohit\n",
      "sharma\n",
      "mi\n"
     ]
    }
   ],
   "source": [
    "str1='virat.kohli@rcb.com'\n",
    "str2='rohit.sharma@mi.com'\n",
    "i1=str1.find('.')\n",
    "print(str1[0:i1])\n",
    "i2=str1.find('@',i1+1)\n",
    "print(str1[i1+1:i2])\n",
    "i3=str1.find('.',i2+1)\n",
    "print(str1[i2+1:i3])\n",
    "i4=str2.find('.')\n",
    "print(str2[0:i4])\n",
    "i5=str2.find('@',i4+1)\n",
    "print(str2[i4+1:i5])\n",
    "i6=str2.find('.',i5+1)\n",
    "print(str2[i5+1:i6])"
   ]
  },
  {
   "cell_type": "markdown",
   "id": "b51aa42c-ff9b-4038-a652-9836d9578567",
   "metadata": {},
   "source": [
    "**Representation**\n",
    "- String representation with quotes\n",
    "- List represent wit square brackets[ ]"
   ]
  },
  {
   "cell_type": "code",
   "execution_count": 2,
   "id": "411d40d0-1bf0-4cb3-b448-c1142b1832b3",
   "metadata": {},
   "outputs": [
    {
     "name": "stdout",
     "output_type": "stream",
     "text": [
      "[1, 2, 3, 4, 5]\n"
     ]
    },
    {
     "data": {
      "text/plain": [
       "list"
      ]
     },
     "execution_count": 2,
     "metadata": {},
     "output_type": "execute_result"
    }
   ],
   "source": [
    "l=[1,2,3,4,5]\n",
    "print(l)\n",
    "type(l)"
   ]
  },
  {
   "cell_type": "code",
   "execution_count": 4,
   "id": "07a4e5ce-7e77-499f-9884-76bfb1e81553",
   "metadata": {},
   "outputs": [
    {
     "data": {
      "text/plain": [
       "['A', 'b', 'C', 'd', '2', '3']"
      ]
     },
     "execution_count": 4,
     "metadata": {},
     "output_type": "execute_result"
    }
   ],
   "source": [
    "l1=['A','b','C','d','2','3']\n",
    "l1"
   ]
  },
  {
   "cell_type": "markdown",
   "id": "13110ae9-b6a5-4f73-b944-64bf58919dfa",
   "metadata": {},
   "source": [
    "- list are array of elements\n",
    "- list elements are heterogeneous all the data types we can represent in a list\n",
    "- list elements are allowed duplicates\n",
    "- list in list is possible\n",
    "- variable assignment also possible in list"
   ]
  },
  {
   "cell_type": "code",
   "execution_count": 9,
   "id": "76d80f12-4d6a-408e-b7a0-deabff166925",
   "metadata": {},
   "outputs": [
    {
     "name": "stdout",
     "output_type": "stream",
     "text": [
      "5\n",
      "6\n",
      "2\n",
      "[2, 3, 5, 6, 6]\n",
      "5 6 6 3 2 "
     ]
    }
   ],
   "source": [
    "l2=[2,3,6,6,5]\n",
    "print(len(l2))\n",
    "print(max(l2))\n",
    "print(min(l2))\n",
    "print(sorted(l2))\n",
    "output=reversed(l2)\n",
    "for i in output:\n",
    "    print(i,end=\" \")"
   ]
  },
  {
   "cell_type": "code",
   "execution_count": 18,
   "id": "4a791e8e-94cc-457f-8c31-eb84cb80a1a6",
   "metadata": {},
   "outputs": [
    {
     "data": {
      "text/plain": [
       "[2, 3, 6, 6, 5, 7]"
      ]
     },
     "execution_count": 18,
     "metadata": {},
     "output_type": "execute_result"
    }
   ],
   "source": [
    "l2=[2,3,6,6,5]   # Append object to the end of the list.\n",
    "l2.append(7)\n",
    "l2"
   ]
  },
  {
   "cell_type": "code",
   "execution_count": 19,
   "id": "e96e476e-83ea-4e80-9dab-276309f83f42",
   "metadata": {},
   "outputs": [
    {
     "data": {
      "text/plain": [
       "[3, 6, 5, 2]"
      ]
     },
     "execution_count": 19,
     "metadata": {},
     "output_type": "execute_result"
    }
   ],
   "source": [
    "l2=[6,3,6,5,2]   # Remove first occurrence of value.\n",
    "l2.remove(6)\n",
    "l2"
   ]
  },
  {
   "cell_type": "code",
   "execution_count": 21,
   "id": "0d6775b9-c3e1-4e5f-8d1d-2c6ca1314a49",
   "metadata": {},
   "outputs": [
    {
     "data": {
      "text/plain": [
       "[2, 3, 6, 6, 3, 5]"
      ]
     },
     "execution_count": 21,
     "metadata": {},
     "output_type": "execute_result"
    }
   ],
   "source": [
    "l2=[2,3,6,6,5]    # l2.insert(index, object, /)\n",
    "l2.insert(4,3)    # Insert object before index\n",
    "l2"
   ]
  },
  {
   "cell_type": "code",
   "execution_count": 2,
   "id": "9048dcf9-778b-44c9-a175-da3805b04fd4",
   "metadata": {},
   "outputs": [
    {
     "data": {
      "text/plain": [
       "['__add__',\n",
       " '__class__',\n",
       " '__class_getitem__',\n",
       " '__contains__',\n",
       " '__delattr__',\n",
       " '__delitem__',\n",
       " '__dir__',\n",
       " '__doc__',\n",
       " '__eq__',\n",
       " '__format__',\n",
       " '__ge__',\n",
       " '__getattribute__',\n",
       " '__getitem__',\n",
       " '__getstate__',\n",
       " '__gt__',\n",
       " '__hash__',\n",
       " '__iadd__',\n",
       " '__imul__',\n",
       " '__init__',\n",
       " '__init_subclass__',\n",
       " '__iter__',\n",
       " '__le__',\n",
       " '__len__',\n",
       " '__lt__',\n",
       " '__mul__',\n",
       " '__ne__',\n",
       " '__new__',\n",
       " '__reduce__',\n",
       " '__reduce_ex__',\n",
       " '__repr__',\n",
       " '__reversed__',\n",
       " '__rmul__',\n",
       " '__setattr__',\n",
       " '__setitem__',\n",
       " '__sizeof__',\n",
       " '__str__',\n",
       " '__subclasshook__',\n",
       " 'append',\n",
       " 'clear',\n",
       " 'copy',\n",
       " 'count',\n",
       " 'extend',\n",
       " 'index',\n",
       " 'insert',\n",
       " 'pop',\n",
       " 'remove',\n",
       " 'reverse',\n",
       " 'sort']"
      ]
     },
     "execution_count": 2,
     "metadata": {},
     "output_type": "execute_result"
    }
   ],
   "source": [
    "dir(list) # This can be written as dir([])"
   ]
  },
  {
   "cell_type": "code",
   "execution_count": 20,
   "id": "2e4ab123-1247-43cf-8700-127d79ee6508",
   "metadata": {},
   "outputs": [
    {
     "data": {
      "text/plain": [
       "[]"
      ]
     },
     "execution_count": 20,
     "metadata": {},
     "output_type": "execute_result"
    }
   ],
   "source": [
    "l2=[2,3,6,6,5]  #  Remove all items from list.\n",
    "l2.clear()\n",
    "l2"
   ]
  },
  {
   "cell_type": "code",
   "execution_count": 22,
   "id": "2a42ecc5-41f9-4afd-a33b-a7405ceea869",
   "metadata": {},
   "outputs": [
    {
     "data": {
      "text/plain": [
       "6"
      ]
     },
     "execution_count": 22,
     "metadata": {},
     "output_type": "execute_result"
    }
   ],
   "source": [
    "l2=[2,3,6,6,5]   # l2.pop(index=-1, /)\n",
    "l2.pop(-3)       # Remove and return item at index (default last)."
   ]
  },
  {
   "cell_type": "code",
   "execution_count": 23,
   "id": "249a6111-b0c4-42d8-b819-990d54ef3adf",
   "metadata": {},
   "outputs": [
    {
     "data": {
      "text/plain": [
       "2"
      ]
     },
     "execution_count": 23,
     "metadata": {},
     "output_type": "execute_result"
    }
   ],
   "source": [
    "l2=[2,3,6,6,5]     # Return first index of value.\n",
    "l2.index(6)"
   ]
  },
  {
   "cell_type": "code",
   "execution_count": 24,
   "id": "ad89f061-a1fb-436a-92f3-27976ce67b7b",
   "metadata": {},
   "outputs": [
    {
     "data": {
      "text/plain": [
       "[2, 3, 6, 6, 5, '6']"
      ]
     },
     "execution_count": 24,
     "metadata": {},
     "output_type": "execute_result"
    }
   ],
   "source": [
    "l2=[2,3,6,6,5]     # Extend list by appending elements from the iterable.\n",
    "l2.extend('6')\n",
    "l2"
   ]
  },
  {
   "cell_type": "code",
   "execution_count": 25,
   "id": "2630af3f-2f46-46ac-b060-ba92a06cc038",
   "metadata": {},
   "outputs": [
    {
     "data": {
      "text/plain": [
       "[2, 3, 6, 6, 5]"
      ]
     },
     "execution_count": 25,
     "metadata": {},
     "output_type": "execute_result"
    }
   ],
   "source": [
    "l2=[2,3,6,6,5]     # Return a shallow copy of the list.\n",
    "l2.copy()"
   ]
  },
  {
   "cell_type": "code",
   "execution_count": 26,
   "id": "b4b9ae25-c157-489a-a1a1-3dc118253288",
   "metadata": {},
   "outputs": [
    {
     "data": {
      "text/plain": [
       "1"
      ]
     },
     "execution_count": 26,
     "metadata": {},
     "output_type": "execute_result"
    }
   ],
   "source": [
    "l2=[2,3,6,6,5]    # l2.count(value, /)\n",
    "l2.count(3)       # Return number of occurrences of value."
   ]
  },
  {
   "cell_type": "code",
   "execution_count": 37,
   "id": "f3095f82-b8d2-448e-af47-78309a0a3ced",
   "metadata": {},
   "outputs": [
    {
     "data": {
      "text/plain": [
       "'A'"
      ]
     },
     "execution_count": 37,
     "metadata": {},
     "output_type": "execute_result"
    }
   ],
   "source": [
    "l3=[1,[2,'A']]\n",
    "l3[1:2][0][1]"
   ]
  }
 ],
 "metadata": {
  "kernelspec": {
   "display_name": "Python 3 (ipykernel)",
   "language": "python",
   "name": "python3"
  },
  "language_info": {
   "codemirror_mode": {
    "name": "ipython",
    "version": 3
   },
   "file_extension": ".py",
   "mimetype": "text/x-python",
   "name": "python",
   "nbconvert_exporter": "python",
   "pygments_lexer": "ipython3",
   "version": "3.11.7"
  }
 },
 "nbformat": 4,
 "nbformat_minor": 5
}
