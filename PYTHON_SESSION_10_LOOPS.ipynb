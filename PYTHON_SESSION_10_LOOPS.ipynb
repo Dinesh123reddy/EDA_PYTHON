{
 "cells": [
  {
   "cell_type": "markdown",
   "id": "d7f03d90-ed7c-45f3-bcaf-c312924d98df",
   "metadata": {},
   "source": [
    "**LOOPS**\n",
    "- Iterate a piece of code until the condition satisfy\n",
    "- We can run a code normally\n",
    "- We can run a code by using function wrapper(functions)\n",
    "- We can run a code multiple times(loops)\n",
    "- We can run a code by using condition(conditions)"
   ]
  },
  {
   "cell_type": "code",
   "execution_count": 1,
   "id": "b8bb54c8-ae1e-41fb-94b4-9c4e53149c82",
   "metadata": {},
   "outputs": [
    {
     "name": "stdin",
     "output_type": "stream",
     "text": [
      "enter the salary: 1000\n",
      "enter the tax percentage: 5\n"
     ]
    },
    {
     "name": "stdout",
     "output_type": "stream",
     "text": [
      "50.0\n"
     ]
    },
    {
     "name": "stdin",
     "output_type": "stream",
     "text": [
      "enter the salary: 2000\n",
      "enter the tax percentage: 5\n"
     ]
    },
    {
     "name": "stdout",
     "output_type": "stream",
     "text": [
      "100.0\n"
     ]
    },
    {
     "name": "stdin",
     "output_type": "stream",
     "text": [
      "enter the salary: 3000\n",
      "enter the tax percentage: 3\n"
     ]
    },
    {
     "name": "stdout",
     "output_type": "stream",
     "text": [
      "90.0\n"
     ]
    },
    {
     "name": "stdin",
     "output_type": "stream",
     "text": [
      "enter the salary: 1500\n",
      "enter the tax percentage: 4\n"
     ]
    },
    {
     "name": "stdout",
     "output_type": "stream",
     "text": [
      "60.0\n"
     ]
    },
    {
     "name": "stdin",
     "output_type": "stream",
     "text": [
      "enter the salary: 2500\n",
      "enter the tax percentage: 5\n"
     ]
    },
    {
     "name": "stdout",
     "output_type": "stream",
     "text": [
      "125.0\n"
     ]
    },
    {
     "name": "stdin",
     "output_type": "stream",
     "text": [
      "enter the salary: 3000\n",
      "enter the tax percentage: 6\n"
     ]
    },
    {
     "name": "stdout",
     "output_type": "stream",
     "text": [
      "180.0\n"
     ]
    },
    {
     "name": "stdin",
     "output_type": "stream",
     "text": [
      "enter the salary: 3500\n",
      "enter the tax percentage: 7\n"
     ]
    },
    {
     "name": "stdout",
     "output_type": "stream",
     "text": [
      "245.0\n"
     ]
    },
    {
     "name": "stdin",
     "output_type": "stream",
     "text": [
      "enter the salary: 4500\n",
      "enter the tax percentage: 8\n"
     ]
    },
    {
     "name": "stdout",
     "output_type": "stream",
     "text": [
      "360.0\n"
     ]
    },
    {
     "name": "stdin",
     "output_type": "stream",
     "text": [
      "enter the salary: 9000\n",
      "enter the tax percentage: 5\n"
     ]
    },
    {
     "name": "stdout",
     "output_type": "stream",
     "text": [
      "450.0\n"
     ]
    },
    {
     "name": "stdin",
     "output_type": "stream",
     "text": [
      "enter the salary: 8000\n",
      "enter the tax percentage: 4\n"
     ]
    },
    {
     "name": "stdout",
     "output_type": "stream",
     "text": [
      "320.0\n"
     ]
    }
   ],
   "source": [
    "def tax():\n",
    "    for i in range(10):\n",
    "        salary=eval(input(\"enter the salary:\"))\n",
    "        tax_per=eval(input(\"enter the tax percentage:\"))\n",
    "        tax_amount=salary*tax_per/100\n",
    "        print(tax_amount)\n",
    "tax()"
   ]
  },
  {
   "cell_type": "markdown",
   "id": "baba916e-fe61-4332-8b5d-bd3ce8274ec4",
   "metadata": {},
   "source": [
    "- For loop\n",
    "- While loop\n",
    "- any loop\n",
    "-       Initial point to start the loop\n",
    "-       Increment or Decrement\n",
    "-       Condition to stop the loop"
   ]
  },
  {
   "cell_type": "markdown",
   "id": "bfe358b5-2d38-46af-a906-297d01302d92",
   "metadata": {},
   "source": [
    "**For loop**"
   ]
  },
  {
   "cell_type": "markdown",
   "id": "8b4e2330-e812-41b8-a5b5-7a7fc07d3c78",
   "metadata": {},
   "source": [
    "$Pattern-1$"
   ]
  },
  {
   "cell_type": "markdown",
   "id": "c3130d68-b7e5-435e-b735-35e9c86a6830",
   "metadata": {},
   "source": [
    "**range(stop)**"
   ]
  },
  {
   "cell_type": "code",
   "execution_count": null,
   "id": "6269cbb6-9b77-44af-a88c-64998c64a166",
   "metadata": {},
   "outputs": [],
   "source": [
    "# Syntax\n",
    "for i in range(<value):\n",
    "    # start write your code"
   ]
  },
  {
   "cell_type": "markdown",
   "id": "22f0f1ad-df88-4a78-93ce-2b65d0a93dcc",
   "metadata": {},
   "source": [
    "- when ever you see the word the word range it belongs to math family\n",
    "- Inside range we need to provide one value ex: range(3)\n",
    "- If you provide only one value \n",
    "-   Start with zero(0)\n",
    "-   Increment equal to +1\n",
    "-   Last value equal to stop-1\n",
    "- range(3) === start = 0 , increment = +1 , last = 2 , answers = 0,1,2\n",
    "- **Note** : In python the index always start with zero"
   ]
  },
  {
   "cell_type": "code",
   "execution_count": 5,
   "id": "f2e50cd1-6177-40ce-9d68-b8ff325dee31",
   "metadata": {},
   "outputs": [
    {
     "name": "stdout",
     "output_type": "stream",
     "text": [
      "0\n",
      "1\n",
      "2\n"
     ]
    }
   ],
   "source": [
    "for i in range(3):\n",
    "    print(i)"
   ]
  },
  {
   "cell_type": "code",
   "execution_count": 6,
   "id": "51cd4b01-12a1-4e14-8ee8-819fbcac8ff9",
   "metadata": {},
   "outputs": [
    {
     "name": "stdout",
     "output_type": "stream",
     "text": [
      "Hello\n",
      "Hello\n",
      "Hello\n",
      "Hello\n",
      "Hello\n"
     ]
    }
   ],
   "source": [
    "# I want to print Hello 5 times\n",
    "for i in range(5):\n",
    "    print(\"Hello\")"
   ]
  },
  {
   "cell_type": "code",
   "execution_count": 17,
   "id": "48aba832-faff-42a1-9ec9-98d81facfe0e",
   "metadata": {},
   "outputs": [
    {
     "name": "stdout",
     "output_type": "stream",
     "text": [
      "Odd number\n",
      "Even number\n",
      "Odd number\n"
     ]
    }
   ],
   "source": [
    "# For example \n",
    "# Take a random number between 1 to 100\n",
    "# print it is even number and odd number\n",
    "# you need to generate 3 random numbers\n",
    "import random\n",
    "for i in range(3):\n",
    "    n1=random.randint(1,100)\n",
    "    if n1%2==0:\n",
    "        print(\"Even number\")\n",
    "    else:\n",
    "        print(\"Odd number\")"
   ]
  },
  {
   "cell_type": "code",
   "execution_count": 20,
   "id": "539b1065-b0a5-4f9d-885d-56482b2ff350",
   "metadata": {},
   "outputs": [
    {
     "name": "stdout",
     "output_type": "stream",
     "text": [
      "0 1 2 3 4 5 6 7 8 9 "
     ]
    }
   ],
   "source": [
    "for i in range(10):\n",
    "    print(i,end=\" \")"
   ]
  },
  {
   "cell_type": "markdown",
   "id": "208ba6b3-31fd-4735-b659-5d6f670d4b68",
   "metadata": {},
   "source": [
    "$Pattern-2$\n",
    "- **range(start,stop)**\n",
    "- range(10,20)\n",
    "    - start value=10\n",
    "    - increment = 1\n",
    "    - last = stop-1 = 20-1 = 19\n",
    "    - ans: 10 11 12 13 14 15 16 17 18 19"
   ]
  },
  {
   "cell_type": "code",
   "execution_count": 24,
   "id": "2ce6cea9-b4a5-4efb-96dd-9ab6a70ae1d5",
   "metadata": {},
   "outputs": [
    {
     "name": "stdout",
     "output_type": "stream",
     "text": [
      "10 11 12 13 14 15 16 17 18 19 "
     ]
    }
   ],
   "source": [
    "for i in range(10,20):\n",
    "    print(i,end=\" \")"
   ]
  },
  {
   "cell_type": "code",
   "execution_count": 25,
   "id": "5b828366-2f58-4634-8d50-d140da9e914b",
   "metadata": {},
   "outputs": [
    {
     "name": "stdout",
     "output_type": "stream",
     "text": [
      "400\n",
      "441\n",
      "484\n",
      "529\n",
      "576\n",
      "625\n"
     ]
    }
   ],
   "source": [
    "# wap ask the user print the square of the number between 20 to 25\n",
    "for i in range(20,26):\n",
    "    print(i*i)"
   ]
  },
  {
   "cell_type": "code",
   "execution_count": 31,
   "id": "7af75d12-d8e3-4b7c-9c91-0b833a233dd3",
   "metadata": {},
   "outputs": [
    {
     "name": "stdout",
     "output_type": "stream",
     "text": [
      "10 is Even\n",
      "11 is Odd\n",
      "12 is Even\n",
      "13 is Odd\n",
      "14 is Even\n",
      "15 is Odd\n",
      "16 is Even\n",
      "17 is Odd\n",
      "18 is Even\n",
      "19 is Odd\n",
      "20 is Even\n"
     ]
    }
   ],
   "source": [
    "# wap ask the user print the number is even or odd between 10 to 20\n",
    "for i in range(10,21):\n",
    "    if i%2==0:\n",
    "        print(f\"{i} is Even\")\n",
    "    else:\n",
    "        print(f\"{i} is Odd\")"
   ]
  },
  {
   "cell_type": "markdown",
   "id": "6e036585-c935-453d-949e-e8db21a7f174",
   "metadata": {},
   "source": [
    "$Pattern-3$"
   ]
  },
  {
   "cell_type": "markdown",
   "id": "61fe7cc9-b312-4b2e-9261-eccd8d2c247b",
   "metadata": {},
   "source": [
    "**range(start,stop,step)**\n",
    "- start value = start values\n",
    "- step value\n",
    "    - positive step value\n",
    "        - if step value is positive = increment\n",
    "        - last = stop-1\n",
    "    - negative step value\n",
    "        - if step value is negative = decrement\n",
    "        - last = stop+1"
   ]
  },
  {
   "cell_type": "code",
   "execution_count": 40,
   "id": "73e7631e-4be1-4f70-8022-010fba51ee38",
   "metadata": {},
   "outputs": [
    {
     "name": "stdout",
     "output_type": "stream",
     "text": [
      "1 3 5 7 9 "
     ]
    }
   ],
   "source": [
    "# Case-1\n",
    "for i in range(1,10,2):\n",
    "    print(i,end=\" \")\n",
    "# start=1\n",
    "# step=+ve 2\n",
    "# stop=10-1 = 9\n",
    "# 1,3,5,7,9"
   ]
  },
  {
   "cell_type": "code",
   "execution_count": 44,
   "id": "148b555c-81fe-494e-b8fd-83fd257edc86",
   "metadata": {},
   "outputs": [
    {
     "name": "stdout",
     "output_type": "stream",
     "text": [
      "10 8 6 4 2 "
     ]
    }
   ],
   "source": [
    "# Case-2\n",
    "for i in range(10,1,-2):\n",
    "    print(i,end=\" \")\n",
    "# start=10\n",
    "# step=-ve 2\n",
    "# stop=1+1 = 2\n",
    "# 10,8,6,4,2"
   ]
  },
  {
   "cell_type": "code",
   "execution_count": 47,
   "id": "adc48f95-b9dd-40a3-9400-fa4af46fd763",
   "metadata": {},
   "outputs": [],
   "source": [
    "# Case-3\n",
    "for i in range(1,10,-2):\n",
    "    print(i,end=\" \")\n",
    "# start=1\n",
    "# step=-ve 2\n",
    "# stop=10+1 = 11 \n",
    "# No error , No output"
   ]
  },
  {
   "cell_type": "code",
   "execution_count": 3,
   "id": "d05737e3-97d0-4173-a5db-235ffed7d78d",
   "metadata": {},
   "outputs": [
    {
     "name": "stdout",
     "output_type": "stream",
     "text": [
      "64\n",
      "49\n",
      "1\n"
     ]
    }
   ],
   "source": [
    "# For example \n",
    "# Take a random number between 1 to 100\n",
    "# print the square of the numbers\n",
    "# you need to generate 3 random numbers\n",
    "import random\n",
    "for i in range(3):\n",
    "    n1=random.randint(1,10)\n",
    "    print(n1*n1)"
   ]
  },
  {
   "cell_type": "code",
   "execution_count": 7,
   "id": "d331da95-b905-418b-ac7d-08983c3c9d39",
   "metadata": {},
   "outputs": [
    {
     "name": "stdout",
     "output_type": "stream",
     "text": [
      "14 x 1 = 14\n",
      "14 x 2 = 28\n",
      "14 x 3 = 42\n",
      "14 x 4 = 56\n",
      "14 x 5 = 70\n",
      "14 x 6 = 84\n",
      "14 x 7 = 98\n",
      "14 x 8 = 112\n",
      "14 x 9 = 126\n",
      "14 x 10 = 140\n"
     ]
    }
   ],
   "source": [
    "# Print the 14th table\n",
    "# 14 x 1 = 14\n",
    "a=14\n",
    "for i in range(1,11):\n",
    "    b=a*i\n",
    "    print(f\"{a} x {i} = {b}\")"
   ]
  },
  {
   "cell_type": "code",
   "execution_count": 12,
   "id": "444a4cc8-b89d-4c39-aa49-f70578a49120",
   "metadata": {},
   "outputs": [
    {
     "name": "stdout",
     "output_type": "stream",
     "text": [
      "Number: 91\n",
      "1\n",
      "7\n",
      "13\n",
      "91\n"
     ]
    }
   ],
   "source": [
    "# Find factors of a given number\n",
    "number=random.randint(1,100)\n",
    "print(\"Number:\",number)\n",
    "for i in range(1,number+1):\n",
    "    if (number%i==0):\n",
    "        print(i)        "
   ]
  },
  {
   "cell_type": "code",
   "execution_count": 16,
   "id": "72602fcd-edae-4ad1-8db8-20453d10e665",
   "metadata": {},
   "outputs": [
    {
     "name": "stdout",
     "output_type": "stream",
     "text": [
      "0 + 1 = 1\n",
      "1 + 2 = 3\n",
      "3 + 3 = 6\n",
      "6 + 4 = 10\n",
      "10 + 5 = 15\n",
      "15 + 6 = 21\n",
      "21 + 7 = 28\n",
      "28 + 8 = 36\n",
      "36 + 9 = 45\n",
      "45 + 10 = 55\n"
     ]
    }
   ],
   "source": [
    "# write the sum of first ten natural numbers\n",
    "summ=0\n",
    "for i in range(1,11):\n",
    "    summ=i+summ\n",
    "    print(f\"{summ-i} + {i} = {summ}\")"
   ]
  },
  {
   "cell_type": "markdown",
   "id": "13d79a19-aa0b-4d1e-8ad7-b6dc984ba4fb",
   "metadata": {},
   "source": [
    "**Summation Wrapper**\n",
    "- initially we need to keep summ=0\n",
    "- make sure that do not provide **sum**\n",
    "- Because sum is a keyword\n",
    "- inside for loop: summ=summ+i"
   ]
  },
  {
   "cell_type": "markdown",
   "id": "31808a24-d53e-4979-a8a9-cea6cd719d2c",
   "metadata": {},
   "source": [
    "**Note**\n",
    "- if we print answer from out of for loop , last answer wil print"
   ]
  },
  {
   "cell_type": "code",
   "execution_count": 17,
   "id": "6062e9e4-8fab-43f7-ab73-33ff8bcfc77b",
   "metadata": {},
   "outputs": [
    {
     "name": "stdout",
     "output_type": "stream",
     "text": [
      "0\n",
      "1\n",
      "2\n"
     ]
    }
   ],
   "source": [
    "for i in range(3):\n",
    "    print(i)"
   ]
  },
  {
   "cell_type": "code",
   "execution_count": 20,
   "id": "a1e66fb2-e4c3-41cb-b2df-736db9214d60",
   "metadata": {},
   "outputs": [
    {
     "name": "stdout",
     "output_type": "stream",
     "text": [
      "5.5\n"
     ]
    }
   ],
   "source": [
    "# Average of 10 numbers\n",
    "n=10\n",
    "summ=0\n",
    "for i in range(1,11):\n",
    "    summ=summ+i\n",
    "print(summ/n)"
   ]
  },
  {
   "cell_type": "markdown",
   "id": "04bcef7a-93c5-443c-9667-08248e3ab9ce",
   "metadata": {},
   "source": [
    "**Counter Wrapper**\n",
    "- Before for loop initialise with count=0\n",
    "- Under for loop count=count+1\n",
    "- Counter always increase by 1 only"
   ]
  },
  {
   "cell_type": "code",
   "execution_count": 21,
   "id": "e09a69a1-43a7-4eaf-91df-94dab427c4d2",
   "metadata": {},
   "outputs": [
    {
     "name": "stdout",
     "output_type": "stream",
     "text": [
      "6\n"
     ]
    }
   ],
   "source": [
    "# Find the number of divisors of 75\n",
    "# ans=1,3,5,15,25,75\n",
    "# number=6\n",
    "a=75\n",
    "count=0\n",
    "for i in range(1,a+1):\n",
    "    if a%i==0:\n",
    "        count=count+1\n",
    "print(count)"
   ]
  },
  {
   "cell_type": "code",
   "execution_count": 25,
   "id": "4e0ca353-96ec-4431-aa60-97cdd5dbdd62",
   "metadata": {},
   "outputs": [
    {
     "name": "stdout",
     "output_type": "stream",
     "text": [
      "10\n"
     ]
    },
    {
     "name": "stdin",
     "output_type": "stream",
     "text": [
      "Enter a number:  10\n"
     ]
    },
    {
     "name": "stdout",
     "output_type": "stream",
     "text": [
      "Won\n"
     ]
    }
   ],
   "source": [
    "# Get a random number between 1 to 10  : num1\n",
    "# Ask the user enter a number : num2\n",
    "# if num1==num2 : print won\n",
    "# else : print fail\n",
    "for i in range(3):\n",
    "    num1=random.randint(1,10)\n",
    "    print(num1)\n",
    "    num2=int(input(\"Enter a number: \"))\n",
    "    if (num1==num2):\n",
    "        print(\"Won\")\n",
    "        break;\n",
    "    else:\n",
    "        print(\"Lose\")"
   ]
  },
  {
   "cell_type": "code",
   "execution_count": 9,
   "id": "18054707-33b2-4b92-9ff9-f1870ccf1b70",
   "metadata": {},
   "outputs": [
    {
     "name": "stdout",
     "output_type": "stream",
     "text": [
      "Random number is : 35\n",
      "Random number is : 24\n",
      "Random number is : 5\n",
      "Random number is : 16\n",
      "Random number is : 19\n",
      "Even count is:  2\n",
      "Odd count is:  3\n"
     ]
    }
   ],
   "source": [
    "# wap ask the user get a 5 random numbers\n",
    "# Get it is an even number or odd number\n",
    "# also count how many even numbers are there\n",
    "# also count how many odd numbers are there\n",
    "import random\n",
    "count_even=0\n",
    "count_odd=0\n",
    "for i in range(5):\n",
    "    a=random.randint(1,50)\n",
    "    print(\"Random number is :\",a)\n",
    "    if (a%2==0):\n",
    "        count_even=count_even+1\n",
    "    else:\n",
    "        count_odd=count_odd+1\n",
    "print(\"Even count is: \",count_even)\n",
    "print(\"Odd count is: \",count_odd)"
   ]
  },
  {
   "cell_type": "code",
   "execution_count": 12,
   "id": "bf9ea689-4ca6-4827-a18f-d1e0f958454a",
   "metadata": {},
   "outputs": [
    {
     "name": "stdout",
     "output_type": "stream",
     "text": [
      "Random number is : 8\n",
      "Random number is : 44\n",
      "Random number is : 35\n",
      "Random number is : 9\n",
      "Random number is : 27\n",
      "Even count is:  2\n",
      "Odd count is:  3\n",
      "Even summ is : 52\n",
      "Odd summ is : 71\n"
     ]
    }
   ],
   "source": [
    "# wap ask the user get a 5 random numbers\n",
    "# Get it is an even number or odd number\n",
    "# also count how many even numbers are there\n",
    "# also count how many odd numbers are there\n",
    "# count the even summ and odd sum\n",
    "import random\n",
    "count_even=0\n",
    "count_odd=0\n",
    "summ_even=0\n",
    "summ_odd=0\n",
    "for i in range(5):\n",
    "    a=random.randint(1,50)\n",
    "    print(\"Random number is :\",a)\n",
    "    if (a%2==0):\n",
    "        count_even=count_even+1\n",
    "        summ_even=summ_even+a\n",
    "    else:\n",
    "        count_odd=count_odd+1\n",
    "        summ_odd=summ_odd+a\n",
    "print(\"Even count is: \",count_even)\n",
    "print(\"Odd count is: \",count_odd)\n",
    "print(\"Even summ is :\",summ_even)\n",
    "print(\"Odd summ is :\",summ_odd)"
   ]
  },
  {
   "cell_type": "code",
   "execution_count": 58,
   "id": "d85110bf-a9ce-42f5-9a69-7c9ca3cd978b",
   "metadata": {},
   "outputs": [
    {
     "name": "stdout",
     "output_type": "stream",
     "text": [
      "Random number is : 42\n",
      "Random number is : 15\n",
      "Random number is : 30\n",
      "Random number is : 43\n",
      "Random number is : 18\n",
      "Even count is:  3\n",
      "Odd count is:  2\n",
      "Even summ is : 90\n",
      "Odd summ is : 58\n"
     ]
    }
   ],
   "source": [
    "# using functions\n",
    "import random\n",
    "def summ():\n",
    "    count_even=0\n",
    "    count_odd=0\n",
    "    summ_even=0\n",
    "    summ_odd=0\n",
    "    for i in range(5):\n",
    "        a=random.randint(1,50)\n",
    "        print(\"Random number is :\",a)\n",
    "        if (a%2==0):\n",
    "            count_even=count_even+1\n",
    "            summ_even=summ_even+a\n",
    "        else:\n",
    "            count_odd=count_odd+1\n",
    "            summ_odd=summ_odd+a   \n",
    "    print(\"Even count is: \",count_even)\n",
    "    print(\"Odd count is: \",count_odd)\n",
    "    print(\"Even summ is :\",summ_even)\n",
    "    print(\"Odd summ is :\",summ_odd)\n",
    "    return (count_even,count_odd,summ_even,summ_odd)\n",
    "total=summ()"
   ]
  },
  {
   "cell_type": "code",
   "execution_count": 59,
   "id": "8f16ffce-b81c-4f34-a786-9665a01fced3",
   "metadata": {},
   "outputs": [
    {
     "data": {
      "text/plain": [
       "(3, 2, 90, 58)"
      ]
     },
     "execution_count": 59,
     "metadata": {},
     "output_type": "execute_result"
    }
   ],
   "source": [
    "total"
   ]
  },
  {
   "cell_type": "markdown",
   "id": "f686d72b-8de1-44de-8a1a-ba5e349118af",
   "metadata": {},
   "source": [
    "**in operator**"
   ]
  },
  {
   "cell_type": "code",
   "execution_count": 44,
   "id": "5aa8e9bf-1d5c-4b6b-abb8-9e31ce714634",
   "metadata": {},
   "outputs": [
    {
     "data": {
      "text/plain": [
       "True"
      ]
     },
     "execution_count": 44,
     "metadata": {},
     "output_type": "execute_result"
    }
   ],
   "source": [
    "string1='python'\n",
    "'p' in string1"
   ]
  },
  {
   "cell_type": "code",
   "execution_count": 47,
   "id": "bc37b8c7-cce6-4898-81f4-0a4be9f5c667",
   "metadata": {},
   "outputs": [
    {
     "name": "stdout",
     "output_type": "stream",
     "text": [
      "python"
     ]
    }
   ],
   "source": [
    "for i in (string1):\n",
    "    print(i,end=\"\")"
   ]
  },
  {
   "cell_type": "markdown",
   "id": "7e118950-537e-43f4-a515-5ab0dec51ed9",
   "metadata": {},
   "source": [
    "**Difference between in operator and range operator**\n",
    "- range belongs to math family\n",
    "- inside $range$ we need to keep numbers only\n",
    "- whenever if we want iterate through a english letters\n",
    "- we need to choose $in$ operator\n",
    "- range means Numbers\n",
    "- in means Strings"
   ]
  },
  {
   "cell_type": "code",
   "execution_count": 60,
   "id": "7fed2eac-30b5-4738-9f8e-b452b12d4f78",
   "metadata": {},
   "outputs": [
    {
     "data": {
      "text/plain": [
       "True"
      ]
     },
     "execution_count": 60,
     "metadata": {},
     "output_type": "execute_result"
    }
   ],
   "source": [
    "'p'>'P'"
   ]
  },
  {
   "cell_type": "markdown",
   "id": "625fbd96-5532-470a-85f1-9b4994cc0059",
   "metadata": {},
   "source": [
    "- every english letter\n",
    "- every special characters how machine will understand?\n",
    "- machine language always considered as numbers only\n",
    "- Every non-numeric assign a number\n",
    "- That is called ASCII: American Standard Code for Information Interchange\n",
    "- A: 65, a: 97"
   ]
  },
  {
   "cell_type": "markdown",
   "id": "12120b6f-a1e2-4cf3-8773-3ef58c0f8a6f",
   "metadata": {},
   "source": [
    "**ord-chr**"
   ]
  },
  {
   "cell_type": "code",
   "execution_count": 67,
   "id": "913615e6-61dc-489a-b6ac-5069bc568430",
   "metadata": {},
   "outputs": [
    {
     "data": {
      "text/plain": [
       "(65, 97)"
      ]
     },
     "execution_count": 67,
     "metadata": {},
     "output_type": "execute_result"
    }
   ],
   "source": [
    "ord('A'),ord('a')"
   ]
  },
  {
   "cell_type": "code",
   "execution_count": 65,
   "id": "20b210ef-f2c8-46e4-88ad-23b002630bf7",
   "metadata": {},
   "outputs": [
    {
     "data": {
      "text/plain": [
       "'a'"
      ]
     },
     "execution_count": 65,
     "metadata": {},
     "output_type": "execute_result"
    }
   ],
   "source": [
    "chr(97)"
   ]
  },
  {
   "cell_type": "code",
   "execution_count": 72,
   "id": "3fe1f7f5-bb12-4470-b711-114e2d452363",
   "metadata": {},
   "outputs": [
    {
     "name": "stdout",
     "output_type": "stream",
     "text": [
      "D 68\n",
      "i 105\n",
      "n 110\n",
      "e 101\n",
      "s 115\n",
      "h 104\n",
      "603\n"
     ]
    }
   ],
   "source": [
    "# I want string1 : 'Dinesh'\n",
    "# print all ascii values of python\n",
    "summ=0\n",
    "for i in 'Dinesh':\n",
    "    print(i,ord(i))\n",
    "    summ=summ+ord(i)\n",
    "print(summ)"
   ]
  },
  {
   "cell_type": "code",
   "execution_count": 77,
   "id": "2dd8fced-8aa3-4eed-bc75-28af3271e6dd",
   "metadata": {},
   "outputs": [
    {
     "data": {
      "text/plain": [
       "['Formatter',\n",
       " 'Template',\n",
       " '_ChainMap',\n",
       " '__all__',\n",
       " '__builtins__',\n",
       " '__cached__',\n",
       " '__doc__',\n",
       " '__file__',\n",
       " '__loader__',\n",
       " '__name__',\n",
       " '__package__',\n",
       " '__spec__',\n",
       " '_re',\n",
       " '_sentinel_dict',\n",
       " '_string',\n",
       " 'ascii_letters',\n",
       " 'ascii_lowercase',\n",
       " 'ascii_uppercase',\n",
       " 'capwords',\n",
       " 'digits',\n",
       " 'hexdigits',\n",
       " 'octdigits',\n",
       " 'printable',\n",
       " 'punctuation',\n",
       " 'whitespace']"
      ]
     },
     "execution_count": 77,
     "metadata": {},
     "output_type": "execute_result"
    }
   ],
   "source": [
    "# I want to know all ascii numbers from A to Z\n",
    "# package called: string\n",
    "# apply the dir\n",
    "# there are some methods are there\n",
    "# in that one method will capital letters\n",
    "import string\n",
    "dir(string)"
   ]
  },
  {
   "cell_type": "code",
   "execution_count": 93,
   "id": "fce477e0-281f-4ee2-988d-7c6b2cf11a27",
   "metadata": {},
   "outputs": [
    {
     "name": "stdout",
     "output_type": "stream",
     "text": [
      "The Ascii values of a are: 97\n",
      "The Ascii values of b are: 98\n",
      "The Ascii values of c are: 99\n",
      "The Ascii values of d are: 100\n",
      "The Ascii values of e are: 101\n",
      "The Ascii values of f are: 102\n",
      "The Ascii values of g are: 103\n",
      "The Ascii values of h are: 104\n",
      "The Ascii values of i are: 105\n",
      "The Ascii values of j are: 106\n",
      "The Ascii values of k are: 107\n",
      "The Ascii values of l are: 108\n",
      "The Ascii values of m are: 109\n",
      "The Ascii values of n are: 110\n",
      "The Ascii values of o are: 111\n",
      "The Ascii values of p are: 112\n",
      "The Ascii values of q are: 113\n",
      "The Ascii values of r are: 114\n",
      "The Ascii values of s are: 115\n",
      "The Ascii values of t are: 116\n",
      "The Ascii values of u are: 117\n",
      "The Ascii values of v are: 118\n",
      "The Ascii values of w are: 119\n",
      "The Ascii values of x are: 120\n",
      "The Ascii values of y are: 121\n",
      "The Ascii values of z are: 122\n",
      "The Ascii values of A are: 65\n",
      "The Ascii values of B are: 66\n",
      "The Ascii values of C are: 67\n",
      "The Ascii values of D are: 68\n",
      "The Ascii values of E are: 69\n",
      "The Ascii values of F are: 70\n",
      "The Ascii values of G are: 71\n",
      "The Ascii values of H are: 72\n",
      "The Ascii values of I are: 73\n",
      "The Ascii values of J are: 74\n",
      "The Ascii values of K are: 75\n",
      "The Ascii values of L are: 76\n",
      "The Ascii values of M are: 77\n",
      "The Ascii values of N are: 78\n",
      "The Ascii values of O are: 79\n",
      "The Ascii values of P are: 80\n",
      "The Ascii values of Q are: 81\n",
      "The Ascii values of R are: 82\n",
      "The Ascii values of S are: 83\n",
      "The Ascii values of T are: 84\n",
      "The Ascii values of U are: 85\n",
      "The Ascii values of V are: 86\n",
      "The Ascii values of W are: 87\n",
      "The Ascii values of X are: 88\n",
      "The Ascii values of Y are: 89\n",
      "The Ascii values of Z are: 90\n"
     ]
    }
   ],
   "source": [
    "string.ascii_letters\n",
    "for i in string.ascii_letters:\n",
    "    print(f\"The Ascii values of {i} are: {ord(i)}\")"
   ]
  },
  {
   "cell_type": "code",
   "execution_count": 97,
   "id": "09bf2d2c-8e10-44fa-9706-de80848ca0c6",
   "metadata": {
    "scrolled": true
   },
   "outputs": [
    {
     "name": "stdout",
     "output_type": "stream",
     "text": [
      "The Ascii values of ! are: 33\n",
      "The Ascii values of \" are: 34\n",
      "The Ascii values of # are: 35\n",
      "The Ascii values of $ are: 36\n",
      "The Ascii values of % are: 37\n",
      "The Ascii values of & are: 38\n",
      "The Ascii values of ' are: 39\n",
      "The Ascii values of ( are: 40\n",
      "The Ascii values of ) are: 41\n",
      "The Ascii values of * are: 42\n",
      "The Ascii values of + are: 43\n",
      "The Ascii values of , are: 44\n",
      "The Ascii values of - are: 45\n",
      "The Ascii values of . are: 46\n",
      "The Ascii values of / are: 47\n",
      "The Ascii values of : are: 58\n",
      "The Ascii values of ; are: 59\n",
      "The Ascii values of < are: 60\n",
      "The Ascii values of = are: 61\n",
      "The Ascii values of > are: 62\n",
      "The Ascii values of ? are: 63\n",
      "The Ascii values of @ are: 64\n",
      "The Ascii values of [ are: 91\n",
      "The Ascii values of \\ are: 92\n",
      "The Ascii values of ] are: 93\n",
      "The Ascii values of ^ are: 94\n",
      "The Ascii values of _ are: 95\n",
      "The Ascii values of ` are: 96\n",
      "The Ascii values of { are: 123\n",
      "The Ascii values of | are: 124\n",
      "The Ascii values of } are: 125\n",
      "The Ascii values of ~ are: 126\n"
     ]
    }
   ],
   "source": [
    "string.punctuation\n",
    "for i in string.punctuation:\n",
    "    print(f\"The Ascii values of {i} are: {ord(i)}\")"
   ]
  },
  {
   "cell_type": "code",
   "execution_count": 101,
   "id": "66c2ea7d-594e-48a1-a3c5-9e5bfbb44bdb",
   "metadata": {},
   "outputs": [
    {
     "name": "stdout",
     "output_type": "stream",
     "text": [
      "20 \u0014 ===>21 \u0015 ===>22 \u0016 ===>23 \u0017 ===>24 \u0018 ===>25 \u0019 ===>26 \u001a ===>27 \u001b ===>28 \u001c",
      " ===>29 \u001d",
      " ===>30 \u001e",
      " ===>31 \u001f ===>32   ===>33 ! ===>34 \" ===>35 # ===>36 $ ===>37 % ===>38 & ===>39 ' ===>40 ( ===>41 ) ===>42 * ===>43 + ===>44 , ===>45 - ===>46 . ===>47 / ===>48 0 ===>49 1 ===>50 2 ===>51 3 ===>52 4 ===>53 5 ===>54 6 ===>55 7 ===>56 8 ===>57 9 ===>58 : ===>59 ; ===>60 < ===>61 = ===>62 > ===>63 ? ===>64 @ ===>65 A ===>66 B ===>67 C ===>68 D ===>69 E ===>70 F ===>71 G ===>72 H ===>73 I ===>74 J ===>75 K ===>76 L ===>77 M ===>78 N ===>79 O ===>80 P ===>81 Q ===>82 R ===>83 S ===>84 T ===>85 U ===>86 V ===>87 W ===>88 X ===>89 Y ===>90 Z ===>91 [ ===>92 \\ ===>93 ] ===>94 ^ ===>95 _ ===>96 ` ===>97 a ===>98 b ===>99 c ===>100 d ===>101 e ===>102 f ===>103 g ===>104 h ===>105 i ===>106 j ===>107 k ===>108 l ===>109 m ===>110 n ===>111 o ===>112 p ===>113 q ===>114 r ===>115 s ===>116 t ===>117 u ===>118 v ===>119 w ===>120 x ===>121 y ===>122 z ===>123 { ===>124 | ===>125 } ===>126 ~ ===>"
     ]
    }
   ],
   "source": [
    "for i in range(20,127):\n",
    "    print(i,chr(i),end=\" ===>\")"
   ]
  },
  {
   "cell_type": "code",
   "execution_count": 102,
   "id": "db8fc861-829d-4bce-9ed7-a45f357ab03f",
   "metadata": {},
   "outputs": [
    {
     "name": "stdout",
     "output_type": "stream",
     "text": [
      "3078 ఆ ===>3079 ఇ ===>3080 ఈ ===>3081 ఉ ===>3082 ఊ ===>3083 ఋ ===>3084 ఌ ===>3085 ఍ ===>3086 ఎ ===>3087 ఏ ===>3088 ఐ ===>3089 ఑ ===>3090 ఒ ===>3091 ఓ ===>3092 ఔ ===>3093 క ===>3094 ఖ ===>3095 గ ===>3096 ఘ ===>3097 ఙ ===>3098 చ ===>3099 ఛ ===>3100 జ ===>3101 ఝ ===>3102 ఞ ===>3103 ట ===>3104 ఠ ===>3105 డ ===>3106 ఢ ===>3107 ణ ===>3108 త ===>3109 థ ===>3110 ద ===>3111 ధ ===>3112 న ===>3113 ఩ ===>3114 ప ===>3115 ఫ ===>3116 బ ===>3117 భ ===>3118 మ ===>3119 య ===>3120 ర ===>3121 ఱ ===>3122 ల ===>3123 ళ ===>3124 ఴ ===>3125 వ ===>3126 శ ===>3127 ష ===>3128 స ===>3129 హ ===>3130 ఺ ===>3131 ఻ ===>3132 ఼ ===>3133 ఽ ===>3134 ా ===>3135 ి ===>3136 ీ ===>3137 ు ===>3138 ూ ===>3139 ృ ===>3140 ౄ ===>3141 ౅ ===>3142 ె ===>3143 ే ===>3144 ై ===>3145 ౉ ===>3146 ొ ===>3147 ో ===>3148 ౌ ===>3149 ్ ===>3150 ౎ ===>3151 ౏ ===>3152 ౐ ===>3153 ౑ ===>3154 ౒ ===>3155 ౓ ===>3156 ౔ ===>3157 ౕ ===>3158 ౖ ===>3159 ౗ ===>3160 ౘ ===>3161 ౙ ===>3162 ౚ ===>3163 ౛ ===>3164 ౜ ===>3165 ౝ ===>3166 ౞ ===>3167 ౟ ===>3168 ౠ ===>3169 ౡ ===>3170 ౢ ===>3171 ౣ ===>3172 ౤ ===>3173 ౥ ===>3174 ౦ ===>3175 ౧ ===>3176 ౨ ===>3177 ౩ ===>"
     ]
    }
   ],
   "source": [
    "for i in range(3078,3178):\n",
    "    print(i,chr(i),end=\" ===>\")"
   ]
  }
 ],
 "metadata": {
  "kernelspec": {
   "display_name": "Python 3 (ipykernel)",
   "language": "python",
   "name": "python3"
  },
  "language_info": {
   "codemirror_mode": {
    "name": "ipython",
    "version": 3
   },
   "file_extension": ".py",
   "mimetype": "text/x-python",
   "name": "python",
   "nbconvert_exporter": "python",
   "pygments_lexer": "ipython3",
   "version": "3.11.7"
  }
 },
 "nbformat": 4,
 "nbformat_minor": 5
}
