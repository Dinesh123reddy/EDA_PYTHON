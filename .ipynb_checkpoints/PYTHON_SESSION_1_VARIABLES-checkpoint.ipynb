{
 "cells": [
  {
   "cell_type": "markdown",
   "id": "3d091d49-2d4a-441f-b2c9-51220c40352f",
   "metadata": {},
   "source": [
    "## Variables\n",
    "- Variables are used to store the value\n",
    "- and the values can be change"
   ]
  },
  {
   "cell_type": "code",
   "execution_count": 2,
   "id": "880a724b-540f-406c-89ba-7dce4fc6ce46",
   "metadata": {},
   "outputs": [
    {
     "data": {
      "text/plain": [
       "100"
      ]
     },
     "execution_count": 2,
     "metadata": {},
     "output_type": "execute_result"
    }
   ],
   "source": [
    "number=100 # value 100 stored in a variable name called 'number'\n",
    "number # shift+enter or ctrl+enter"
   ]
  },
  {
   "cell_type": "code",
   "execution_count": 3,
   "id": "66fdfc73-7faa-4b01-8482-c39b243b226b",
   "metadata": {},
   "outputs": [
    {
     "data": {
      "text/plain": [
       "200"
      ]
     },
     "execution_count": 3,
     "metadata": {},
     "output_type": "execute_result"
    }
   ],
   "source": [
    "number=200 # value 200 stored in a variable name called 'number'\n",
    "number "
   ]
  },
  {
   "cell_type": "markdown",
   "id": "e8c07595-001e-4f77-a2d8-9a30ecb8a453",
   "metadata": {},
   "source": [
    "**Note**\n",
    "- Python is step by step process\n",
    "- Python will take last output as the latest value\n",
    "- In above code we are using same variable: number\n",
    "- but number value changed two times\n",
    "- first time 100\n",
    "- second time 200\n",
    "- latest value 200"
   ]
  },
  {
   "cell_type": "code",
   "execution_count": 6,
   "id": "e2021038-487b-4942-8de0-8322b255e1e8",
   "metadata": {},
   "outputs": [
    {
     "data": {
      "text/plain": [
       "300"
      ]
     },
     "execution_count": 6,
     "metadata": {},
     "output_type": "execute_result"
    }
   ],
   "source": [
    "NUM=300\n",
    "NUM"
   ]
  },
  {
   "cell_type": "code",
   "execution_count": 7,
   "id": "728e9657-7c99-4f62-be7c-88005336b9ea",
   "metadata": {},
   "outputs": [
    {
     "data": {
      "text/plain": [
       "(200, 300)"
      ]
     },
     "execution_count": 7,
     "metadata": {},
     "output_type": "execute_result"
    }
   ],
   "source": [
    "number, NUM"
   ]
  },
  {
   "cell_type": "code",
   "execution_count": 8,
   "id": "ad8a3f25-6b39-497f-9ee9-41779993d630",
   "metadata": {},
   "outputs": [
    {
     "data": {
      "text/plain": [
       "400"
      ]
     },
     "execution_count": 8,
     "metadata": {},
     "output_type": "execute_result"
    }
   ],
   "source": [
    "number123=400\n",
    "number123"
   ]
  },
  {
   "cell_type": "code",
   "execution_count": 1,
   "id": "4de025ee-09ed-4afc-aab6-eb59e1662a30",
   "metadata": {},
   "outputs": [
    {
     "ename": "SyntaxError",
     "evalue": "invalid decimal literal (3222919564.py, line 1)",
     "output_type": "error",
     "traceback": [
      "\u001b[1;36m  Cell \u001b[1;32mIn[1], line 1\u001b[1;36m\u001b[0m\n\u001b[1;33m    123num=500 # Variable can not start with the number\u001b[0m\n\u001b[1;37m      ^\u001b[0m\n\u001b[1;31mSyntaxError\u001b[0m\u001b[1;31m:\u001b[0m invalid decimal literal\n"
     ]
    }
   ],
   "source": [
    "123num=500 # Variable can not start with the number\n",
    "123num"
   ]
  },
  {
   "cell_type": "code",
   "execution_count": 2,
   "id": "3f6dbf0c-27cb-42b2-b4e2-3a98bd08b197",
   "metadata": {},
   "outputs": [
    {
     "ename": "SyntaxError",
     "evalue": "cannot assign to expression here. Maybe you meant '==' instead of '='? (4219728001.py, line 1)",
     "output_type": "error",
     "traceback": [
      "\u001b[1;36m  Cell \u001b[1;32mIn[2], line 1\u001b[1;36m\u001b[0m\n\u001b[1;33m    nu%m=600 # Variable should not include any specific characters\u001b[0m\n\u001b[1;37m    ^\u001b[0m\n\u001b[1;31mSyntaxError\u001b[0m\u001b[1;31m:\u001b[0m cannot assign to expression here. Maybe you meant '==' instead of '='?\n"
     ]
    }
   ],
   "source": [
    "nu%m=600 # Variable should not include any specific characters\n",
    "nu%m"
   ]
  },
  {
   "cell_type": "code",
   "execution_count": 3,
   "id": "e6f0494b-5f75-4aab-92cf-b6395bda5e94",
   "metadata": {},
   "outputs": [
    {
     "ename": "SyntaxError",
     "evalue": "invalid syntax (3347957780.py, line 1)",
     "output_type": "error",
     "traceback": [
      "\u001b[1;36m  Cell \u001b[1;32mIn[3], line 1\u001b[1;36m\u001b[0m\n\u001b[1;33m    num one=120 # Variable should not contain space\u001b[0m\n\u001b[1;37m        ^\u001b[0m\n\u001b[1;31mSyntaxError\u001b[0m\u001b[1;31m:\u001b[0m invalid syntax\n"
     ]
    }
   ],
   "source": [
    "num one=120 # Variable should not contain space \n",
    "num one"
   ]
  },
  {
   "cell_type": "code",
   "execution_count": 4,
   "id": "60b85ac1-375a-4bfe-87d3-2c786bc7ccf8",
   "metadata": {},
   "outputs": [
    {
     "data": {
      "text/plain": [
       "130"
      ]
     },
     "execution_count": 4,
     "metadata": {},
     "output_type": "execute_result"
    }
   ],
   "source": [
    "num_one=130 # Only for underscore it works\n",
    "num_one"
   ]
  },
  {
   "cell_type": "code",
   "execution_count": 13,
   "id": "b9f1dc97-ee50-4f3e-968c-2845f143564c",
   "metadata": {},
   "outputs": [
    {
     "data": {
      "text/plain": [
       "140"
      ]
     },
     "execution_count": 13,
     "metadata": {},
     "output_type": "execute_result"
    }
   ],
   "source": [
    "_=140\n",
    "_"
   ]
  },
  {
   "cell_type": "code",
   "execution_count": 21,
   "id": "76221773-405a-4116-91a6-9c05d5cbbe66",
   "metadata": {},
   "outputs": [
    {
     "name": "stdout",
     "output_type": "stream",
     "text": [
      "<class 'tuple'>\n"
     ]
    },
    {
     "data": {
      "text/plain": [
       "(1, 2)"
      ]
     },
     "execution_count": 21,
     "metadata": {},
     "output_type": "execute_result"
    }
   ],
   "source": [
    "num=(1,2)\n",
    "print(type(num))\n",
    "num"
   ]
  },
  {
   "cell_type": "code",
   "execution_count": 4,
   "id": "a6478c84-9e0c-49c5-930b-c28c7315b4b5",
   "metadata": {},
   "outputs": [
    {
     "ename": "TypeError",
     "evalue": "cannot unpack non-iterable int object",
     "output_type": "error",
     "traceback": [
      "\u001b[1;31m---------------------------------------------------------------------------\u001b[0m",
      "\u001b[1;31mTypeError\u001b[0m                                 Traceback (most recent call last)",
      "Cell \u001b[1;32mIn[4], line 1\u001b[0m\n\u001b[1;32m----> 1\u001b[0m n1,n2\u001b[38;5;241m=\u001b[39m\u001b[38;5;241m20\u001b[39m\n\u001b[0;32m      2\u001b[0m n1\n",
      "\u001b[1;31mTypeError\u001b[0m: cannot unpack non-iterable int object"
     ]
    }
   ],
   "source": [
    "n1,n2=20\n",
    "n1"
   ]
  },
  {
   "cell_type": "markdown",
   "id": "6c3ae173-d9cb-4086-bfc2-bb1aa99d030a",
   "metadata": {},
   "source": [
    "## Basic Keywords in python ( For keywords it shows green colour )\n",
    "- if\n",
    "- else\n",
    "- elif\n",
    "- while\n",
    "- for\n",
    "- True\n",
    "- False"
   ]
  },
  {
   "cell_type": "markdown",
   "id": "c458375f-d1f1-4d59-b661-b7a2e4ebfb43",
   "metadata": {},
   "source": [
    "- Python variables are case sensitives\n",
    "- Variables can be declare as capital letters\n",
    "- Variables can be declare as small letters\n",
    "- Variables can not start with numbers (Prefix)\n",
    "- Numbers can be suffix of the variables\n",
    "- Variables can not have special characters except **Underscore(_)**\n",
    "- Variables does not have space between them\n",
    "- Only underscore is possible\n",
    "- Keywords or reserved words can not use as variables\n",
    "- Two values can be assign to a single variable\n",
    "- One value can not assign to a two variables"
   ]
  }
 ],
 "metadata": {
  "kernelspec": {
   "display_name": "Python 3 (ipykernel)",
   "language": "python",
   "name": "python3"
  },
  "language_info": {
   "codemirror_mode": {
    "name": "ipython",
    "version": 3
   },
   "file_extension": ".py",
   "mimetype": "text/x-python",
   "name": "python",
   "nbconvert_exporter": "python",
   "pygments_lexer": "ipython3",
   "version": "3.11.7"
  }
 },
 "nbformat": 4,
 "nbformat_minor": 5
}
