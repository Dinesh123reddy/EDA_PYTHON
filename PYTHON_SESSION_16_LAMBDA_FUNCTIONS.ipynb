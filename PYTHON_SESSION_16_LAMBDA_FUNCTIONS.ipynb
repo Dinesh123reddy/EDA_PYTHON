{
 "cells": [
  {
   "cell_type": "markdown",
   "id": "372a76ff-4c85-41db-bf50-1c03a15dd0c3",
   "metadata": {},
   "source": [
    "**Lambda Functions**\n",
    "- Lambda functions represents function concept\n",
    "- But we can write in a single line\n",
    "- Like list comprehension, lambda functions similar only\n",
    "- It will decrease the time complexity\n",
    "- Always remember if we use many for loops or many conditions using multiple line, the time complexity will increase"
   ]
  },
  {
   "cell_type": "markdown",
   "id": "c8c0c89a-668f-4253-b08e-95a58e0a7248",
   "metadata": {},
   "source": [
    "**It will use a keyword lambda**\n",
    "\n",
    "# lambda<arguments>: <expression>"
   ]
  },
  {
   "cell_type": "code",
   "execution_count": 1,
   "id": "a395e821-9410-4bbb-9e6b-2ad6d5b952c3",
   "metadata": {},
   "outputs": [
    {
     "data": {
      "text/plain": [
       "20"
      ]
     },
     "execution_count": 1,
     "metadata": {},
     "output_type": "execute_result"
    }
   ],
   "source": [
    "def summ(n):\n",
    "    return(n+10)\n",
    "summ(10)"
   ]
  },
  {
   "cell_type": "markdown",
   "id": "9f5456e5-a14d-499c-b42a-e919cd99c39d",
   "metadata": {},
   "source": [
    "$Pattern-1$\n",
    "\n",
    "**Function with only one argument**\n",
    "- function name\n",
    "- argument name\n",
    "- return output"
   ]
  },
  {
   "cell_type": "code",
   "execution_count": null,
   "id": "4e960e03-d4f9-4b20-90ec-5e1a581842de",
   "metadata": {},
   "outputs": [],
   "source": [
    "# syntax: <function name> = lambda<argument name>: <return output>"
   ]
  },
  {
   "cell_type": "code",
   "execution_count": 9,
   "id": "c322c1db-087a-4a71-a400-ce0c0fd936a4",
   "metadata": {},
   "outputs": [
    {
     "data": {
      "text/plain": [
       "110"
      ]
     },
     "execution_count": 9,
     "metadata": {},
     "output_type": "execute_result"
    }
   ],
   "source": [
    "summ = lambda n:n+10\n",
    "summ(100)"
   ]
  },
  {
   "cell_type": "code",
   "execution_count": 10,
   "id": "a3ad3f1f-5959-4c64-82b6-a706f58458c8",
   "metadata": {},
   "outputs": [
    {
     "data": {
      "text/plain": [
       "1000"
      ]
     },
     "execution_count": 10,
     "metadata": {},
     "output_type": "execute_result"
    }
   ],
   "source": [
    "cube = lambda n:n**3\n",
    "cube(10)"
   ]
  },
  {
   "cell_type": "markdown",
   "id": "6b98c699-76ea-4b72-980a-d170a4bb54d5",
   "metadata": {},
   "source": [
    "$Pattern-2$\n",
    "\n",
    "**Function name with two arguments**"
   ]
  },
  {
   "cell_type": "code",
   "execution_count": null,
   "id": "9abf1e7d-c274-45de-9038-5eb4af3068ab",
   "metadata": {},
   "outputs": [],
   "source": [
    "# syntax = <function name> = lambda<arg1>,<arg2>: <return output>"
   ]
  },
  {
   "cell_type": "code",
   "execution_count": 12,
   "id": "e4b71587-fe20-4de6-9bb2-e8af16b25ab8",
   "metadata": {},
   "outputs": [
    {
     "data": {
      "text/plain": [
       "32"
      ]
     },
     "execution_count": 12,
     "metadata": {},
     "output_type": "execute_result"
    }
   ],
   "source": [
    "power = lambda n,m:n**m\n",
    "power(2,5)"
   ]
  },
  {
   "cell_type": "code",
   "execution_count": 15,
   "id": "cf3168fb-d553-494c-83d8-bc373abd4835",
   "metadata": {},
   "outputs": [
    {
     "data": {
      "text/plain": [
       "21.67"
      ]
     },
     "execution_count": 15,
     "metadata": {},
     "output_type": "execute_result"
    }
   ],
   "source": [
    "avg = lambda n1,n2,n3:(n1+n2+n3)/3\n",
    "round(avg(10,25,30),2)"
   ]
  },
  {
   "cell_type": "markdown",
   "id": "ae53ce5c-725f-48be-a571-b145928c83d7",
   "metadata": {},
   "source": [
    "$Pattern-3$\n",
    "\n",
    "**Default arguments**"
   ]
  },
  {
   "cell_type": "code",
   "execution_count": 17,
   "id": "75bd284f-7fa6-4f5b-95de-3591cd1463db",
   "metadata": {},
   "outputs": [
    {
     "data": {
      "text/plain": [
       "21.67"
      ]
     },
     "execution_count": 17,
     "metadata": {},
     "output_type": "execute_result"
    }
   ],
   "source": [
    "avg = lambda n1,n2,n3=30:(n1+n2+n3)/3\n",
    "round(avg(10,25),2)"
   ]
  },
  {
   "cell_type": "markdown",
   "id": "8c466ad4-a2c1-4f86-81df-88d4eb9a85ef",
   "metadata": {},
   "source": [
    "$Pattern-4$\n",
    "\n",
    "**if-else**"
   ]
  },
  {
   "cell_type": "code",
   "execution_count": null,
   "id": "fe49e7b6-bcb2-4471-9b42-1a52f3b9331a",
   "metadata": {},
   "outputs": [],
   "source": [
    "# syntax : function name = lambda<arg1>,<arg2>: <list comprehension>\n",
    "# syntax : function name = lambda<arg1>,<arg2>:<if-output><if-condition><else-><else-output>"
   ]
  },
  {
   "cell_type": "code",
   "execution_count": 20,
   "id": "dfec1f59-3814-4ec9-a15f-794048e47125",
   "metadata": {},
   "outputs": [
    {
     "data": {
      "text/plain": [
       "5"
      ]
     },
     "execution_count": 20,
     "metadata": {},
     "output_type": "execute_result"
    }
   ],
   "source": [
    "power = lambda a,b:a if a>b else b\n",
    "power(2,5)"
   ]
  },
  {
   "cell_type": "markdown",
   "id": "570f1ef2-14ac-4433-b3dc-f9fe00b43c0c",
   "metadata": {},
   "source": [
    "$Pattern-5$\n",
    "\n",
    "**using List**"
   ]
  },
  {
   "cell_type": "code",
   "execution_count": null,
   "id": "b17d45d1-e7ba-494b-82cd-0d135fd8e7af",
   "metadata": {},
   "outputs": [],
   "source": []
  },
  {
   "cell_type": "markdown",
   "id": "e0da3b7b-5737-4472-b748-3af8036f0f2f",
   "metadata": {},
   "source": [
    "**map**\n",
    "- The function and iterator are available now\n",
    "- we need to map both"
   ]
  },
  {
   "cell_type": "code",
   "execution_count": 39,
   "id": "d4a79d6c-22ed-439e-9ea8-908fbcb0b0b2",
   "metadata": {},
   "outputs": [
    {
     "data": {
      "text/plain": [
       "['Hyd', 'Chennai', 'Mumbai']"
      ]
     },
     "execution_count": 39,
     "metadata": {},
     "output_type": "execute_result"
    }
   ],
   "source": [
    "# syntax : lambda <variable>:<output>\n",
    "l=['hyd','chennai','mumbai']\n",
    "list(map(lambda i:i.capitalize(),l))"
   ]
  },
  {
   "cell_type": "code",
   "execution_count": 40,
   "id": "dadaa049-db8a-4673-9cb0-2d91c90794d8",
   "metadata": {},
   "outputs": [
    {
     "data": {
      "text/plain": [
       "('Hyd', 'Chennai', 'Mumbai')"
      ]
     },
     "execution_count": 40,
     "metadata": {},
     "output_type": "execute_result"
    }
   ],
   "source": [
    "# syntax : lambda <variable>:<output>\n",
    "l=['hyd','chennai','mumbai']\n",
    "tuple(map(lambda i:i.capitalize(),l))"
   ]
  },
  {
   "cell_type": "code",
   "execution_count": null,
   "id": "499ef425-eed7-4480-a7c4-f63ef590a9af",
   "metadata": {},
   "outputs": [],
   "source": [
    "# step-1 : Write your normal expression\n",
    "# ex: lambda <var>: <output> ===> lambda i:i.capitalize()\n",
    "# step-2 : add the iterator\n",
    "# ex: lambda <var>: <output>,<list> ===> lambda i:i.capitalize(),list1\n",
    "# step-3 : Map the both\n",
    "# ex: map(lambda <var>: <output>,<list>) ===> map(lambda i:i.capitalize(),list1)\n",
    "# step-4 : save the values in a list \n",
    "# ex: list(map(lambda <var>: <output>,<list>)) ===> list(map(lambda i:i.capitalize(),list1))\n"
   ]
  },
  {
   "cell_type": "markdown",
   "id": "abf59726-cd63-4480-9210-b5b073f4acb9",
   "metadata": {},
   "source": [
    "- case 1 : function call with one argument\n",
    "    - lambda argument : expression\n",
    "    - lambda variables : return output\n",
    "- case 2: function call with Two arguments\n",
    "    - lambda arg1,arg2 : expression\n",
    "    - lambda var1,var2 : return output\n",
    "- case "
   ]
  },
  {
   "cell_type": "code",
   "execution_count": 2,
   "id": "df3397af-c1d0-44c3-b479-598bf560adee",
   "metadata": {},
   "outputs": [
    {
     "data": {
      "text/plain": [
       "['HYD', 'CHENNAI', 'MUMBAI']"
      ]
     },
     "execution_count": 2,
     "metadata": {},
     "output_type": "execute_result"
    }
   ],
   "source": [
    "l=['hyd','chennai','mumbai']\n",
    "list(map(lambda i:i.upper(),l))"
   ]
  },
  {
   "cell_type": "markdown",
   "id": "6df34391-2034-4196-9f34-f667a3e85175",
   "metadata": {},
   "source": [
    "**Filter**\n",
    "- Whenever if condition is there use filter"
   ]
  },
  {
   "cell_type": "code",
   "execution_count": 6,
   "id": "6fb89062-63c7-43c9-863f-22b5e8142521",
   "metadata": {},
   "outputs": [
    {
     "data": {
      "text/plain": [
       "[False, True, True, False]"
      ]
     },
     "execution_count": 6,
     "metadata": {},
     "output_type": "execute_result"
    }
   ],
   "source": [
    "l=['hyd','che#nnai','mum#bai','blr']\n",
    "list(map(lambda i:'#' in i,l))"
   ]
  },
  {
   "cell_type": "code",
   "execution_count": 7,
   "id": "254c8b92-c2b5-48e8-8939-4f279ebcaf6f",
   "metadata": {},
   "outputs": [
    {
     "data": {
      "text/plain": [
       "['che#nnai', 'mum#bai']"
      ]
     },
     "execution_count": 7,
     "metadata": {},
     "output_type": "execute_result"
    }
   ],
   "source": [
    "l=['hyd','che#nnai','mum#bai','blr']\n",
    "list(filter(lambda i:'#' in i,l))"
   ]
  },
  {
   "cell_type": "code",
   "execution_count": 8,
   "id": "71ee17c0-5125-4b33-b19b-1e57549b93a9",
   "metadata": {},
   "outputs": [
    {
     "data": {
      "text/plain": [
       "[2, 6]"
      ]
     },
     "execution_count": 8,
     "metadata": {},
     "output_type": "execute_result"
    }
   ],
   "source": [
    "l=[1,3,2,7,6]\n",
    "list(filter(lambda i:i%2==0,l))"
   ]
  },
  {
   "cell_type": "code",
   "execution_count": 11,
   "id": "8cacb7e0-5683-4216-ace7-57078aefc9e7",
   "metadata": {},
   "outputs": [
    {
     "name": "stdout",
     "output_type": "stream",
     "text": [
      "15\n"
     ]
    }
   ],
   "source": [
    "l1=[1,2,3,4,5]\n",
    "# I want sum of the element\n",
    "\n",
    "# Method-1: sum\n",
    "sum(l1)\n",
    "\n",
    "# Method-2: without sum\n",
    "summ=0\n",
    "for i in l1:\n",
    "    summ+=i\n",
    "print(summ)"
   ]
  },
  {
   "cell_type": "markdown",
   "id": "ab49c862-689b-41cf-bc7d-00531a662e94",
   "metadata": {},
   "source": [
    "**Reduce**\n",
    "- All inbuilt function can achieve by reduce\n",
    "- Reduce is available from functools package\n",
    "- Level-1: reduce(lambda summ,i:summ+i,l)\n",
    "- Level-2: reduce(lambda summ,i:summ+i,l1,initial_value)\n",
    "- for"
   ]
  },
  {
   "cell_type": "code",
   "execution_count": 12,
   "id": "4a710739-0adc-410f-8d7c-a1fab082e795",
   "metadata": {},
   "outputs": [
    {
     "data": {
      "text/plain": [
       "15"
      ]
     },
     "execution_count": 12,
     "metadata": {},
     "output_type": "execute_result"
    }
   ],
   "source": [
    "import functools\n",
    "l=[1,2,3,4,5]\n",
    "functools.reduce(lambda summ,i:summ+i,l)"
   ]
  },
  {
   "cell_type": "code",
   "execution_count": 13,
   "id": "12dd7ea2-a33e-492a-ab2c-86733c68a3ca",
   "metadata": {},
   "outputs": [
    {
     "data": {
      "text/plain": [
       "15"
      ]
     },
     "execution_count": 13,
     "metadata": {},
     "output_type": "execute_result"
    }
   ],
   "source": [
    "from functools import reduce\n",
    "l1=[1,2,3,4,5]\n",
    "reduce(lambda summ,i:summ+i,l1)"
   ]
  },
  {
   "cell_type": "code",
   "execution_count": 15,
   "id": "734a72dd-8fb3-40bd-807e-2546729f033c",
   "metadata": {},
   "outputs": [
    {
     "data": {
      "text/plain": [
       "15"
      ]
     },
     "execution_count": 15,
     "metadata": {},
     "output_type": "execute_result"
    }
   ],
   "source": [
    "import functools\n",
    "l=[1,2,3,4,5]\n",
    "functools.reduce(lambda summ,i:summ+i,l,0)"
   ]
  },
  {
   "cell_type": "code",
   "execution_count": 16,
   "id": "4109baa6-64fc-4335-b930-c66b60383ebc",
   "metadata": {},
   "outputs": [
    {
     "data": {
      "text/plain": [
       "120"
      ]
     },
     "execution_count": 16,
     "metadata": {},
     "output_type": "execute_result"
    }
   ],
   "source": [
    "import functools as ft\n",
    "l=[1,2,3,4,5]\n",
    "ft.reduce(lambda mul,i:mul*i,l)"
   ]
  },
  {
   "cell_type": "code",
   "execution_count": 17,
   "id": "a365eff8-4922-46fa-bb72-fe4f88262bb7",
   "metadata": {},
   "outputs": [
    {
     "data": {
      "text/plain": [
       "120"
      ]
     },
     "execution_count": 17,
     "metadata": {},
     "output_type": "execute_result"
    }
   ],
   "source": [
    "import functools as ft\n",
    "l=[1,2,3,4,5]\n",
    "ft.reduce(lambda mul,i:mul*i,l,1)"
   ]
  },
  {
   "cell_type": "code",
   "execution_count": 18,
   "id": "6c8eb71c-6b0e-4dc1-bd59-0032fbd12d09",
   "metadata": {},
   "outputs": [
    {
     "data": {
      "text/plain": [
       "7"
      ]
     },
     "execution_count": 18,
     "metadata": {},
     "output_type": "execute_result"
    }
   ],
   "source": [
    "from functools import reduce\n",
    "l1=[6,5,2,4,7]\n",
    "reduce(lambda x,i: x if x>i else i,l1)"
   ]
  },
  {
   "cell_type": "code",
   "execution_count": 19,
   "id": "0587b696-3495-4a3a-87e0-b55eacd162ca",
   "metadata": {},
   "outputs": [],
   "source": [
    "import functools"
   ]
  },
  {
   "cell_type": "code",
   "execution_count": 20,
   "id": "c269a370-3133-49fd-8563-5cb3deed42fc",
   "metadata": {},
   "outputs": [
    {
     "data": {
      "text/plain": [
       "<module 'functools' from 'C:\\\\Users\\\\Dinesh Reddy\\\\anaconda3\\\\Anaconda\\\\Lib\\\\functools.py'>"
      ]
     },
     "execution_count": 20,
     "metadata": {},
     "output_type": "execute_result"
    }
   ],
   "source": [
    "functools"
   ]
  }
 ],
 "metadata": {
  "kernelspec": {
   "display_name": "Python 3 (ipykernel)",
   "language": "python",
   "name": "python3"
  },
  "language_info": {
   "codemirror_mode": {
    "name": "ipython",
    "version": 3
   },
   "file_extension": ".py",
   "mimetype": "text/x-python",
   "name": "python",
   "nbconvert_exporter": "python",
   "pygments_lexer": "ipython3",
   "version": "3.11.7"
  }
 },
 "nbformat": 4,
 "nbformat_minor": 5
}
