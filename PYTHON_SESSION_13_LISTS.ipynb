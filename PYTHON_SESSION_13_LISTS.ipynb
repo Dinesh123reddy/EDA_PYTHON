{
 "cells": [
  {
   "cell_type": "markdown",
   "id": "d1fdff6b-8f89-4cd1-a04f-8c5b56ddc9c1",
   "metadata": {},
   "source": [
    "**Representation**\n",
    "- String representation with quotes\n",
    "- List represent with square brackets[ ]"
   ]
  },
  {
   "cell_type": "code",
   "execution_count": 1,
   "id": "bbae55ee-540d-4ea0-8ed1-22b8cb004a3c",
   "metadata": {},
   "outputs": [
    {
     "name": "stdout",
     "output_type": "stream",
     "text": [
      "[1, 2, 3, 4, 5]\n"
     ]
    },
    {
     "data": {
      "text/plain": [
       "list"
      ]
     },
     "execution_count": 1,
     "metadata": {},
     "output_type": "execute_result"
    }
   ],
   "source": [
    "l=[1,2,3,4,5]\n",
    "print(l)\n",
    "type(l)"
   ]
  },
  {
   "cell_type": "code",
   "execution_count": 2,
   "id": "e73f725f-db8e-4ba1-830f-fd68db0bd6e5",
   "metadata": {},
   "outputs": [
    {
     "data": {
      "text/plain": [
       "['A', 'b', 'C', 'd', '2', '3']"
      ]
     },
     "execution_count": 2,
     "metadata": {},
     "output_type": "execute_result"
    }
   ],
   "source": [
    "l1=['A','b','C','d','2','3']\n",
    "l1"
   ]
  },
  {
   "cell_type": "markdown",
   "id": "477f52c4-45b2-421d-9a2b-dc60476e82ad",
   "metadata": {},
   "source": [
    "- list are array of elements\n",
    "- list elements are heterogeneous all the data types we can represent in a list\n",
    "- list elements are allowed duplicates\n",
    "- list in list is possible\n",
    "- variable assignment also possible in list"
   ]
  },
  {
   "cell_type": "code",
   "execution_count": 3,
   "id": "147d3841-0f06-43c8-8479-3da7a18c0939",
   "metadata": {},
   "outputs": [
    {
     "name": "stdout",
     "output_type": "stream",
     "text": [
      "5\n",
      "6\n",
      "2\n",
      "[2, 3, 5, 6, 6]\n",
      "5 6 6 3 2 "
     ]
    }
   ],
   "source": [
    "l2=[2,3,6,6,5]\n",
    "print(len(l2))\n",
    "print(max(l2))\n",
    "print(min(l2))\n",
    "print(sorted(l2))\n",
    "output=reversed(l2)\n",
    "for i in output:\n",
    "    print(i,end=\" \")"
   ]
  },
  {
   "cell_type": "markdown",
   "id": "a98b354f-fa56-480c-8938-8f2a4dcaf5cd",
   "metadata": {},
   "source": [
    "**append**\n",
    "- adding elements in a list at last index\n",
    "- append method is very important\n",
    "- most of the time we wil use append in the real time\n",
    "- when we add the value the original list will be written"
   ]
  },
  {
   "cell_type": "code",
   "execution_count": 40,
   "id": "ff1ce003-9069-4579-b826-7c160f7ccbb5",
   "metadata": {},
   "outputs": [
    {
     "data": {
      "text/plain": [
       "[2, 3, 6, 6, 5, 7]"
      ]
     },
     "execution_count": 40,
     "metadata": {},
     "output_type": "execute_result"
    }
   ],
   "source": [
    "l2=[2,3,6,6,5]   # Append object to the end of the list.\n",
    "l2.append(7)\n",
    "l2"
   ]
  },
  {
   "cell_type": "code",
   "execution_count": 39,
   "id": "ac99007a-05ea-4150-9755-d677eab502e0",
   "metadata": {},
   "outputs": [
    {
     "data": {
      "text/plain": [
       "[[2, 3, 6, 6, 5, 7]]"
      ]
     },
     "execution_count": 39,
     "metadata": {},
     "output_type": "execute_result"
    }
   ],
   "source": [
    "l3=[]\n",
    "l3.append(l2)\n",
    "l3"
   ]
  },
  {
   "cell_type": "code",
   "execution_count": 45,
   "id": "9935d2d9-cc5b-4bd2-ad7a-31ae3ebaaac5",
   "metadata": {},
   "outputs": [
    {
     "data": {
      "text/plain": [
       "([1, 5, 9], 15)"
      ]
     },
     "execution_count": 45,
     "metadata": {},
     "output_type": "execute_result"
    }
   ],
   "source": [
    "# str1='hai hai hai'\n",
    "# what are index of 'a'\n",
    "# save that index numbers in a list\n",
    "str1='hai hai hai'\n",
    "l4=[]\n",
    "for i in range(len(str1)):\n",
    "    if str1[i]=='a':\n",
    "        l4.append(i)\n",
    "l4,sum(l4)"
   ]
  },
  {
   "cell_type": "code",
   "execution_count": 48,
   "id": "17d195bd-0c16-4882-b501-8bca0559767d",
   "metadata": {},
   "outputs": [
    {
     "name": "stdout",
     "output_type": "stream",
     "text": [
      "Mumbai\n",
      "Chennai\n"
     ]
    }
   ],
   "source": [
    "# list=['Hyd','Mumbai','Chennai','Blr']\n",
    "# we want elements which are length of elements >4\n",
    "# ans=['Mumbai','Chennai']\n",
    "list=['Hyd','Mumbai','Chennai','Blr']\n",
    "for i in range(len(list)):\n",
    "    if len(list[i])>4:\n",
    "        print(list[i])"
   ]
  },
  {
   "cell_type": "code",
   "execution_count": 50,
   "id": "da1a3dd2-201b-44f7-932e-dde2d61688df",
   "metadata": {},
   "outputs": [
    {
     "name": "stdout",
     "output_type": "stream",
     "text": [
      "Mum#bai\n",
      "Chen#nai\n"
     ]
    }
   ],
   "source": [
    "# list=['Hyd','Mum#bai','Chen#nai','Blr']\n",
    "# we want elements which are length of elements >4\n",
    "# ans=['Mumbai','Chennai']\n",
    "list=['Hyd','Mum#bai','Chen#nai','Blr']\n",
    "for i in range(len(list)):\n",
    "    if '#' in list[i]:\n",
    "        print(list[i])"
   ]
  },
  {
   "cell_type": "code",
   "execution_count": 60,
   "id": "771a1fbf-123c-413a-994e-d8f2d71c855b",
   "metadata": {},
   "outputs": [
    {
     "data": {
      "text/plain": [
       "['Hyd', 'Mumbai', 'Chennai', 'Blr']"
      ]
     },
     "execution_count": 60,
     "metadata": {},
     "output_type": "execute_result"
    }
   ],
   "source": [
    "# list=['Hyd','Mumbai','Chennai','Blr']\n",
    "# we want elements which are length of elements >4\n",
    "# ans=['hyd','mumbai','chennai','blr']\n",
    "list=['Hyd','Mumbai','Chennai','Blr']\n",
    "for i in range(len(list)):\n",
    "    if list[i][0].isupper():\n",
    "        list[i][0].upper()\n",
    "list"
   ]
  },
  {
   "cell_type": "code",
   "execution_count": 5,
   "id": "42fef40a-e6b2-4c35-8d6d-4fcdf8d6f81f",
   "metadata": {},
   "outputs": [
    {
     "data": {
      "text/plain": [
       "[3, 6, 5, 2]"
      ]
     },
     "execution_count": 5,
     "metadata": {},
     "output_type": "execute_result"
    }
   ],
   "source": [
    "l2=[6,3,6,5,2]   # Remove first occurrence of value.\n",
    "l2.remove(6)\n",
    "l2"
   ]
  },
  {
   "cell_type": "markdown",
   "id": "ef2c45fe-3f58-49c3-a277-9c8456519ed6",
   "metadata": {},
   "source": [
    "**insert**\n",
    "- It will insert the element based on index\n",
    "- append will add the element at last only"
   ]
  },
  {
   "cell_type": "code",
   "execution_count": 6,
   "id": "b5b857ce-3862-428e-9a9d-61ae0221d4da",
   "metadata": {},
   "outputs": [
    {
     "data": {
      "text/plain": [
       "[2, 3, 6, 6, 3, 5]"
      ]
     },
     "execution_count": 6,
     "metadata": {},
     "output_type": "execute_result"
    }
   ],
   "source": [
    "l2=[2,3,6,6,5]    # l2.insert(index, object, /)\n",
    "l2.insert(4,3)    # Insert object before index\n",
    "l2"
   ]
  },
  {
   "cell_type": "code",
   "execution_count": 8,
   "id": "219c7e71-f20e-4319-8238-938d5020e29a",
   "metadata": {},
   "outputs": [
    {
     "data": {
      "text/plain": [
       "[2, 3, 'Dinesh', 6, 6, 5]"
      ]
     },
     "execution_count": 8,
     "metadata": {},
     "output_type": "execute_result"
    }
   ],
   "source": [
    "l2=[2,3,6,6,5] # l2.insert(index, object, /)\n",
    "i1=l2.index(6)   # Inserting object at first 6 \n",
    "l2.insert(i1,'Dinesh')    # Insert object before index\n",
    "l2"
   ]
  },
  {
   "cell_type": "code",
   "execution_count": 7,
   "id": "b4afca78-410b-4dd3-90c3-442f68aab04e",
   "metadata": {},
   "outputs": [
    {
     "data": {
      "text/plain": [
       "[2, 3, 6, 'Dinesh', 6, 5]"
      ]
     },
     "execution_count": 7,
     "metadata": {},
     "output_type": "execute_result"
    }
   ],
   "source": [
    "l2=[2,3,6,6,5] # l2.insert(index, object, /)\n",
    "i1=l2.index(6)   # Inserting object at second 6\n",
    "l2.insert(i1+1,'Dinesh')    # Insert object before index\n",
    "l2"
   ]
  },
  {
   "cell_type": "code",
   "execution_count": 14,
   "id": "04f2e0f6-cb30-4f51-8440-67fe9b398641",
   "metadata": {},
   "outputs": [
    {
     "data": {
      "text/plain": [
       "[2, 3, 6, 6, 5, 5, 6]"
      ]
     },
     "execution_count": 14,
     "metadata": {},
     "output_type": "execute_result"
    }
   ],
   "source": [
    "l2=[2,3,6,6,5,6]\n",
    "i1=l2.index(5)\n",
    "i2=l2.index(i1+1)\n",
    "l2.insert(i2+1,5)\n",
    "l2"
   ]
  },
  {
   "cell_type": "code",
   "execution_count": 7,
   "id": "c2aa59e3-a8fb-4817-bcce-1083c08ee17c",
   "metadata": {},
   "outputs": [
    {
     "data": {
      "text/plain": [
       "['__add__',\n",
       " '__class__',\n",
       " '__class_getitem__',\n",
       " '__contains__',\n",
       " '__delattr__',\n",
       " '__delitem__',\n",
       " '__dir__',\n",
       " '__doc__',\n",
       " '__eq__',\n",
       " '__format__',\n",
       " '__ge__',\n",
       " '__getattribute__',\n",
       " '__getitem__',\n",
       " '__getstate__',\n",
       " '__gt__',\n",
       " '__hash__',\n",
       " '__iadd__',\n",
       " '__imul__',\n",
       " '__init__',\n",
       " '__init_subclass__',\n",
       " '__iter__',\n",
       " '__le__',\n",
       " '__len__',\n",
       " '__lt__',\n",
       " '__mul__',\n",
       " '__ne__',\n",
       " '__new__',\n",
       " '__reduce__',\n",
       " '__reduce_ex__',\n",
       " '__repr__',\n",
       " '__reversed__',\n",
       " '__rmul__',\n",
       " '__setattr__',\n",
       " '__setitem__',\n",
       " '__sizeof__',\n",
       " '__str__',\n",
       " '__subclasshook__',\n",
       " 'append',\n",
       " 'clear',\n",
       " 'copy',\n",
       " 'count',\n",
       " 'extend',\n",
       " 'index',\n",
       " 'insert',\n",
       " 'pop',\n",
       " 'remove',\n",
       " 'reverse',\n",
       " 'sort']"
      ]
     },
     "execution_count": 7,
     "metadata": {},
     "output_type": "execute_result"
    }
   ],
   "source": [
    "dir(list) # This can be written as dir([])"
   ]
  },
  {
   "cell_type": "code",
   "execution_count": 14,
   "id": "7d3b1adb-4e19-487b-8354-40506f0494b7",
   "metadata": {},
   "outputs": [
    {
     "data": {
      "text/plain": [
       "[]"
      ]
     },
     "execution_count": 14,
     "metadata": {},
     "output_type": "execute_result"
    }
   ],
   "source": [
    "l2=[2,3,6,6,5]  #  Remove all items from list.\n",
    "l2.clear()\n",
    "l2"
   ]
  },
  {
   "cell_type": "code",
   "execution_count": 9,
   "id": "729df147-d7e7-4d8a-9b82-cb9a4cc0fee1",
   "metadata": {},
   "outputs": [
    {
     "data": {
      "text/plain": [
       "[2, 3, 6, 6, 5, 4]"
      ]
     },
     "execution_count": 9,
     "metadata": {},
     "output_type": "execute_result"
    }
   ],
   "source": [
    "l2=[2,3,6,6,5]  #  Remove all items from list.\n",
    "l2.append(4)\n",
    "l2"
   ]
  },
  {
   "cell_type": "markdown",
   "id": "2f5a7fdc-1535-4057-979f-fdf865481446",
   "metadata": {},
   "source": [
    "**pop-remove-del**\n",
    "- pop will remove the item and display the item which is removing\n",
    "- pop will take only one argument i.e. index\n",
    "- pop will remove the item based on index\n",
    "- if you dont provide any index, by default it will remove last value and displays\n",
    "- because the default index value is -1"
   ]
  },
  {
   "cell_type": "code",
   "execution_count": 16,
   "id": "b10bc712-54f5-417b-86dc-d8ca045aa237",
   "metadata": {},
   "outputs": [
    {
     "name": "stdout",
     "output_type": "stream",
     "text": [
      "6\n"
     ]
    },
    {
     "data": {
      "text/plain": [
       "[2, 3, 6, 5]"
      ]
     },
     "execution_count": 16,
     "metadata": {},
     "output_type": "execute_result"
    }
   ],
   "source": [
    "l2=[2,3,6,6,5]   # l2.pop(index=-1, /)\n",
    "print(l2.pop(-3))    # Remove and return item at index (default last).\n",
    "l2"
   ]
  },
  {
   "cell_type": "code",
   "execution_count": 30,
   "id": "44d7f233-798e-4e3b-b018-fa25d2a3ecc9",
   "metadata": {},
   "outputs": [
    {
     "name": "stdout",
     "output_type": "stream",
     "text": [
      "[1, 2, 3, 'Apple', 4, 'Apple', 5, 6]\n",
      "[1, 2, 3, 4, 'Apple', 5, 6]\n",
      "[1, 2, 3, 4, 5, 6]\n"
     ]
    }
   ],
   "source": [
    "l2=[1,2,3,'Apple',4,'Apple',5,6]  \n",
    "print(l2)\n",
    "i1=l2.index('Apple')\n",
    "l2.pop(i1)\n",
    "print(l2)\n",
    "i2=l2.index('Apple')\n",
    "l2.pop(i2)\n",
    "print(l2)"
   ]
  },
  {
   "cell_type": "markdown",
   "id": "2ba19e42-5705-4771-922e-a18b7edb0003",
   "metadata": {},
   "source": [
    "**remove**\n",
    "- remove will take the value\n",
    "- remove will delete the first occurence of element"
   ]
  },
  {
   "cell_type": "code",
   "execution_count": 57,
   "id": "3c6a0142-36b8-4dbd-960a-3cf6f24669b1",
   "metadata": {},
   "outputs": [
    {
     "name": "stdout",
     "output_type": "stream",
     "text": [
      "[1, 2, 3, 'Apple', 4, 'Apple', 5, 6]\n",
      "[1, 2, 3, 4, 'Apple', 5, 6]\n",
      "[1, 2, 3, 4, 5, 6]\n"
     ]
    }
   ],
   "source": [
    "l2=[1,2,3,'Apple',4,'Apple',5,6]  \n",
    "print(l2)\n",
    "l2.remove('Apple')\n",
    "print(l2)\n",
    "l2.remove('Apple')\n",
    "print(l2)"
   ]
  },
  {
   "cell_type": "code",
   "execution_count": 58,
   "id": "e507eb41-65c3-40f0-8df6-e9f3d90c27ad",
   "metadata": {},
   "outputs": [
    {
     "data": {
      "text/plain": [
       "'hai how are you im good thank you'"
      ]
     },
     "execution_count": 58,
     "metadata": {},
     "output_type": "execute_result"
    }
   ],
   "source": [
    "str='hai apple how are you apple im good apple thank you apple'\n",
    "list=str.split()\n",
    "a=list.count('apple')\n",
    "for i in range(a):\n",
    "    list.remove('apple')\n",
    "c=' '.join(list)\n",
    "c"
   ]
  },
  {
   "cell_type": "code",
   "execution_count": 53,
   "id": "bb3882ff-c1a1-4c6d-90f0-33a834d7c67a",
   "metadata": {},
   "outputs": [
    {
     "data": {
      "text/plain": [
       "'hai how are you im good thank you'"
      ]
     },
     "execution_count": 53,
     "metadata": {},
     "output_type": "execute_result"
    }
   ],
   "source": [
    "str='hai apple how are you apple im good apple thank you apple'\n",
    "list=str.split()\n",
    "a=list.count('apple')\n",
    "for i in range(a):\n",
    "        b=list.index('apple')\n",
    "        list.pop(b)\n",
    "c=' '.join(list)\n",
    "c"
   ]
  },
  {
   "cell_type": "markdown",
   "id": "694af064-0319-40a3-a599-f8c04dc7fad2",
   "metadata": {},
   "source": [
    "**del**"
   ]
  },
  {
   "cell_type": "code",
   "execution_count": 60,
   "id": "f2e65ef6-eef1-40ce-99d8-d35a464c9c7d",
   "metadata": {},
   "outputs": [
    {
     "data": {
      "text/plain": [
       "[1, 2, 3, 4, 'Apple', 5, 6]"
      ]
     },
     "execution_count": 60,
     "metadata": {},
     "output_type": "execute_result"
    }
   ],
   "source": [
    "l2=[1,2,3,'Apple',4,'Apple',5,6]\n",
    "del(l2[3])\n",
    "l2"
   ]
  },
  {
   "cell_type": "code",
   "execution_count": 12,
   "id": "49e415c8-20d4-4819-a3cd-5421c8b32929",
   "metadata": {},
   "outputs": [
    {
     "data": {
      "text/plain": [
       "2"
      ]
     },
     "execution_count": 12,
     "metadata": {},
     "output_type": "execute_result"
    }
   ],
   "source": [
    "l2=[2,3,6,6,5]     # Return first index of value.\n",
    "l2.index(6)"
   ]
  },
  {
   "cell_type": "code",
   "execution_count": 1,
   "id": "2ff175a4-2c5c-4ec3-ac00-4ab26fd7273e",
   "metadata": {},
   "outputs": [
    {
     "data": {
      "text/plain": [
       "[2, 3, 6, 6, 5, '6']"
      ]
     },
     "execution_count": 1,
     "metadata": {},
     "output_type": "execute_result"
    }
   ],
   "source": [
    "l2=[2,3,6,6,5]     # Extend list by appending elements from the iterable.\n",
    "l2.extend('6')\n",
    "l2"
   ]
  },
  {
   "cell_type": "code",
   "execution_count": 10,
   "id": "8246c228-0d07-4aea-970a-ae502dc50409",
   "metadata": {},
   "outputs": [
    {
     "data": {
      "text/plain": [
       "[2, 3, 6, 6, 5]"
      ]
     },
     "execution_count": 10,
     "metadata": {},
     "output_type": "execute_result"
    }
   ],
   "source": [
    "l2=[2,3,6,6,5]     # Return a shallow copy of the list.\n",
    "l2.copy()"
   ]
  },
  {
   "cell_type": "code",
   "execution_count": 9,
   "id": "47bdd3d8-f69f-420c-8540-a4cf44a10dbd",
   "metadata": {},
   "outputs": [
    {
     "data": {
      "text/plain": [
       "1"
      ]
     },
     "execution_count": 9,
     "metadata": {},
     "output_type": "execute_result"
    }
   ],
   "source": [
    "l2=[2,3,6,6,5]    # l2.count(value, /)\n",
    "l2.count(3)       # Return number of occurrences of value."
   ]
  },
  {
   "cell_type": "code",
   "execution_count": 8,
   "id": "98839e72-2823-49ca-b01e-fa0f00fc51a5",
   "metadata": {},
   "outputs": [
    {
     "data": {
      "text/plain": [
       "'A'"
      ]
     },
     "execution_count": 8,
     "metadata": {},
     "output_type": "execute_result"
    }
   ],
   "source": [
    "l3=[1,[2,'A']]\n",
    "l3[1:2][0][1]"
   ]
  },
  {
   "cell_type": "markdown",
   "id": "44573c53-f37f-4d00-a442-5a51547b7246",
   "metadata": {},
   "source": [
    "**List Slicing**"
   ]
  },
  {
   "cell_type": "code",
   "execution_count": 18,
   "id": "db1ea0a8-34a3-415e-9e1f-b19c981bd19b",
   "metadata": {},
   "outputs": [
    {
     "name": "stdout",
     "output_type": "stream",
     "text": [
      "[4, 6, 'B']\n",
      "[]\n",
      "[4]\n",
      "[]\n",
      "[]\n",
      "['E']\n",
      "['E', 'C', 'A']\n"
     ]
    }
   ],
   "source": [
    "l=[1,2,3,4,5,6,'A','B','C','D','E','F','G']\n",
    "print(l[3:9:2])\n",
    "print(l[3:9:-2])\n",
    "print(l[3:-9:2])\n",
    "print(l[-3:9:2])\n",
    "print(l[-3:-9:2])\n",
    "print(l[-3:9:-2])\n",
    "print(l[-3:-9:-2])"
   ]
  },
  {
   "cell_type": "code",
   "execution_count": 21,
   "id": "1dc25187-e2fc-40f5-8375-7d2aa16ed915",
   "metadata": {},
   "outputs": [
    {
     "name": "stdout",
     "output_type": "stream",
     "text": [
      "Dinesh\n",
      "Reddy\n"
     ]
    }
   ],
   "source": [
    "print(\"Dinesh\\nReddy\")"
   ]
  },
  {
   "cell_type": "markdown",
   "id": "2280159b-5e38-4a07-a538-a65252c9cd71",
   "metadata": {},
   "source": [
    "**Split-join**\n",
    "- split will apply for strings, to divide the words or characters\n",
    "- when we split the elements will be stored in a list format\n",
    "- Join is used to combine the elements of a list in a string format\n",
    "\n",
    "- **split-strings**\n",
    "\n",
    "- **join-list**"
   ]
  },
  {
   "cell_type": "code",
   "execution_count": 1,
   "id": "e939ab9f-1778-4282-a7eb-286216137082",
   "metadata": {},
   "outputs": [
    {
     "data": {
      "text/plain": [
       "['Hello', 'Im', 'Learning', 'Python']"
      ]
     },
     "execution_count": 1,
     "metadata": {},
     "output_type": "execute_result"
    }
   ],
   "source": [
    "str1='hello im learning python'\n",
    "words=str1.split()\n",
    "new_words=[]\n",
    "for i in words:\n",
    "    new_words.append(i.capitalize())\n",
    "\n",
    "new_words"
   ]
  },
  {
   "cell_type": "code",
   "execution_count": 3,
   "id": "267904ca-4b33-4cff-b7e8-f0660dd12931",
   "metadata": {},
   "outputs": [
    {
     "data": {
      "text/plain": [
       "'Hello Im Learning Python'"
      ]
     },
     "execution_count": 3,
     "metadata": {},
     "output_type": "execute_result"
    }
   ],
   "source": [
    "str1='hello im learning python'\n",
    "words=str1.split()\n",
    "new_words=[]\n",
    "for i in words:\n",
    "    new_words.append(i.capitalize())\n",
    "\n",
    "' '.join(new_words)"
   ]
  },
  {
   "cell_type": "code",
   "execution_count": 6,
   "id": "de0d154f-5ca5-47a6-8533-017149d5f4c9",
   "metadata": {},
   "outputs": [
    {
     "data": {
      "text/plain": [
       "4.123105625617661"
      ]
     },
     "execution_count": 6,
     "metadata": {},
     "output_type": "execute_result"
    }
   ],
   "source": [
    "import math\n",
    "a=[1,2]\n",
    "b=[5,9]\n",
    "for i in range(len(a)-1):\n",
    "    v1=a[i+1]-a[i]\n",
    "    v2=b[i+1]-b[i]\n",
    "v11=v1**2\n",
    "v22=v2**2\n",
    "math.sqrt(v11+v22)"
   ]
  },
  {
   "cell_type": "code",
   "execution_count": 12,
   "id": "2bbacdec-3006-4efc-8250-85d3bea6772d",
   "metadata": {},
   "outputs": [
    {
     "data": {
      "text/plain": [
       "[[1, 2], [2, 3], [3, 4]]"
      ]
     },
     "execution_count": 12,
     "metadata": {},
     "output_type": "execute_result"
    }
   ],
   "source": [
    "c=[[1,2],[2,3],[3,4]]\n",
    "val=[2,3]\n",
    "l1=[]\n",
    "for i in c:\n",
    "    l1.append(i)\n",
    "\n",
    "l1"
   ]
  },
  {
   "cell_type": "markdown",
   "id": "ff3b03b8-3f3d-4a90-ba1f-b2f4ed032e8a",
   "metadata": {},
   "source": [
    "- append just append the value with base data type\n",
    "- extend is concatenate the value, and the list will be overwrite with new values\n",
    "- extend can take any iterable format type i.e. string,list,tuple\n",
    "- extend and concatenation both are same\n",
    "- the list will not overwrite in concatenation"
   ]
  },
  {
   "cell_type": "code",
   "execution_count": null,
   "id": "d5d5cbbd-12f5-42f2-8ac3-5b74c357758d",
   "metadata": {},
   "outputs": [],
   "source": []
  },
  {
   "cell_type": "code",
   "execution_count": null,
   "id": "5f704613-6e6c-4d0d-8d09-12a857654b58",
   "metadata": {},
   "outputs": [],
   "source": []
  },
  {
   "cell_type": "code",
   "execution_count": null,
   "id": "d35fc3b1-3de7-4e17-899e-91f5ff8f293e",
   "metadata": {},
   "outputs": [],
   "source": []
  },
  {
   "cell_type": "code",
   "execution_count": null,
   "id": "ee0af135-a690-418c-b960-56c0e69b9aca",
   "metadata": {},
   "outputs": [],
   "source": []
  },
  {
   "cell_type": "code",
   "execution_count": null,
   "id": "389e76c2-fe1c-44a9-9ce4-98ebbb8c2fb6",
   "metadata": {},
   "outputs": [],
   "source": []
  },
  {
   "cell_type": "code",
   "execution_count": null,
   "id": "dafae46d-335b-451a-bb30-b7919ae856d5",
   "metadata": {},
   "outputs": [],
   "source": []
  },
  {
   "cell_type": "code",
   "execution_count": null,
   "id": "8dc4194d-507d-4d4b-9e80-c342d04baa37",
   "metadata": {},
   "outputs": [],
   "source": []
  },
  {
   "cell_type": "code",
   "execution_count": null,
   "id": "ee2507dd-9beb-493d-803d-3de639b787fa",
   "metadata": {},
   "outputs": [],
   "source": []
  },
  {
   "cell_type": "code",
   "execution_count": null,
   "id": "7fdb0664-a89a-4ebe-8d63-a7ccf93612cf",
   "metadata": {},
   "outputs": [],
   "source": []
  }
 ],
 "metadata": {
  "kernelspec": {
   "display_name": "Python 3 (ipykernel)",
   "language": "python",
   "name": "python3"
  },
  "language_info": {
   "codemirror_mode": {
    "name": "ipython",
    "version": 3
   },
   "file_extension": ".py",
   "mimetype": "text/x-python",
   "name": "python",
   "nbconvert_exporter": "python",
   "pygments_lexer": "ipython3",
   "version": "3.11.7"
  }
 },
 "nbformat": 4,
 "nbformat_minor": 5
}
