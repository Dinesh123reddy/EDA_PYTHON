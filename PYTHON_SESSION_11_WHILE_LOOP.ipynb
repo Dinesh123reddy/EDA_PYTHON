{
 "cells": [
  {
   "cell_type": "markdown",
   "id": "a235b6aa-d1b3-4815-b90c-cc27afb881ce",
   "metadata": {},
   "source": [
    "**Loops**\n",
    "- For loop\n",
    "- while loop: If you want to run an infinite iterations will choose while loop\n",
    "- Every loop we need three things\n",
    "    - Initial point(starting point)\n",
    "    - Increment or Decrement\n",
    "    - Condition(stop point)"
   ]
  },
  {
   "cell_type": "code",
   "execution_count": 1,
   "id": "cb722b47-d7ee-42d5-84db-bc613dc4fd8d",
   "metadata": {},
   "outputs": [
    {
     "name": "stdout",
     "output_type": "stream",
     "text": [
      "1 3 5 7 9 "
     ]
    }
   ],
   "source": [
    "for i in range(1,10,2):\n",
    "    print(i,end=\" \")"
   ]
  },
  {
   "cell_type": "markdown",
   "id": "5f6584ce-3677-40b4-a3c5-cd22e63145ce",
   "metadata": {},
   "source": [
    "- In for loop all three things mentioned in a single line: range(initial,stop,step)\n",
    "- In while loop we will use these three things, in as a three lines"
   ]
  },
  {
   "cell_type": "markdown",
   "id": "2bd5bd99-a7cc-46df-aa0d-04361623393e",
   "metadata": {},
   "source": [
    "**Syntax for while loop**"
   ]
  },
  {
   "cell_type": "code",
   "execution_count": null,
   "id": "090f0ce0-f6d8-419e-9560-8dea370758f8",
   "metadata": {},
   "outputs": [],
   "source": [
    "<start point>\n",
    "while <how to stop>:\n",
    "    codeline1\n",
    "    codeline2\n",
    "    <increment,decrement>"
   ]
  },
  {
   "cell_type": "code",
   "execution_count": 4,
   "id": "363a617f-2bc3-46a7-b226-9f24a0b3d194",
   "metadata": {},
   "outputs": [
    {
     "name": "stdout",
     "output_type": "stream",
     "text": [
      "1\n",
      "3\n",
      "5\n",
      "7\n",
      "9\n"
     ]
    }
   ],
   "source": [
    "a=1\n",
    "while a<10:\n",
    "    print(a)\n",
    "    a+=2"
   ]
  },
  {
   "cell_type": "code",
   "execution_count": 8,
   "id": "4b538970-86c5-42ad-8eee-44da822a89e5",
   "metadata": {},
   "outputs": [
    {
     "name": "stdout",
     "output_type": "stream",
     "text": [
      "1\n",
      "-1\n",
      "-3\n",
      "-5\n",
      "-7\n"
     ]
    }
   ],
   "source": [
    "a=1\n",
    "while a<10:\n",
    "    print(a)\n",
    "    a-=2\n",
    "    if a==-9:\n",
    "        break"
   ]
  },
  {
   "cell_type": "code",
   "execution_count": 14,
   "id": "1c6a3d4b-f553-436b-a002-5afc96fa216b",
   "metadata": {},
   "outputs": [
    {
     "name": "stdout",
     "output_type": "stream",
     "text": [
      "20 19 18 17 16 15 14 13 12 11 10 9 8 7 6 5 4 3 2 1 "
     ]
    }
   ],
   "source": [
    "a=20\n",
    "while a>0:\n",
    "    print(a,end=\" \")\n",
    "    a-=1"
   ]
  },
  {
   "cell_type": "code",
   "execution_count": 15,
   "id": "0470ba9c-c9c1-40a0-a038-8152ae1cdb20",
   "metadata": {},
   "outputs": [
    {
     "name": "stdout",
     "output_type": "stream",
     "text": [
      "-20 -19 -18 -17 -16 -15 -14 -13 -12 -11 -10 -9 -8 -7 -6 -5 -4 -3 -2 -1 0 "
     ]
    }
   ],
   "source": [
    "a=-20\n",
    "while a<1:\n",
    "    print(a,end=\" \")\n",
    "    a+=1"
   ]
  },
  {
   "cell_type": "markdown",
   "id": "0ce7550b-1e67-4d5c-b5c6-73a5fca3bfff",
   "metadata": {},
   "source": [
    "**True**\n",
    "- If you dont know about valid condition to enter inside while loop\n",
    "- Then use **True**\n",
    "- True will give entry pass irresspective of the condition\n",
    "- But if you want to come out we need apply if condition and break inside the while loop\n",
    "- If you dont apply the break, then it comes infinite loop"
   ]
  },
  {
   "cell_type": "code",
   "execution_count": 22,
   "id": "ea422ed2-8321-4c43-8e22-2cc3a72602fa",
   "metadata": {},
   "outputs": [
    {
     "name": "stdout",
     "output_type": "stream",
     "text": [
      "1 1 -1 -3 -5 -7 20 -20 "
     ]
    }
   ],
   "source": [
    "a=1\n",
    "while True:\n",
    "    print(a,end=\" \")\n",
    "    a+=2\n",
    "    if a<11:\n",
    "        break\n",
    "\n",
    "\n",
    "\n",
    "a1=1\n",
    "while True:\n",
    "    print(a1,end=\" \")\n",
    "    a1-=2\n",
    "    if a1==-9:\n",
    "        break\n",
    "\n",
    "\n",
    "a2=20\n",
    "while True:\n",
    "    print(a2,end=\" \")\n",
    "    a2-=1\n",
    "    if a2>0:\n",
    "        break\n",
    "\n",
    "\n",
    "\n",
    "a3=-20\n",
    "while True:\n",
    "    print(a3,end=\" \")\n",
    "    a3+=1\n",
    "    if a3<1:\n",
    "        break"
   ]
  },
  {
   "cell_type": "markdown",
   "id": "1874de34-aba6-4fe5-ab04-409fed0f7a42",
   "metadata": {},
   "source": [
    "**ASSIGNMENT-8 USING WHILE LOOP**"
   ]
  },
  {
   "cell_type": "code",
   "execution_count": 23,
   "id": "3b98e627-f500-4e9c-849b-1f885027898f",
   "metadata": {},
   "outputs": [
    {
     "name": "stdout",
     "output_type": "stream",
     "text": [
      "12\n",
      "Even number\n",
      "85\n",
      "Odd number\n",
      "57\n",
      "Odd number\n"
     ]
    }
   ],
   "source": [
    "#1Q) For example\n",
    "# take a random number between  1 to 100\n",
    "# print it is a even number and odd number\n",
    "# you need to generate 3 random number\n",
    "import random\n",
    "i=0\n",
    "while i<3:\n",
    "    num=random.randint(1,100)\n",
    "    print(num)\n",
    "    if num%2==0:\n",
    "        print(\"Even number\")\n",
    "    else:\n",
    "        print(\"Odd number\")\n",
    "    i+=1"
   ]
  },
  {
   "cell_type": "code",
   "execution_count": 24,
   "id": "c5e9d2cf-a9a7-44fa-af9a-25a06b0f63cb",
   "metadata": {},
   "outputs": [
    {
     "name": "stdout",
     "output_type": "stream",
     "text": [
      "10 is an Even Number\n",
      "11 is an Odd Number\n",
      "12 is an Even Number\n",
      "13 is an Odd Number\n",
      "14 is an Even Number\n",
      "15 is an Odd Number\n",
      "16 is an Even Number\n",
      "17 is an Odd Number\n",
      "18 is an Even Number\n",
      "19 is an Odd Number\n",
      "20 is an Even Number\n"
     ]
    }
   ],
   "source": [
    "#2Q) wap ask the user print the number is even or odd between 10 to 20\n",
    "i=10\n",
    "while i<21:\n",
    "    if i%2==0:\n",
    "        print(f\"{i} is an Even Number\")\n",
    "    else:\n",
    "        print(f\"{i} is an Odd Number\")\n",
    "    i+=1"
   ]
  },
  {
   "cell_type": "code",
   "execution_count": 25,
   "id": "0228c28c-d2c4-4376-8f86-10b3ebae1fbf",
   "metadata": {},
   "outputs": [
    {
     "name": "stdin",
     "output_type": "stream",
     "text": [
      "Enter a number between 20-25: 25\n"
     ]
    },
    {
     "name": "stdout",
     "output_type": "stream",
     "text": [
      "The square of a number 25 is 625\n"
     ]
    }
   ],
   "source": [
    "#3Q) wap ask the user print the square of the number between\n",
    "# 20 to 25\n",
    "n1=eval(input(\"Enter a number between 20-25:\"))\n",
    "print(f\"The square of a number {n1} is {n1*n1}\")"
   ]
  },
  {
   "cell_type": "code",
   "execution_count": 26,
   "id": "d6acc7d7-7f7b-4245-bd11-e9b4244340d9",
   "metadata": {},
   "outputs": [
    {
     "name": "stdin",
     "output_type": "stream",
     "text": [
      "Enter a number between 20-25: 20\n"
     ]
    },
    {
     "name": "stdout",
     "output_type": "stream",
     "text": [
      "The square of a number 20 is 400\n"
     ]
    },
    {
     "name": "stdin",
     "output_type": "stream",
     "text": [
      "Enter a number between 20-25: 21\n"
     ]
    },
    {
     "name": "stdout",
     "output_type": "stream",
     "text": [
      "The square of a number 21 is 441\n"
     ]
    },
    {
     "name": "stdin",
     "output_type": "stream",
     "text": [
      "Enter a number between 20-25: 25\n"
     ]
    },
    {
     "name": "stdout",
     "output_type": "stream",
     "text": [
      "The square of a number 25 is 625\n"
     ]
    }
   ],
   "source": [
    "#4Q) WAP ask the user enter number three times find the square of the number\n",
    "# How many times loop should run\n",
    "i=0\n",
    "while i<3:\n",
    "    n2=eval(input(\"Enter a number between 20-25:\"))\n",
    "    print(f\"The square of a number {n2} is {n2*n2}\")\n",
    "    i+=1"
   ]
  },
  {
   "cell_type": "code",
   "execution_count": 29,
   "id": "9c77cbe7-ea41-4552-b1cb-6612afa86d9c",
   "metadata": {},
   "outputs": [
    {
     "name": "stdin",
     "output_type": "stream",
     "text": [
      "Enter the table you want to print:  15\n"
     ]
    },
    {
     "name": "stdout",
     "output_type": "stream",
     "text": [
      "15 X 1 = 15\n",
      "15 X 2 = 30\n",
      "15 X 3 = 45\n",
      "15 X 4 = 60\n",
      "15 X 5 = 75\n",
      "15 X 6 = 90\n",
      "15 X 7 = 105\n",
      "15 X 8 = 120\n",
      "15 X 9 = 135\n",
      "15 X 10 = 150\n"
     ]
    }
   ],
   "source": [
    "#5Q) Print the 14th table\n",
    "# ans:   14 x 1 = 14\n",
    "#        14 x 2 = 28\n",
    "#        14 x 3 = 42\n",
    "#\n",
    "#\n",
    "#        14 x10 = 140\n",
    "# How many times 10\n",
    "i=1\n",
    "n3=eval(input(\"Enter the table you want to print: \"))\n",
    "while i<11:\n",
    "    print(f\"{n3} X {i} = {n3*i}\")\n",
    "    i+=1"
   ]
  },
  {
   "cell_type": "code",
   "execution_count": 31,
   "id": "93f76478-d2c6-4452-ad7f-c78f30111c1a",
   "metadata": {},
   "outputs": [
    {
     "name": "stdout",
     "output_type": "stream",
     "text": [
      " Factors of 75 are 1\n",
      " Factors of 75 are 3\n",
      " Factors of 75 are 5\n",
      " Factors of 75 are 15\n",
      " Factors of 75 are 25\n",
      " Factors of 75 are 75\n"
     ]
    }
   ],
   "source": [
    "#6 Q) Find the factors of 75\n",
    "i=1\n",
    "n4=75\n",
    "while i<n4+1:\n",
    "    if n4%i==0:\n",
    "        print(f\" Factors of {n4} are {i}\")\n",
    "    i+=1"
   ]
  },
  {
   "cell_type": "code",
   "execution_count": 32,
   "id": "a68a477f-1948-44a8-9fa8-8fb3650f4886",
   "metadata": {},
   "outputs": [
    {
     "name": "stdout",
     "output_type": "stream",
     "text": [
      "Sum of first 10 natural numbers are: 55\n"
     ]
    }
   ],
   "source": [
    "#7Q) Write the sum of first 10 Natural numbers\n",
    "# 1 to 10\n",
    "# 1+2+3+4+5+6+7+8+9+10=55\n",
    "i=1\n",
    "summ=0\n",
    "while i<11:\n",
    "    summ=summ+i\n",
    "    i+=1\n",
    "print(f\"Sum of first 10 natural numbers are: {summ}\")"
   ]
  },
  {
   "cell_type": "code",
   "execution_count": 33,
   "id": "899b4cfe-6edf-4915-b713-4f41a986e94d",
   "metadata": {},
   "outputs": [
    {
     "name": "stdout",
     "output_type": "stream",
     "text": [
      "5.5\n"
     ]
    }
   ],
   "source": [
    "# 8Q) Average first 1 to 10 numbers\n",
    "avg=summ/10\n",
    "print(avg)"
   ]
  },
  {
   "cell_type": "code",
   "execution_count": 34,
   "id": "8bcfb74c-5837-4977-a8e0-2b634bcac053",
   "metadata": {},
   "outputs": [
    {
     "name": "stdout",
     "output_type": "stream",
     "text": [
      "Number is 6\n"
     ]
    }
   ],
   "source": [
    "#9Q) Find the number of divisors of 75\n",
    "# ans: 1,3,5,15,25,75\n",
    "# Number =6\n",
    "i=1\n",
    "count=0\n",
    "n5=75\n",
    "while i<n5+1:\n",
    "    if n5%i==0:\n",
    "        count+=1\n",
    "    i+=1\n",
    "print(f\"Number is {count}\")"
   ]
  },
  {
   "cell_type": "code",
   "execution_count": 35,
   "id": "893cdd55-57eb-4185-8b3c-63ae8a0a244e",
   "metadata": {},
   "outputs": [
    {
     "name": "stdin",
     "output_type": "stream",
     "text": [
      "Enter a number:  5\n"
     ]
    },
    {
     "name": "stdout",
     "output_type": "stream",
     "text": [
      "Fail\n"
     ]
    }
   ],
   "source": [
    "# 10Q)\n",
    "# Get a random number between  1 to 10 :  num1\n",
    "# Ask the user enter a number : num2\n",
    "# if num1 == num2  then print won\n",
    "# else print fail\n",
    "num11=random.randint(1,10)\n",
    "num22=eval(input(\"Enter a number: \"))\n",
    "if num11==num22:\n",
    "    print(\"Won\")\n",
    "else:\n",
    "    print(\"Fail\")"
   ]
  },
  {
   "cell_type": "code",
   "execution_count": 36,
   "id": "5baa59f1-0010-451f-a9ef-954113595c21",
   "metadata": {},
   "outputs": [
    {
     "name": "stdout",
     "output_type": "stream",
     "text": [
      "Number is : 4\n"
     ]
    },
    {
     "name": "stdin",
     "output_type": "stream",
     "text": [
      "Enter the number:  5\n"
     ]
    },
    {
     "name": "stdout",
     "output_type": "stream",
     "text": [
      "Number of choices left are : 3\n",
      "Number is : 9\n"
     ]
    },
    {
     "name": "stdin",
     "output_type": "stream",
     "text": [
      "Enter the number:  8\n"
     ]
    },
    {
     "name": "stdout",
     "output_type": "stream",
     "text": [
      "Number of choices left are : 2\n",
      "Number is : 6\n"
     ]
    },
    {
     "name": "stdin",
     "output_type": "stream",
     "text": [
      "Enter the number:  5\n"
     ]
    },
    {
     "name": "stdout",
     "output_type": "stream",
     "text": [
      "Number of choices left are : 1\n",
      "Number is : 10\n"
     ]
    },
    {
     "name": "stdin",
     "output_type": "stream",
     "text": [
      "Enter the number:  8\n"
     ]
    },
    {
     "name": "stdout",
     "output_type": "stream",
     "text": [
      "Number of choices left are : 0\n",
      "Try again after 24 hours\n"
     ]
    }
   ],
   "source": [
    "# 10Q) Give 3 chances\n",
    "\n",
    "# Case-2: whenever you won the code should stop\n",
    "\n",
    "# Case-3:\n",
    "# Suppose i want to give 4 chances\n",
    "# Every time you fail I want to display\n",
    "#      Number of chances left\n",
    "\n",
    "# If all the chances you are used\n",
    "#    Try again after 24 hours\n",
    "\n",
    "# If you are win\n",
    "i=1\n",
    "while i<5:\n",
    "    num1=random.randint(1,10)\n",
    "    print(f\"Number is : {num1}\")\n",
    "    num2=eval(input(\"Enter the number: \"))\n",
    "    if num1==num2:\n",
    "        print(\"Won\")\n",
    "        break;\n",
    "    elif num1 != num2:\n",
    "        print(f\"Number of choices left are : {4-i}\")\n",
    "        if 4-i==0:\n",
    "            print(\"Try again after 24 hours\")\n",
    "    i+=1"
   ]
  },
  {
   "cell_type": "code",
   "execution_count": 37,
   "id": "77bca957-4d82-4078-bf10-5b735bf30c0a",
   "metadata": {},
   "outputs": [
    {
     "name": "stdout",
     "output_type": "stream",
     "text": [
      "Even count is: 3\n",
      "Odd count is: 2\n"
     ]
    }
   ],
   "source": [
    "# 11q) wap ask the user get 5 random numbers\n",
    "# Get it is an even number or odd number\n",
    "# also count how many even numbers are there\n",
    "# and  count how many odd numbers are there\n",
    "i=0\n",
    "count_even=0\n",
    "count_odd=0\n",
    "while i<5:\n",
    "    n6=random.randint(1,100)\n",
    "    if n6%2==0:\n",
    "        count_even+=1\n",
    "    else:\n",
    "        count_odd+=1\n",
    "    i+=1\n",
    "print(f\"Even count is: {count_even}\")\n",
    "print(f\"Odd count is: {count_odd}\")"
   ]
  },
  {
   "cell_type": "code",
   "execution_count": 38,
   "id": "dd7d61fc-dec5-4d52-b19b-63597519f961",
   "metadata": {},
   "outputs": [
    {
     "name": "stdout",
     "output_type": "stream",
     "text": [
      "number 9\n",
      "number 48\n",
      "number 5\n",
      "number 76\n",
      "number 92\n",
      "Even count is: 3\n",
      "Odd count is: 2\n",
      "Even summ is: 216\n",
      "Odd summ is: 14\n"
     ]
    }
   ],
   "source": [
    "# 12Q) wap ask the user get 5 random numbers\n",
    "# Get it is an even number or odd number\n",
    "# also count how many even numbers are there\n",
    "# and  count how many odd numbers are there\n",
    "# I want summ even numbers\n",
    "# I want summ odd numbers\n",
    "i=0\n",
    "count_even=0\n",
    "count_odd=0\n",
    "even_summ=0\n",
    "odd_summ=0\n",
    "while i<5:\n",
    "    n6=random.randint(1,100)\n",
    "    print(\"number\",n6)\n",
    "    if n6%2==0:\n",
    "        count_even+=1\n",
    "        even_summ+=n6\n",
    "    else:\n",
    "        count_odd+=1\n",
    "        odd_summ+=n6\n",
    "    i+=1\n",
    "print(f\"Even count is: {count_even}\")\n",
    "print(f\"Odd count is: {count_odd}\")\n",
    "print(f\"Even summ is: {even_summ}\")\n",
    "print(f\"Odd summ is: {odd_summ}\")"
   ]
  },
  {
   "cell_type": "code",
   "execution_count": null,
   "id": "f197008d-2798-4b0e-9f77-d1634d4fb18a",
   "metadata": {},
   "outputs": [],
   "source": []
  }
 ],
 "metadata": {
  "kernelspec": {
   "display_name": "Python 3 (ipykernel)",
   "language": "python",
   "name": "python3"
  },
  "language_info": {
   "codemirror_mode": {
    "name": "ipython",
    "version": 3
   },
   "file_extension": ".py",
   "mimetype": "text/x-python",
   "name": "python",
   "nbconvert_exporter": "python",
   "pygments_lexer": "ipython3",
   "version": "3.11.7"
  }
 },
 "nbformat": 4,
 "nbformat_minor": 5
}
