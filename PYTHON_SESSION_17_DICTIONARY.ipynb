{
 "cells": [
  {
   "cell_type": "markdown",
   "id": "a0e54d14-730c-4944-8a88-e5f215b01d76",
   "metadata": {},
   "source": [
    "**Dictionary**\n",
    "- We already seen many inbuilt Data types\n",
    "- String\n",
    "- List\n",
    "- Tuple\n",
    "- Set\n",
    "- Dictionary\n",
    "- int float bool complex\n",
    "- range\n",
    "- bytes\n",
    "- eval is not a data type"
   ]
  },
  {
   "cell_type": "code",
   "execution_count": 1,
   "id": "1ef6a4db-2149-4f92-a595-bda4e536fa42",
   "metadata": {},
   "outputs": [
    {
     "data": {
      "text/plain": [
       "bytes"
      ]
     },
     "execution_count": 1,
     "metadata": {},
     "output_type": "execute_result"
    }
   ],
   "source": [
    "# By using lambda list reduce\n",
    "str=b'hello'\n",
    "type(str)"
   ]
  },
  {
   "cell_type": "code",
   "execution_count": null,
   "id": "aaebe0da-498d-47d4-9424-32cc5eb052dc",
   "metadata": {},
   "outputs": [],
   "source": [
    "string=''\n",
    "list=[]\n",
    "tuple=()\n",
    "set={}\n",
    "dictionary={key:value}"
   ]
  },
  {
   "cell_type": "markdown",
   "id": "368359ec-7898-4914-b164-49d14e5d7f00",
   "metadata": {},
   "source": [
    "**Zip**"
   ]
  },
  {
   "cell_type": "code",
   "execution_count": 3,
   "id": "8ae167ad-ac8f-4373-8187-3af23b3448a2",
   "metadata": {},
   "outputs": [
    {
     "name": "stdout",
     "output_type": "stream",
     "text": [
      "Ramesh 25\n",
      "Dinesh 22\n",
      "Nagesh 24\n"
     ]
    }
   ],
   "source": [
    "names = ['Ramesh','Dinesh','Nagesh']\n",
    "age = [25,22,24]\n",
    "for i,j in zip(names,age):\n",
    "    print(i,j)"
   ]
  },
  {
   "cell_type": "code",
   "execution_count": 4,
   "id": "a90989ae-4bf0-4ff2-8422-cc75114e3d8b",
   "metadata": {},
   "outputs": [
    {
     "data": {
      "text/plain": [
       "[('Ramesh', 25), ('Dinesh', 22), ('Nagesh', 24)]"
      ]
     },
     "execution_count": 4,
     "metadata": {},
     "output_type": "execute_result"
    }
   ],
   "source": [
    "list(zip(names,age))"
   ]
  },
  {
   "cell_type": "code",
   "execution_count": 5,
   "id": "8251ddbb-d5d6-47a5-858f-a5a4521b2ae6",
   "metadata": {},
   "outputs": [
    {
     "data": {
      "text/plain": [
       "dict"
      ]
     },
     "execution_count": 5,
     "metadata": {},
     "output_type": "execute_result"
    }
   ],
   "source": [
    "# dict1={<key>:<value>}\n",
    "# names=['Ramesh','Suresh','Satish']\n",
    "# age=[20,25,30]\n",
    "# 'Ramesh' is the key ===== 20 its related value\n",
    "dict1={'Ramesh':20,'Suresh':25,'Satish':30}\n",
    "type(dict1)"
   ]
  },
  {
   "cell_type": "code",
   "execution_count": null,
   "id": "9de3f3af-c4b9-4f76-9065-5704622baaa3",
   "metadata": {},
   "outputs": [],
   "source": [
    "# If the list are of different length?\n",
    "# If both lists are different length\n",
    "# zip will not work"
   ]
  },
  {
   "cell_type": "markdown",
   "id": "0c8986fd-2f80-482a-b0a8-216e7471458c",
   "metadata": {},
   "source": [
    "- initialization\n",
    "- type\n",
    "- max\n",
    "- min\n",
    "- len\n",
    "- reversed\n",
    "- sorted\n",
    "- in\n",
    "- index\n",
    "- mutable\n",
    "- concate\n",
    "- slicing\n",
    "- methods"
   ]
  },
  {
   "cell_type": "markdown",
   "id": "f2924af3-3d7e-4404-83fc-0cb8ebdb0a8f",
   "metadata": {},
   "source": [
    "**Create all type of dictionaries**"
   ]
  },
  {
   "cell_type": "code",
   "execution_count": 14,
   "id": "b7cb4df6-2b35-496f-b69d-9b4c163ce654",
   "metadata": {},
   "outputs": [
    {
     "name": "stdout",
     "output_type": "stream",
     "text": [
      "Ramesh Dinesh\n",
      "Dinesh Nagesh\n",
      "Nagesh Ramesh\n"
     ]
    }
   ],
   "source": [
    "# String with string is possible\n",
    "names = ['Ramesh','Dinesh','Nagesh']\n",
    "name = ['Dinesh','Nagesh','Ramesh']\n",
    "for i,j in zip(names,name):\n",
    "    print(i,j)"
   ]
  },
  {
   "cell_type": "code",
   "execution_count": 15,
   "id": "a7ce4f58-43d7-4b81-9bc3-16dcf66ee322",
   "metadata": {},
   "outputs": [
    {
     "name": "stdout",
     "output_type": "stream",
     "text": [
      "20 30\n",
      "30 40\n",
      "40 20\n"
     ]
    }
   ],
   "source": [
    "names = [20,30,40]\n",
    "name = [30,40,20]\n",
    "for i,j in zip(names,name):\n",
    "    print(i,j)"
   ]
  },
  {
   "cell_type": "code",
   "execution_count": 16,
   "id": "3ade7704-029a-4f2f-9102-17040dfc5307",
   "metadata": {},
   "outputs": [
    {
     "name": "stdout",
     "output_type": "stream",
     "text": [
      "25 Ramesh\n",
      "22 Dinesh\n",
      "24 Nagesh\n"
     ]
    }
   ],
   "source": [
    "names = ['Ramesh','Dinesh','Nagesh']\n",
    "age = [25,22,24]\n",
    "for i,j in zip(age,names):\n",
    "    print(i,j)"
   ]
  },
  {
   "cell_type": "code",
   "execution_count": 19,
   "id": "3300ac0c-9e28-4cad-8115-f11ba88b9bd3",
   "metadata": {},
   "outputs": [
    {
     "name": "stdout",
     "output_type": "stream",
     "text": [
      "25 Ramesh\n",
      "22 Dinesh\n",
      "24 Nagesh\n"
     ]
    }
   ],
   "source": [
    "names = ('Ramesh','Dinesh','Nagesh')\n",
    "age = (25,22,24)\n",
    "for i,j in zip(age,names):\n",
    "    print(i,j)"
   ]
  },
  {
   "cell_type": "code",
   "execution_count": 23,
   "id": "a80f092e-be7e-4691-932e-e823b4d4996b",
   "metadata": {},
   "outputs": [
    {
     "name": "stdout",
     "output_type": "stream",
     "text": [
      "{'Dinesh': 25, 'Nagesh': 35, 'Akhil': 45}\n",
      "{'Dinesh': '25', 'Nagesh': '35', 'Akhil': '45'}\n",
      "{25: 'Dinesh', 35: 'Nagesh', 45: 'Akhil'}\n",
      "{25: 35}\n",
      "{'Fruits': ['Apple', 'Cherry']}\n",
      "{('Apple', 'Cherry'): 'Fruits'}\n",
      "{'Dinesh': 35}\n",
      "{25: 'Dinesh', 35: 'Dinesh'}\n",
      "{'Fruits': {'Apple', 10}}\n"
     ]
    }
   ],
   "source": [
    "d1={'Dinesh':25,'Nagesh':35,'Akhil':45}\n",
    "d2={'Dinesh':'25','Nagesh':'35','Akhil':'45'}\n",
    "d3={25:'Dinesh',35:'Nagesh',45:'Akhil'}\n",
    "d4={25:35}\n",
    "d5={'Fruits':['Apple','Cherry']}\n",
    "d7={('Apple','Cherry'):'Fruits'}\n",
    "d8={'Dinesh':25,'Dinesh':35}\n",
    "d9={25:'Dinesh',35:'Dinesh'}\n",
    "d10={'Fruits':{10,'Apple'}}\n",
    "print(d1)\n",
    "print(d2)\n",
    "print(d3)\n",
    "print(d4)\n",
    "print(d5)\n",
    "print(d7)\n",
    "print(d8)\n",
    "print(d9)\n",
    "print(d10)"
   ]
  },
  {
   "cell_type": "code",
   "execution_count": 24,
   "id": "aabc2ca0-51ef-4203-87c2-f0d96e9bbe5a",
   "metadata": {},
   "outputs": [
    {
     "ename": "TypeError",
     "evalue": "unhashable type: 'list'",
     "output_type": "error",
     "traceback": [
      "\u001b[1;31m---------------------------------------------------------------------------\u001b[0m",
      "\u001b[1;31mTypeError\u001b[0m                                 Traceback (most recent call last)",
      "Cell \u001b[1;32mIn[24], line 1\u001b[0m\n\u001b[1;32m----> 1\u001b[0m d6\u001b[38;5;241m=\u001b[39m{[\u001b[38;5;124m'\u001b[39m\u001b[38;5;124mApple\u001b[39m\u001b[38;5;124m'\u001b[39m,\u001b[38;5;124m'\u001b[39m\u001b[38;5;124mCherry\u001b[39m\u001b[38;5;124m'\u001b[39m]:\u001b[38;5;124m'\u001b[39m\u001b[38;5;124mFruits\u001b[39m\u001b[38;5;124m'\u001b[39m}\n\u001b[0;32m      2\u001b[0m d6\n",
      "\u001b[1;31mTypeError\u001b[0m: unhashable type: 'list'"
     ]
    }
   ],
   "source": [
    "d6={['Apple','Cherry']:'Fruits'}\n",
    "d6"
   ]
  },
  {
   "cell_type": "markdown",
   "id": "8ed3da0d-2203-495c-9c75-3be34ae25193",
   "metadata": {},
   "source": [
    "**Keys are important**\n",
    "- Keys have only latest values\n",
    "- No duplicate values\n",
    "- Keys should be only one\n",
    "- Values can be duplicate\n",
    "- Which means different keys can have same value\n",
    "- List can not be a key, Because list are mutable\n",
    "- Tuple can be a key, Because tuples are immutable"
   ]
  },
  {
   "cell_type": "code",
   "execution_count": 30,
   "id": "d60356f2-b5fa-4f9e-8240-66632bd8c9ad",
   "metadata": {},
   "outputs": [
    {
     "name": "stdout",
     "output_type": "stream",
     "text": [
      "{'Dinesh': 25, 'Nagesh': 35, 'Akhil': 45}\n",
      "{'Dinesh': '25', 'Nagesh': '35', 'Akhil': '45'}\n",
      "{25: 'Akhil'}\n",
      "{25: 'Dinesh', 35: 'Nagesh', '45': 'Akhil'}\n",
      "{'Dinesh': 25, 'Nagesh': '35', 'Akhil': 45}\n",
      "{'Dinesh': 25, 'Nagesh': 25, 'Akhil': 25}\n",
      "{25: 'Akhil'}\n"
     ]
    }
   ],
   "source": [
    "d1={'Dinesh':25,'Nagesh':35,'Akhil':45}\n",
    "d2={'Dinesh':'25','Nagesh':'35','Akhil':'45'}\n",
    "d3={25:'Dinesh',35:'Nagesh',45:'Akhil'}\n",
    "d4={25:'Dinesh',35:'Nagesh','45':'Akhil'}\n",
    "d5={'Dinesh':25,'Nagesh':'35','Akhil':45}\n",
    "d6={'Dinesh':25,'Nagesh':25,'Akhil':25}\n",
    "d7=d3={25:'Dinesh',25:'Nagesh',25:'Akhil'}\n",
    "print(d1)\n",
    "print(d2)\n",
    "print(d3)\n",
    "print(d4)\n",
    "print(d5)\n",
    "print(d6)\n",
    "print(d7)"
   ]
  },
  {
   "cell_type": "code",
   "execution_count": 8,
   "id": "a41252b7-e90b-42df-9479-60b5dc48e58c",
   "metadata": {},
   "outputs": [
    {
     "name": "stdout",
     "output_type": "stream",
     "text": [
      "Nagesh\n",
      "Nagesh\n",
      "45\n",
      "Nagesh\n",
      "Nagesh\n",
      "25\n",
      "Vinay\n"
     ]
    }
   ],
   "source": [
    "d1={'Dinesh':25,'Nagesh':35,'Akhil':45}\n",
    "d2={'Dinesh':'25','Nagesh':'35','Akhil':'45'}\n",
    "d3={25:'Dinesh',35:'Nagesh',45:'Akhil'}\n",
    "d4={25:'Dinesh',35:'Nagesh','45':'Akhil'}\n",
    "d5={'Dinesh':25,'Nagesh':'35','Akhil':45}\n",
    "d6={'Dinesh':25,'Nagesh':25,'Akhil':25}\n",
    "d7={25:'Dinesh',25:'Nagesh',25:'Akhil'}\n",
    "d8={'Dinesh':25,'Nagesh':35,'Akhil':45,'Vinay':''}\n",
    "print(max(d1))\n",
    "print(max(d2))\n",
    "print(max(d3))\n",
    "print(max(d5))\n",
    "print(max(d6))\n",
    "print(max(d7))\n",
    "print(max(d8))"
   ]
  },
  {
   "cell_type": "markdown",
   "id": "27f4b5c9-3407-45c7-8def-d3041e518d88",
   "metadata": {},
   "source": [
    "**Reversed**\n",
    "- You might have think dictionary will reverse\n",
    "- When you apply reversed, you got to know\n",
    "- Only keys will come in reverse"
   ]
  },
  {
   "cell_type": "code",
   "execution_count": 6,
   "id": "d651d670-b5a3-467f-97f2-e0137ecb78d5",
   "metadata": {},
   "outputs": [
    {
     "data": {
      "text/plain": [
       "['Akhil', 'Nagesh', 'Dinesh']"
      ]
     },
     "execution_count": 6,
     "metadata": {},
     "output_type": "execute_result"
    }
   ],
   "source": [
    "d1={'Dinesh':25,'Nagesh':35,'Akhil':45}\n",
    "list(reversed(d1))"
   ]
  },
  {
   "cell_type": "code",
   "execution_count": 7,
   "id": "af6ea3c2-bc34-4cd1-b9da-64de456a9203",
   "metadata": {},
   "outputs": [
    {
     "data": {
      "text/plain": [
       "['Akhil', 'Dinesh', 'Nagesh']"
      ]
     },
     "execution_count": 7,
     "metadata": {},
     "output_type": "execute_result"
    }
   ],
   "source": [
    "d1={'Dinesh':25,'Nagesh':35,'Akhil':45}\n",
    "list(sorted(d1))"
   ]
  },
  {
   "cell_type": "code",
   "execution_count": 9,
   "id": "382af82e-37bb-497e-9b40-fa1ab2b36161",
   "metadata": {},
   "outputs": [
    {
     "data": {
      "text/plain": [
       "['Nagesh', 'Dinesh', 'Akhil']"
      ]
     },
     "execution_count": 9,
     "metadata": {},
     "output_type": "execute_result"
    }
   ],
   "source": [
    "d1={'Dinesh':25,'Nagesh':35,'Akhil':45}\n",
    "list(sorted(d1,reverse=True))"
   ]
  },
  {
   "cell_type": "code",
   "execution_count": 10,
   "id": "8f1f0013-34e7-4d6a-a68b-bc6e7d178161",
   "metadata": {},
   "outputs": [
    {
     "name": "stdout",
     "output_type": "stream",
     "text": [
      "Dinesh\n",
      "Nagesh\n",
      "Akhil\n"
     ]
    }
   ],
   "source": [
    "d1={'Dinesh':25,'Nagesh':35,'Akhil':45}\n",
    "for i in d1:\n",
    "    print(i)"
   ]
  },
  {
   "cell_type": "code",
   "execution_count": 11,
   "id": "dd1b9da7-e17d-4be9-82ae-1d4ba5e83a69",
   "metadata": {},
   "outputs": [
    {
     "data": {
      "text/plain": [
       "True"
      ]
     },
     "execution_count": 11,
     "metadata": {},
     "output_type": "execute_result"
    }
   ],
   "source": [
    "'Dinesh' in d1"
   ]
  },
  {
   "cell_type": "markdown",
   "id": "0a28a9b9-8da3-4669-927a-7e9b5b665f6c",
   "metadata": {},
   "source": [
    "**Index**"
   ]
  },
  {
   "cell_type": "code",
   "execution_count": 12,
   "id": "4fde91ff-0f55-4f13-aa61-011123b633c8",
   "metadata": {},
   "outputs": [
    {
     "ename": "KeyError",
     "evalue": "0",
     "output_type": "error",
     "traceback": [
      "\u001b[1;31m---------------------------------------------------------------------------\u001b[0m",
      "\u001b[1;31mKeyError\u001b[0m                                  Traceback (most recent call last)",
      "Cell \u001b[1;32mIn[12], line 4\u001b[0m\n\u001b[0;32m      1\u001b[0m d1\u001b[38;5;241m=\u001b[39m{\u001b[38;5;124m'\u001b[39m\u001b[38;5;124mDinesh\u001b[39m\u001b[38;5;124m'\u001b[39m:\u001b[38;5;241m25\u001b[39m,\u001b[38;5;124m'\u001b[39m\u001b[38;5;124mNagesh\u001b[39m\u001b[38;5;124m'\u001b[39m:\u001b[38;5;241m35\u001b[39m,\u001b[38;5;124m'\u001b[39m\u001b[38;5;124mAkhil\u001b[39m\u001b[38;5;124m'\u001b[39m:\u001b[38;5;241m45\u001b[39m}\n\u001b[0;32m      2\u001b[0m \u001b[38;5;66;03m# If you want retrive the values\u001b[39;00m\n\u001b[0;32m      3\u001b[0m \u001b[38;5;66;03m# Python will never give 'Dinesh':25\u001b[39;00m\n\u001b[1;32m----> 4\u001b[0m d1[\u001b[38;5;241m0\u001b[39m]\n",
      "\u001b[1;31mKeyError\u001b[0m: 0"
     ]
    }
   ],
   "source": [
    "d1={'Dinesh':25,'Nagesh':35,'Akhil':45}\n",
    "# If you want retrive the values\n",
    "# Python will never give 'Dinesh':25\n",
    "d1[0]"
   ]
  },
  {
   "cell_type": "code",
   "execution_count": 14,
   "id": "0b8b1b72-a398-442f-bd0d-1979087badf3",
   "metadata": {},
   "outputs": [
    {
     "data": {
      "text/plain": [
       "25"
      ]
     },
     "execution_count": 14,
     "metadata": {},
     "output_type": "execute_result"
    }
   ],
   "source": [
    "d1['Dinesh']"
   ]
  },
  {
   "cell_type": "code",
   "execution_count": 18,
   "id": "2d51b5e2-469e-4c6e-981f-4b679d26da75",
   "metadata": {},
   "outputs": [
    {
     "data": {
      "text/plain": [
       "25"
      ]
     },
     "execution_count": 18,
     "metadata": {},
     "output_type": "execute_result"
    }
   ],
   "source": [
    "d1={'Dinesh':25,'Nagesh':35,'Akhil':45}\n",
    "# Dictionary is key:value pair\n",
    "# We can not use index number directly\n",
    "# Whenever you want to call a value, we will use key\n",
    "d1['Dinesh']"
   ]
  },
  {
   "cell_type": "code",
   "execution_count": 25,
   "id": "8536d538-4fe0-440c-acdc-65b5a1d41ac7",
   "metadata": {},
   "outputs": [
    {
     "name": "stdout",
     "output_type": "stream",
     "text": [
      "Dinesh has age 25\n",
      "Nagesh has age 35\n",
      "Akhil has age 45\n"
     ]
    }
   ],
   "source": [
    "for i in d1:\n",
    "    print(f\"{i} has age {d1[i]}\")"
   ]
  },
  {
   "cell_type": "markdown",
   "id": "cd20d882-fdf4-45bb-8bee-d640d7a2e25c",
   "metadata": {},
   "source": [
    "**Dictionary to list**"
   ]
  },
  {
   "cell_type": "code",
   "execution_count": 28,
   "id": "361d8cc0-b7e6-461e-862f-01d63c15c4f3",
   "metadata": {},
   "outputs": [
    {
     "name": "stdout",
     "output_type": "stream",
     "text": [
      "['Dinesh', 'Nagesh', 'Akhil']\n",
      "[25, 35, 45]\n"
     ]
    }
   ],
   "source": [
    "l1=[]\n",
    "l2=[]\n",
    "for i in d1:\n",
    "    l1.append(i)\n",
    "    l2.append(d1[i])\n",
    "print(l1)\n",
    "print(l2)"
   ]
  },
  {
   "cell_type": "code",
   "execution_count": 33,
   "id": "e4cad079-06fb-4207-9299-a1c6ce6fa273",
   "metadata": {},
   "outputs": [
    {
     "name": "stdout",
     "output_type": "stream",
     "text": [
      "['Dinesh', 'Nagesh', 'Akhil']\n",
      "[25, 35, 45]\n"
     ]
    }
   ],
   "source": [
    "l1=[i for i in d1]\n",
    "l2=[d1[i] for i in d1]\n",
    "print(l1)\n",
    "print(l2)"
   ]
  },
  {
   "cell_type": "markdown",
   "id": "edadac8c-c0ce-4dc5-ae30-f4b9df2c1571",
   "metadata": {},
   "source": [
    "**How to create a empty list**"
   ]
  },
  {
   "cell_type": "code",
   "execution_count": 35,
   "id": "34acf331-fd96-4d07-a7c1-3b4253c8eb5d",
   "metadata": {},
   "outputs": [
    {
     "data": {
      "text/plain": [
       "[123]"
      ]
     },
     "execution_count": 35,
     "metadata": {},
     "output_type": "execute_result"
    }
   ],
   "source": [
    "l1=[]\n",
    "l1.append(123)\n",
    "l1"
   ]
  },
  {
   "cell_type": "markdown",
   "id": "1332e746-c2a7-4607-be55-0f84f1872c6a",
   "metadata": {},
   "source": [
    "**Empty string**"
   ]
  },
  {
   "cell_type": "code",
   "execution_count": 36,
   "id": "ea7b4b4f-dc87-43ca-bbda-3caa5e3f34e0",
   "metadata": {},
   "outputs": [
    {
     "data": {
      "text/plain": [
       "'Dinesh'"
      ]
     },
     "execution_count": 36,
     "metadata": {},
     "output_type": "execute_result"
    }
   ],
   "source": [
    "s=''\n",
    "s+='Dinesh'\n",
    "s"
   ]
  },
  {
   "cell_type": "markdown",
   "id": "e40f7611-11de-4777-a97e-b255cb865f93",
   "metadata": {},
   "source": [
    "**Empty Dictionary**"
   ]
  },
  {
   "cell_type": "code",
   "execution_count": 37,
   "id": "a3d15924-73e6-4daf-9d92-8028640b0226",
   "metadata": {},
   "outputs": [
    {
     "data": {
      "text/plain": [
       "{'Dinesh': 22}"
      ]
     },
     "execution_count": 37,
     "metadata": {},
     "output_type": "execute_result"
    }
   ],
   "source": [
    "# d={}\n",
    "# d[<Key>]=<value>\n",
    "d={}\n",
    "d['Dinesh']=22\n",
    "d"
   ]
  },
  {
   "cell_type": "code",
   "execution_count": 46,
   "id": "7e3e64d8-f662-430a-b7d1-725a49c40f5a",
   "metadata": {},
   "outputs": [
    {
     "data": {
      "text/plain": [
       "{'Dinesh': 22, 'Nagesh': 24, 'Akhil': 26}"
      ]
     },
     "execution_count": 46,
     "metadata": {},
     "output_type": "execute_result"
    }
   ],
   "source": [
    "l1=['Dinesh','Nagesh','Akhil']\n",
    "l2=[22,24,26]\n",
    "d={}\n",
    "for i in range(len(l1)):\n",
    "    d[l1[i]]=l2[i]\n",
    "d"
   ]
  },
  {
   "cell_type": "code",
   "execution_count": 48,
   "id": "27e51181-da10-4021-918e-06ddbfc1634a",
   "metadata": {},
   "outputs": [
    {
     "data": {
      "text/plain": [
       "{'Dinesh': 22, 'Nagesh': 24, 'Akhil': 26}"
      ]
     },
     "execution_count": 48,
     "metadata": {},
     "output_type": "execute_result"
    }
   ],
   "source": [
    "l1=['Dinesh','Nagesh','Akhil']\n",
    "l2=[22,24,26]\n",
    "d={}\n",
    "for i,j in zip(l1,l2):\n",
    "    d[i]=j\n",
    "d"
   ]
  },
  {
   "cell_type": "markdown",
   "id": "63ef7695-0a2f-4e20-a48c-05eec6a3031e",
   "metadata": {},
   "source": [
    "**String to list**"
   ]
  },
  {
   "cell_type": "code",
   "execution_count": 49,
   "id": "1b4e46ef-c327-48ec-8bac-5ea9bac8dc17",
   "metadata": {},
   "outputs": [
    {
     "data": {
      "text/plain": [
       "['hello', 'hai', 'hai', 'how', 'are', 'are', 'you']"
      ]
     },
     "execution_count": 49,
     "metadata": {},
     "output_type": "execute_result"
    }
   ],
   "source": [
    "str='hello hai hai how are are you'\n",
    "str.split()"
   ]
  },
  {
   "cell_type": "markdown",
   "id": "fd25c8fe-8831-40e4-8b6a-1c9d5fc14c17",
   "metadata": {},
   "source": [
    "**Word Frequency**"
   ]
  },
  {
   "cell_type": "code",
   "execution_count": 57,
   "id": "4b9c6629-a875-4e42-985f-a7e41918e81f",
   "metadata": {},
   "outputs": [
    {
     "name": "stdout",
     "output_type": "stream",
     "text": [
      "['hello', 'hai', 'how', 'are', 'you']\n",
      "[1, 2, 1, 2, 1]\n"
     ]
    },
    {
     "data": {
      "text/plain": [
       "{'hello': 1, 'hai': 2, 'how': 1, 'are': 2, 'you': 1}"
      ]
     },
     "execution_count": 57,
     "metadata": {},
     "output_type": "execute_result"
    }
   ],
   "source": [
    "str='hello hai hai how are are you'.split()\n",
    "l1=[]\n",
    "l2=[]\n",
    "d={}\n",
    "for i in str:\n",
    "    d[i]=str.count(i)\n",
    "    if i not in l1:\n",
    "        l1.append(i)\n",
    "        l2.append(str.count(i))\n",
    "print(l1)\n",
    "print(l2)\n",
    "d"
   ]
  },
  {
   "cell_type": "code",
   "execution_count": 66,
   "id": "753c977b-7783-4277-9114-68c239760dac",
   "metadata": {},
   "outputs": [
    {
     "data": {
      "text/plain": [
       "['Data',\n",
       " 'science',\n",
       " 'interdisciplanary',\n",
       " 'academic',\n",
       " 'field',\n",
       " 'that',\n",
       " 'uses',\n",
       " 'field']"
      ]
     },
     "execution_count": 66,
     "metadata": {},
     "output_type": "execute_result"
    }
   ],
   "source": [
    "string='Data science is an interdisciplanary academic field a that uses the field'.split()\n",
    "string.remove('a')\n",
    "string.remove('an')\n",
    "string.remove('the')\n",
    "string.remove('is')\n",
    "string"
   ]
  },
  {
   "cell_type": "markdown",
   "id": "9e7e7012-2fe2-4d6b-a5ba-08aa5fb44f6c",
   "metadata": {},
   "source": [
    "**Mutable-Immutable**\n",
    "- Change the elements using index\n",
    "- But in dictionary there is no index\n",
    "- In dictionary we will change the value based on key only\n",
    "- Instead of using the index, change the values using key\n",
    "- if it is change it is mutable\n",
    "- if it is not change it is immutable"
   ]
  },
  {
   "cell_type": "code",
   "execution_count": 67,
   "id": "a66d0de3-3a54-4300-ad97-f40d070ef57b",
   "metadata": {},
   "outputs": [
    {
     "data": {
      "text/plain": [
       "{'Dinesh': 25, 'Nagesh': 30, 'Akhil': 45}"
      ]
     },
     "execution_count": 67,
     "metadata": {},
     "output_type": "execute_result"
    }
   ],
   "source": [
    "d1={'Dinesh':25,'Nagesh':35,'Akhil':45}\n",
    "d1['Nagesh']=30\n",
    "d1"
   ]
  },
  {
   "cell_type": "markdown",
   "id": "d402b76d-6218-45a2-a9a8-3139dad12d22",
   "metadata": {},
   "source": [
    "- List and Dictionary are mutable\n",
    "- Tuples and strings are immutable\n",
    "- Difference between list and tuple"
   ]
  },
  {
   "cell_type": "code",
   "execution_count": 71,
   "id": "52f43e9f-69a8-462e-9706-b684ff02be25",
   "metadata": {},
   "outputs": [
    {
     "data": {
      "text/plain": [
       "'Apple'"
      ]
     },
     "execution_count": 71,
     "metadata": {},
     "output_type": "execute_result"
    }
   ],
   "source": [
    "d={'Fruits':['Mango','Apple']}\n",
    "d['Fruits'][1]"
   ]
  },
  {
   "cell_type": "code",
   "execution_count": 75,
   "id": "868a26c3-4b17-4dfa-9607-dbd9bde4a20b",
   "metadata": {},
   "outputs": [
    {
     "data": {
      "text/plain": [
       "'Kashmir'"
      ]
     },
     "execution_count": 75,
     "metadata": {},
     "output_type": "execute_result"
    }
   ],
   "source": [
    "d={'Fruits':[{'Apple':['Kashmir']}]}\n",
    "d['Fruits'][0]['Apple'][0]"
   ]
  },
  {
   "cell_type": "code",
   "execution_count": 81,
   "id": "cecde2b3-bfd0-4d73-bc3f-72ffc6146de5",
   "metadata": {},
   "outputs": [
    {
     "data": {
      "text/plain": [
       "'India'"
      ]
     },
     "execution_count": 81,
     "metadata": {},
     "output_type": "execute_result"
    }
   ],
   "source": [
    "d={'Fruits':[\n",
    "    {'Apple':\n",
    "     {'Kashmir':\n",
    "     ['India'\n",
    "     ]\n",
    "     }\n",
    "    }\n",
    "   ]\n",
    " }\n",
    "\n",
    "d['Fruits'][0]['Apple']['Kashmir'][0]"
   ]
  },
  {
   "cell_type": "code",
   "execution_count": 3,
   "id": "bc6fde6f-1589-4b84-964f-643540e89367",
   "metadata": {},
   "outputs": [
    {
     "data": {
      "text/plain": [
       "{'Shambaji'}"
      ]
     },
     "execution_count": 3,
     "metadata": {},
     "output_type": "execute_result"
    }
   ],
   "source": [
    "d={'Fruits':{'Benganapalli':{'Mango':{'Nagpur':{'MH':{'Shivaji':{'Shambaji'}}}}}}}\n",
    "d['Fruits']['Benganapalli']['Mango']['Nagpur']['MH']['Shivaji']"
   ]
  },
  {
   "cell_type": "markdown",
   "id": "b0a044f9-bcd7-40de-880e-c307938f301c",
   "metadata": {},
   "source": [
    "**Dictionary Methods**"
   ]
  },
  {
   "cell_type": "code",
   "execution_count": 1,
   "id": "d296ff93-63fc-4941-ac9d-8b534776293d",
   "metadata": {},
   "outputs": [
    {
     "data": {
      "text/plain": [
       "['__class__',\n",
       " '__class_getitem__',\n",
       " '__contains__',\n",
       " '__delattr__',\n",
       " '__delitem__',\n",
       " '__dir__',\n",
       " '__doc__',\n",
       " '__eq__',\n",
       " '__format__',\n",
       " '__ge__',\n",
       " '__getattribute__',\n",
       " '__getitem__',\n",
       " '__getstate__',\n",
       " '__gt__',\n",
       " '__hash__',\n",
       " '__init__',\n",
       " '__init_subclass__',\n",
       " '__ior__',\n",
       " '__iter__',\n",
       " '__le__',\n",
       " '__len__',\n",
       " '__lt__',\n",
       " '__ne__',\n",
       " '__new__',\n",
       " '__or__',\n",
       " '__reduce__',\n",
       " '__reduce_ex__',\n",
       " '__repr__',\n",
       " '__reversed__',\n",
       " '__ror__',\n",
       " '__setattr__',\n",
       " '__setitem__',\n",
       " '__sizeof__',\n",
       " '__str__',\n",
       " '__subclasshook__',\n",
       " 'clear',\n",
       " 'copy',\n",
       " 'fromkeys',\n",
       " 'get',\n",
       " 'items',\n",
       " 'keys',\n",
       " 'pop',\n",
       " 'popitem',\n",
       " 'setdefault',\n",
       " 'update',\n",
       " 'values']"
      ]
     },
     "execution_count": 1,
     "metadata": {},
     "output_type": "execute_result"
    }
   ],
   "source": [
    "dir(dict)"
   ]
  },
  {
   "cell_type": "markdown",
   "id": "ba80ccc5-caca-4c2b-b19b-252e15b60c63",
   "metadata": {},
   "source": [
    "**items-keys-values**"
   ]
  },
  {
   "cell_type": "code",
   "execution_count": 10,
   "id": "fc21ce48-5468-4ee1-a2b3-ee48bcd5112f",
   "metadata": {},
   "outputs": [
    {
     "data": {
      "text/plain": [
       "dict_items([('Dinesh', 25), ('Nagesh', 35), ('Akhil', 45)])"
      ]
     },
     "execution_count": 10,
     "metadata": {},
     "output_type": "execute_result"
    }
   ],
   "source": [
    "d={'Dinesh':25,'Nagesh':35,'Akhil':45}\n",
    "d.items()"
   ]
  },
  {
   "cell_type": "code",
   "execution_count": 11,
   "id": "3fe7d3e2-c0be-4326-8d5b-addd86c163dd",
   "metadata": {},
   "outputs": [
    {
     "data": {
      "text/plain": [
       "dict_keys(['Dinesh', 'Nagesh', 'Akhil'])"
      ]
     },
     "execution_count": 11,
     "metadata": {},
     "output_type": "execute_result"
    }
   ],
   "source": [
    "d.keys()"
   ]
  },
  {
   "cell_type": "code",
   "execution_count": 12,
   "id": "c38d302c-1cc6-4e3d-9d6b-c6ac40efc7f4",
   "metadata": {},
   "outputs": [
    {
     "data": {
      "text/plain": [
       "dict_values([25, 35, 45])"
      ]
     },
     "execution_count": 12,
     "metadata": {},
     "output_type": "execute_result"
    }
   ],
   "source": [
    "d.values()"
   ]
  },
  {
   "cell_type": "code",
   "execution_count": 47,
   "id": "8ac97436-2c91-452c-b930-464bd8afadb4",
   "metadata": {},
   "outputs": [
    {
     "data": {
      "text/plain": [
       "[25, 35, 45, 20]"
      ]
     },
     "execution_count": 47,
     "metadata": {},
     "output_type": "execute_result"
    }
   ],
   "source": [
    "k=list(d.values())\n",
    "k.append(20)\n",
    "k"
   ]
  },
  {
   "cell_type": "code",
   "execution_count": 51,
   "id": "e4fbbfa0-7e5c-474a-b2d2-0fd4d0a1e9cd",
   "metadata": {},
   "outputs": [
    {
     "data": {
      "text/plain": [
       "list[dict_keys(['Dinesh', 'Nagesh', 'Akhil'])]"
      ]
     },
     "execution_count": 51,
     "metadata": {},
     "output_type": "execute_result"
    }
   ],
   "source": [
    "list[d.keys()]"
   ]
  },
  {
   "cell_type": "markdown",
   "id": "83dd7b43-e63a-4e1b-baa0-2ac52fd970ec",
   "metadata": {},
   "source": [
    "**Method-1**"
   ]
  },
  {
   "cell_type": "code",
   "execution_count": 52,
   "id": "ad181302-56d7-4291-805a-c55d7663be59",
   "metadata": {},
   "outputs": [
    {
     "name": "stdout",
     "output_type": "stream",
     "text": [
      "['Dinesh', 'Nagesh', 'Akhil']\n",
      "[25, 35, 45]\n"
     ]
    }
   ],
   "source": [
    "d={'Dinesh':25,'Nagesh':35,'Akhil':45}\n",
    "keys=[]\n",
    "values=[]\n",
    "for i in d:\n",
    "    keys.append(i)\n",
    "    values.append(d[i])\n",
    "print(keys)\n",
    "print(values)"
   ]
  },
  {
   "cell_type": "markdown",
   "id": "87e35368-bea3-435b-b0f2-331cd4736eb0",
   "metadata": {},
   "source": [
    "**Method-2**"
   ]
  },
  {
   "cell_type": "code",
   "execution_count": 53,
   "id": "bb0de35e-1878-4d82-bb38-91c416ce0d61",
   "metadata": {},
   "outputs": [
    {
     "data": {
      "text/plain": [
       "(['Dinesh', 'Nagesh', 'Akhil'], [25, 35, 45])"
      ]
     },
     "execution_count": 53,
     "metadata": {},
     "output_type": "execute_result"
    }
   ],
   "source": [
    "d={'Dinesh':25,'Nagesh':35,'Akhil':45}\n",
    "list(d.keys()),list(d.values())"
   ]
  },
  {
   "cell_type": "markdown",
   "id": "72a926f6-6416-4a12-8660-f9d2291157b0",
   "metadata": {},
   "source": [
    "**Method-3**"
   ]
  },
  {
   "cell_type": "code",
   "execution_count": 54,
   "id": "26c3ca9b-5df5-4597-a88a-7237bd6cd3a7",
   "metadata": {},
   "outputs": [
    {
     "data": {
      "text/plain": [
       "dict_items([('Dinesh', 25), ('Nagesh', 35), ('Akhil', 45)])"
      ]
     },
     "execution_count": 54,
     "metadata": {},
     "output_type": "execute_result"
    }
   ],
   "source": [
    "d.items()"
   ]
  },
  {
   "cell_type": "code",
   "execution_count": 59,
   "id": "10bdec42-8cc4-4cc0-b743-7ba7f159aa86",
   "metadata": {},
   "outputs": [
    {
     "name": "stdout",
     "output_type": "stream",
     "text": [
      "('Dinesh', 25)\n",
      "('Nagesh', 35)\n",
      "('Akhil', 45)\n"
     ]
    }
   ],
   "source": [
    "for i in d.items():\n",
    "    print(i)"
   ]
  },
  {
   "cell_type": "code",
   "execution_count": 58,
   "id": "fce78040-05ae-4c15-96cf-75af46123fcf",
   "metadata": {},
   "outputs": [
    {
     "name": "stdout",
     "output_type": "stream",
     "text": [
      "Dinesh 25\n",
      "Nagesh 35\n",
      "Akhil 45\n",
      "['Dinesh', 'Nagesh', 'Akhil']\n",
      "[25, 35, 45]\n"
     ]
    }
   ],
   "source": [
    "keys,values=[],[]\n",
    "for i,j in d.items():\n",
    "    print(i,j)\n",
    "    keys.append(i)\n",
    "    values.append(d[i])\n",
    "print(keys)\n",
    "print(values)"
   ]
  },
  {
   "cell_type": "code",
   "execution_count": 64,
   "id": "18bced03-d5d9-4f23-8dfd-81c511e099f5",
   "metadata": {},
   "outputs": [
    {
     "data": {
      "text/plain": [
       "{'V': 40, 'i': 40, 'n': 40, 'a': 40, 'y': 40}"
      ]
     },
     "execution_count": 64,
     "metadata": {},
     "output_type": "execute_result"
    }
   ],
   "source": [
    "d.fromkeys('Vinay',40)"
   ]
  },
  {
   "cell_type": "code",
   "execution_count": 15,
   "id": "f3fd7b62-9781-4a94-81d8-6bbd13841496",
   "metadata": {},
   "outputs": [
    {
     "data": {
      "text/plain": [
       "{'Dinesh': 25, 'Nagesh': 30, 'Akhil': 45}"
      ]
     },
     "execution_count": 15,
     "metadata": {},
     "output_type": "execute_result"
    }
   ],
   "source": [
    "d={'Dinesh':25,'Nagesh':35,'Akhil':45}\n",
    "d.update({'Nagesh':30})\n",
    "d"
   ]
  },
  {
   "cell_type": "code",
   "execution_count": 16,
   "id": "7b606d01-3571-4cd6-b67d-e5b2daf68dfd",
   "metadata": {},
   "outputs": [
    {
     "data": {
      "text/plain": [
       "{'Dinesh': 25, 'Nagesh': 25, 'Akhil': 25}"
      ]
     },
     "execution_count": 16,
     "metadata": {},
     "output_type": "execute_result"
    }
   ],
   "source": [
    "d={'Dinesh':25,'Nagesh':35,'Akhil':45}\n",
    "dict.fromkeys(d,25)"
   ]
  },
  {
   "cell_type": "code",
   "execution_count": null,
   "id": "3ac08ae6-a907-45dc-929a-155672cadee3",
   "metadata": {},
   "outputs": [],
   "source": []
  },
  {
   "cell_type": "code",
   "execution_count": null,
   "id": "2f752be4-77bf-4052-91f9-07ef024c33d9",
   "metadata": {},
   "outputs": [],
   "source": []
  },
  {
   "cell_type": "code",
   "execution_count": null,
   "id": "9d7f90b4-4dbe-46e1-a6ef-40b8c00e9089",
   "metadata": {},
   "outputs": [],
   "source": []
  },
  {
   "cell_type": "code",
   "execution_count": null,
   "id": "ba04b6e0-c5e2-4687-bec6-e35f7d812ebc",
   "metadata": {},
   "outputs": [],
   "source": []
  },
  {
   "cell_type": "code",
   "execution_count": null,
   "id": "657a162f-04b8-4801-8c5a-d612c60ca9d6",
   "metadata": {},
   "outputs": [],
   "source": []
  },
  {
   "cell_type": "code",
   "execution_count": null,
   "id": "830bf599-2bc2-482d-8153-eb17aa9713c3",
   "metadata": {},
   "outputs": [],
   "source": []
  },
  {
   "cell_type": "code",
   "execution_count": null,
   "id": "f265f161-cc22-4f9a-b681-1a01b806e3f0",
   "metadata": {},
   "outputs": [],
   "source": []
  },
  {
   "cell_type": "code",
   "execution_count": null,
   "id": "8ca1ffaf-5ff3-4dc8-ab64-736a18dd2f96",
   "metadata": {},
   "outputs": [],
   "source": []
  },
  {
   "cell_type": "code",
   "execution_count": null,
   "id": "0385a9a4-b8a2-424e-a69b-e36d5826a285",
   "metadata": {},
   "outputs": [],
   "source": []
  },
  {
   "cell_type": "code",
   "execution_count": null,
   "id": "e3c580cc-3b3e-4f9e-85ad-4a6a493bd8b2",
   "metadata": {},
   "outputs": [],
   "source": []
  },
  {
   "cell_type": "code",
   "execution_count": null,
   "id": "2b8c95cf-e2ec-4a86-baa9-de60fdf09dfb",
   "metadata": {},
   "outputs": [],
   "source": []
  },
  {
   "cell_type": "code",
   "execution_count": null,
   "id": "ab3fb5e5-d58a-4fde-bec7-e84662457898",
   "metadata": {},
   "outputs": [],
   "source": []
  },
  {
   "cell_type": "code",
   "execution_count": null,
   "id": "2ff1b850-e237-4c9a-9133-e97cfbd0361f",
   "metadata": {},
   "outputs": [],
   "source": []
  }
 ],
 "metadata": {
  "kernelspec": {
   "display_name": "Python 3 (ipykernel)",
   "language": "python",
   "name": "python3"
  },
  "language_info": {
   "codemirror_mode": {
    "name": "ipython",
    "version": 3
   },
   "file_extension": ".py",
   "mimetype": "text/x-python",
   "name": "python",
   "nbconvert_exporter": "python",
   "pygments_lexer": "ipython3",
   "version": "3.11.7"
  }
 },
 "nbformat": 4,
 "nbformat_minor": 5
}
