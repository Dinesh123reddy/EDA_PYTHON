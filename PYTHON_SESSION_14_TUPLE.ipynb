{
 "cells": [
  {
   "cell_type": "markdown",
   "id": "e8002061-0c4c-4fa5-8705-13fba474f0d4",
   "metadata": {},
   "source": [
    "- representation\n",
    "- type\n",
    "- len\n",
    "- max\n",
    "- min\n",
    "- sum\n",
    "- sorted\n",
    "- reversed\n",
    "- in\n",
    "- for loop with in\n",
    "- index\n",
    "- for loop with index\n",
    "- mutable and immutable\n",
    "- slicing\n",
    "- concatenation\n",
    "- Methods"
   ]
  },
  {
   "cell_type": "code",
   "execution_count": 3,
   "id": "6ddce467-29f0-4cf7-8e96-3725319977ef",
   "metadata": {},
   "outputs": [
    {
     "data": {
      "text/plain": [
       "['__add__',\n",
       " '__class__',\n",
       " '__class_getitem__',\n",
       " '__contains__',\n",
       " '__delattr__',\n",
       " '__dir__',\n",
       " '__doc__',\n",
       " '__eq__',\n",
       " '__format__',\n",
       " '__ge__',\n",
       " '__getattribute__',\n",
       " '__getitem__',\n",
       " '__getnewargs__',\n",
       " '__getstate__',\n",
       " '__gt__',\n",
       " '__hash__',\n",
       " '__init__',\n",
       " '__init_subclass__',\n",
       " '__iter__',\n",
       " '__le__',\n",
       " '__len__',\n",
       " '__lt__',\n",
       " '__mul__',\n",
       " '__ne__',\n",
       " '__new__',\n",
       " '__reduce__',\n",
       " '__reduce_ex__',\n",
       " '__repr__',\n",
       " '__rmul__',\n",
       " '__setattr__',\n",
       " '__sizeof__',\n",
       " '__str__',\n",
       " '__subclasshook__',\n",
       " 'count',\n",
       " 'index']"
      ]
     },
     "execution_count": 3,
     "metadata": {},
     "output_type": "execute_result"
    }
   ],
   "source": [
    "dir(())"
   ]
  },
  {
   "cell_type": "markdown",
   "id": "0d010fa6-880f-4fb3-9ce1-c6859651a41a",
   "metadata": {},
   "source": [
    "**Representation**\n",
    "- A tuple is represented with parenthesis()"
   ]
  },
  {
   "cell_type": "code",
   "execution_count": 7,
   "id": "0a11bc92-7866-4c31-8713-7d5eeec6d13e",
   "metadata": {},
   "outputs": [
    {
     "name": "stdout",
     "output_type": "stream",
     "text": [
      "(1, 2, 3, 4, 5)\n"
     ]
    },
    {
     "data": {
      "text/plain": [
       "tuple"
      ]
     },
     "execution_count": 7,
     "metadata": {},
     "output_type": "execute_result"
    }
   ],
   "source": [
    "l=(1,2,3,4,5)\n",
    "print(l)\n",
    "type(l)"
   ]
  },
  {
   "cell_type": "code",
   "execution_count": 5,
   "id": "f720cf6f-54aa-4e5c-a140-6ff123607344",
   "metadata": {},
   "outputs": [
    {
     "data": {
      "text/plain": [
       "('A', 'b', 'C', 'd', '2', '3')"
      ]
     },
     "execution_count": 5,
     "metadata": {},
     "output_type": "execute_result"
    }
   ],
   "source": [
    "l1=('A','b','C','d','2','3')\n",
    "l1"
   ]
  },
  {
   "cell_type": "code",
   "execution_count": 8,
   "id": "465e0ee2-942f-4479-bb5c-501a048b38aa",
   "metadata": {},
   "outputs": [
    {
     "name": "stdout",
     "output_type": "stream",
     "text": [
      "5\n",
      "6\n",
      "2\n",
      "[2, 3, 5, 6, 6]\n",
      "5 6 6 3 2 "
     ]
    }
   ],
   "source": [
    "l2=(2,3,6,6,5)\n",
    "print(len(l2))\n",
    "print(max(l2))\n",
    "print(min(l2))\n",
    "print(sorted(l2))\n",
    "output=reversed(l2)\n",
    "for i in output:\n",
    "    print(i,end=\" \")"
   ]
  },
  {
   "cell_type": "code",
   "execution_count": 12,
   "id": "a538530b-2284-40db-8696-e979ea6d3ea3",
   "metadata": {},
   "outputs": [
    {
     "name": "stdout",
     "output_type": "stream",
     "text": [
      "(4, 6, 'B')\n",
      "()\n",
      "(4,)\n",
      "()\n",
      "()\n",
      "('E',)\n",
      "('E', 'C', 'A')\n"
     ]
    }
   ],
   "source": [
    "l=(1,2,3,4,5,6,'A','B','C','D','E','F','G')\n",
    "print(l[3:9:2])\n",
    "print(l[3:9:-2])\n",
    "print(l[3:-9:2])\n",
    "print(l[-3:9:2])\n",
    "print(l[-3:-9:2])\n",
    "print(l[-3:9:-2])\n",
    "print(l[-3:-9:-2])"
   ]
  },
  {
   "cell_type": "markdown",
   "id": "0da8600b-2a21-4eaf-b9f0-8728adbc6339",
   "metadata": {},
   "source": [
    "**len**\n",
    "- It displays the length of the tuple"
   ]
  },
  {
   "cell_type": "code",
   "execution_count": 15,
   "id": "ce7af26a-2368-4d1c-b1f7-df534d2ecfc7",
   "metadata": {},
   "outputs": [
    {
     "data": {
      "text/plain": [
       "13"
      ]
     },
     "execution_count": 15,
     "metadata": {},
     "output_type": "execute_result"
    }
   ],
   "source": [
    "tup=(1,2,3,4,5,6,'A','B','C','D','E','F','G')\n",
    "len(tup)"
   ]
  },
  {
   "cell_type": "markdown",
   "id": "76994b72-a6c2-4c88-85b1-44eb55dcc532",
   "metadata": {},
   "source": [
    "**max**\n",
    "- It gives the maximum value in the tuple\n",
    "- It will not gives output when we print maximum value in combination of numbers ans strings"
   ]
  },
  {
   "cell_type": "code",
   "execution_count": 19,
   "id": "e8bcb6b4-f371-485b-b0a1-609d057e879b",
   "metadata": {},
   "outputs": [
    {
     "name": "stdout",
     "output_type": "stream",
     "text": [
      "6\n"
     ]
    },
    {
     "data": {
      "text/plain": [
       "'G'"
      ]
     },
     "execution_count": 19,
     "metadata": {},
     "output_type": "execute_result"
    }
   ],
   "source": [
    "tup=(1,2,3,4,5,6)\n",
    "print(max(tup))\n",
    "tup1=('A','B','C','D','E','F','G')\n",
    "max(tup1)"
   ]
  },
  {
   "cell_type": "code",
   "execution_count": 20,
   "id": "d61926b7-e90c-4406-b440-efdf87f1b124",
   "metadata": {},
   "outputs": [
    {
     "ename": "TypeError",
     "evalue": "'>' not supported between instances of 'str' and 'int'",
     "output_type": "error",
     "traceback": [
      "\u001b[1;31m---------------------------------------------------------------------------\u001b[0m",
      "\u001b[1;31mTypeError\u001b[0m                                 Traceback (most recent call last)",
      "Cell \u001b[1;32mIn[20], line 2\u001b[0m\n\u001b[0;32m      1\u001b[0m tup\u001b[38;5;241m=\u001b[39m(\u001b[38;5;241m1\u001b[39m,\u001b[38;5;241m2\u001b[39m,\u001b[38;5;241m3\u001b[39m,\u001b[38;5;241m4\u001b[39m,\u001b[38;5;241m5\u001b[39m,\u001b[38;5;241m6\u001b[39m,\u001b[38;5;124m'\u001b[39m\u001b[38;5;124mA\u001b[39m\u001b[38;5;124m'\u001b[39m,\u001b[38;5;124m'\u001b[39m\u001b[38;5;124mB\u001b[39m\u001b[38;5;124m'\u001b[39m,\u001b[38;5;124m'\u001b[39m\u001b[38;5;124mC\u001b[39m\u001b[38;5;124m'\u001b[39m,\u001b[38;5;124m'\u001b[39m\u001b[38;5;124mD\u001b[39m\u001b[38;5;124m'\u001b[39m,\u001b[38;5;124m'\u001b[39m\u001b[38;5;124mE\u001b[39m\u001b[38;5;124m'\u001b[39m,\u001b[38;5;124m'\u001b[39m\u001b[38;5;124mF\u001b[39m\u001b[38;5;124m'\u001b[39m,\u001b[38;5;124m'\u001b[39m\u001b[38;5;124mG\u001b[39m\u001b[38;5;124m'\u001b[39m)\n\u001b[1;32m----> 2\u001b[0m \u001b[38;5;28mmax\u001b[39m(tup)\n",
      "\u001b[1;31mTypeError\u001b[0m: '>' not supported between instances of 'str' and 'int'"
     ]
    }
   ],
   "source": [
    "tup=(1,2,3,4,5,6,'A','B','C','D','E','F','G')\n",
    "max(tup)"
   ]
  },
  {
   "cell_type": "markdown",
   "id": "e1f6919c-c8a1-43c9-833b-d5c7cead979d",
   "metadata": {},
   "source": [
    "**min**\n",
    "- It gives the minimum value in the tuple\n",
    "- It will not gives output when we print minimum value in combination of numbers ans strings"
   ]
  },
  {
   "cell_type": "code",
   "execution_count": 21,
   "id": "9050131f-de1e-4736-a0c7-a57961425c61",
   "metadata": {},
   "outputs": [
    {
     "name": "stdout",
     "output_type": "stream",
     "text": [
      "1\n"
     ]
    },
    {
     "data": {
      "text/plain": [
       "'A'"
      ]
     },
     "execution_count": 21,
     "metadata": {},
     "output_type": "execute_result"
    }
   ],
   "source": [
    "tup=(1,2,3,4,5,6)\n",
    "print(min(tup))\n",
    "tup1=('A','B','C','D','E','F','G')\n",
    "min(tup1)"
   ]
  },
  {
   "cell_type": "code",
   "execution_count": 22,
   "id": "d32e1877-49a8-49b5-af14-e28102a720ec",
   "metadata": {},
   "outputs": [
    {
     "ename": "TypeError",
     "evalue": "'<' not supported between instances of 'str' and 'int'",
     "output_type": "error",
     "traceback": [
      "\u001b[1;31m---------------------------------------------------------------------------\u001b[0m",
      "\u001b[1;31mTypeError\u001b[0m                                 Traceback (most recent call last)",
      "Cell \u001b[1;32mIn[22], line 2\u001b[0m\n\u001b[0;32m      1\u001b[0m tup\u001b[38;5;241m=\u001b[39m(\u001b[38;5;241m1\u001b[39m,\u001b[38;5;241m2\u001b[39m,\u001b[38;5;241m3\u001b[39m,\u001b[38;5;241m4\u001b[39m,\u001b[38;5;241m5\u001b[39m,\u001b[38;5;241m6\u001b[39m,\u001b[38;5;124m'\u001b[39m\u001b[38;5;124mA\u001b[39m\u001b[38;5;124m'\u001b[39m,\u001b[38;5;124m'\u001b[39m\u001b[38;5;124mB\u001b[39m\u001b[38;5;124m'\u001b[39m,\u001b[38;5;124m'\u001b[39m\u001b[38;5;124mC\u001b[39m\u001b[38;5;124m'\u001b[39m,\u001b[38;5;124m'\u001b[39m\u001b[38;5;124mD\u001b[39m\u001b[38;5;124m'\u001b[39m,\u001b[38;5;124m'\u001b[39m\u001b[38;5;124mE\u001b[39m\u001b[38;5;124m'\u001b[39m,\u001b[38;5;124m'\u001b[39m\u001b[38;5;124mF\u001b[39m\u001b[38;5;124m'\u001b[39m,\u001b[38;5;124m'\u001b[39m\u001b[38;5;124mG\u001b[39m\u001b[38;5;124m'\u001b[39m)\n\u001b[1;32m----> 2\u001b[0m \u001b[38;5;28mmin\u001b[39m(tup)\n",
      "\u001b[1;31mTypeError\u001b[0m: '<' not supported between instances of 'str' and 'int'"
     ]
    }
   ],
   "source": [
    "tup=(1,2,3,4,5,6,'A','B','C','D','E','F','G')\n",
    "min(tup)"
   ]
  },
  {
   "cell_type": "markdown",
   "id": "3bd1009c-3462-4952-bd9f-1d2214007d12",
   "metadata": {},
   "source": [
    "**sum**\n",
    "- sum operand will sum all the values in the tuple and display the total sum as output\n",
    "- sum will works only on the numbers"
   ]
  },
  {
   "cell_type": "code",
   "execution_count": 23,
   "id": "ecc2b9df-7803-4b3c-92ec-661c3e430f79",
   "metadata": {},
   "outputs": [
    {
     "data": {
      "text/plain": [
       "21"
      ]
     },
     "execution_count": 23,
     "metadata": {},
     "output_type": "execute_result"
    }
   ],
   "source": [
    "tup=(1,2,3,4,5,6)\n",
    "sum(tup)"
   ]
  },
  {
   "cell_type": "markdown",
   "id": "00feb9da-1d7e-4d23-9394-5d38a5027ddb",
   "metadata": {},
   "source": [
    "**sorted**\n",
    "- **Note**\n",
    "- sorting gives ascending order based on ASCII numbers\n",
    "- sorted is kind of a function\n",
    "- Every function we have arguments\n",
    "- In that one default argument is **reverse=False**\n",
    "- By default sorted output gives **ascending order**\n",
    "- We can change the order, by providing **reverse=True**\n",
    "- **If we do not mention, it will give the default answer**"
   ]
  },
  {
   "cell_type": "code",
   "execution_count": 37,
   "id": "908734d7-9fe8-4a1a-8cbb-912944b547a3",
   "metadata": {},
   "outputs": [
    {
     "data": {
      "text/plain": [
       "[7, 6, 5, 5, 3, 2]"
      ]
     },
     "execution_count": 37,
     "metadata": {},
     "output_type": "execute_result"
    }
   ],
   "source": [
    "tup=(6,3,5,7,2,5)\n",
    "sorted(tup,reverse=True)"
   ]
  },
  {
   "cell_type": "code",
   "execution_count": 38,
   "id": "a69ca184-237c-40a0-8393-1633c5b675f3",
   "metadata": {},
   "outputs": [
    {
     "data": {
      "text/plain": [
       "[2, 3, 5, 5, 6, 7]"
      ]
     },
     "execution_count": 38,
     "metadata": {},
     "output_type": "execute_result"
    }
   ],
   "source": [
    "tup=(6,3,5,7,2,5)\n",
    "sorted(tup,reverse=False)"
   ]
  },
  {
   "cell_type": "code",
   "execution_count": 28,
   "id": "16df2d9e-fa29-4632-b4ce-9c9f7de46067",
   "metadata": {},
   "outputs": [
    {
     "data": {
      "text/plain": [
       "['A', 'D', 'E', 'R', 'S', 'T']"
      ]
     },
     "execution_count": 28,
     "metadata": {},
     "output_type": "execute_result"
    }
   ],
   "source": [
    "tup1=('D','E','A','S','R','T')\n",
    "sorted(tup1)"
   ]
  },
  {
   "cell_type": "code",
   "execution_count": 30,
   "id": "a0773687-c618-420f-bd0d-a8eb897df171",
   "metadata": {},
   "outputs": [
    {
     "ename": "TypeError",
     "evalue": "'<' not supported between instances of 'str' and 'int'",
     "output_type": "error",
     "traceback": [
      "\u001b[1;31m---------------------------------------------------------------------------\u001b[0m",
      "\u001b[1;31mTypeError\u001b[0m                                 Traceback (most recent call last)",
      "Cell \u001b[1;32mIn[30], line 2\u001b[0m\n\u001b[0;32m      1\u001b[0m tup\u001b[38;5;241m=\u001b[39m(\u001b[38;5;241m6\u001b[39m,\u001b[38;5;241m3\u001b[39m,\u001b[38;5;241m5\u001b[39m,\u001b[38;5;241m7\u001b[39m,\u001b[38;5;241m2\u001b[39m,\u001b[38;5;241m5\u001b[39m,\u001b[38;5;124m'\u001b[39m\u001b[38;5;124mD\u001b[39m\u001b[38;5;124m'\u001b[39m,\u001b[38;5;124m'\u001b[39m\u001b[38;5;124mE\u001b[39m\u001b[38;5;124m'\u001b[39m,\u001b[38;5;124m'\u001b[39m\u001b[38;5;124mA\u001b[39m\u001b[38;5;124m'\u001b[39m,\u001b[38;5;124m'\u001b[39m\u001b[38;5;124mS\u001b[39m\u001b[38;5;124m'\u001b[39m,\u001b[38;5;124m'\u001b[39m\u001b[38;5;124mR\u001b[39m\u001b[38;5;124m'\u001b[39m,\u001b[38;5;124m'\u001b[39m\u001b[38;5;124mT\u001b[39m\u001b[38;5;124m'\u001b[39m)\n\u001b[1;32m----> 2\u001b[0m \u001b[38;5;28msorted\u001b[39m(tup)\n",
      "\u001b[1;31mTypeError\u001b[0m: '<' not supported between instances of 'str' and 'int'"
     ]
    }
   ],
   "source": [
    "tup=(6,3,5,7,2,5,'D','E','A','S','R','T')\n",
    "sorted(tup)"
   ]
  },
  {
   "cell_type": "markdown",
   "id": "727294f7-16f7-4923-b137-b31979f6db29",
   "metadata": {},
   "source": [
    "**reversed**\n",
    "- It reverse the tuple"
   ]
  },
  {
   "cell_type": "code",
   "execution_count": 34,
   "id": "dfaa5622-b4b1-4e83-9542-b3b22cd0ce3d",
   "metadata": {},
   "outputs": [
    {
     "name": "stdout",
     "output_type": "stream",
     "text": [
      "6 5 4 3 2 1 "
     ]
    }
   ],
   "source": [
    "tup=(1,2,3,4,5,6)\n",
    "a=reversed(tup)\n",
    "for i in a:\n",
    "    print(i,end=' ')"
   ]
  },
  {
   "cell_type": "code",
   "execution_count": 36,
   "id": "62cd3806-422f-4a8c-8639-dfaed6b92951",
   "metadata": {},
   "outputs": [
    {
     "name": "stdout",
     "output_type": "stream",
     "text": [
      "T R S A E D "
     ]
    }
   ],
   "source": [
    "tup1=('D','E','A','S','R','T')\n",
    "a=reversed(tup1)\n",
    "for i in a:\n",
    "    print(i,end=' ')"
   ]
  },
  {
   "cell_type": "markdown",
   "id": "0ca98e00-faf4-488e-b3f7-5ef76119c6e1",
   "metadata": {},
   "source": [
    "**in**\n",
    "- in operator directly access the letters"
   ]
  },
  {
   "cell_type": "code",
   "execution_count": 43,
   "id": "23087099-3112-441d-ba9f-779e5f45a4be",
   "metadata": {},
   "outputs": [
    {
     "data": {
      "text/plain": [
       "True"
      ]
     },
     "execution_count": 43,
     "metadata": {},
     "output_type": "execute_result"
    }
   ],
   "source": [
    "tup=(1,2,3,4,5,6,'A','B','C','D','E','F','G')\n",
    "5 in tup"
   ]
  },
  {
   "cell_type": "markdown",
   "id": "7906bbc4-44a4-40c8-9d25-2fcd838e77ee",
   "metadata": {},
   "source": [
    "**for loop with in**"
   ]
  },
  {
   "cell_type": "code",
   "execution_count": 42,
   "id": "9660d3ab-8ad3-4b40-a890-97e1ccf532b5",
   "metadata": {},
   "outputs": [
    {
     "name": "stdout",
     "output_type": "stream",
     "text": [
      "1 2 3 4 5 6 A B C D E F G "
     ]
    }
   ],
   "source": [
    "tup=(1,2,3,4,5,6,'A','B','C','D','E','F','G')\n",
    "for i in tup:\n",
    "    print(i,end=\" \")"
   ]
  },
  {
   "cell_type": "markdown",
   "id": "5da614af-e785-451c-91c0-3808b3234664",
   "metadata": {},
   "source": [
    "**index**\n",
    "- Index meaning a number attached to a letter\n",
    "- In python index starts with zero\n",
    "- We have two directions\n",
    "   - Positive direction\n",
    "     - Positive numbers starts with zero\n",
    "   - Negative direction\n",
    "     - Negative numbers starts with -1, applicable to last letter"
   ]
  },
  {
   "cell_type": "code",
   "execution_count": 54,
   "id": "9e8a1633-b496-4f3a-83d1-56ddd174480a",
   "metadata": {},
   "outputs": [
    {
     "data": {
      "text/plain": [
       "(2, 5, 'D', 'C')"
      ]
     },
     "execution_count": 54,
     "metadata": {},
     "output_type": "execute_result"
    }
   ],
   "source": [
    "tup=(1,2,3,4,5,6,'A','B','C','D','E','F','G')\n",
    "tup[1],tup[4],tup[9],tup[8]"
   ]
  },
  {
   "cell_type": "markdown",
   "id": "d91060c3-ec8b-4211-be2c-45289b2e4567",
   "metadata": {},
   "source": [
    "**for loop with index**"
   ]
  },
  {
   "cell_type": "code",
   "execution_count": 50,
   "id": "b390d223-1a7e-44e1-be75-70244a1425d9",
   "metadata": {},
   "outputs": [
    {
     "name": "stdout",
     "output_type": "stream",
     "text": [
      "6 "
     ]
    }
   ],
   "source": [
    "tup=(1,2,3,4,5,6,'A','B','C','D','E','F','G')\n",
    "for i in range(len(tup)):\n",
    "    if i==5:\n",
    "        print(tup[i],end=\" \")"
   ]
  },
  {
   "cell_type": "markdown",
   "id": "3b77167f-7059-4fa2-bc71-7924928f3fff",
   "metadata": {},
   "source": [
    "**mutable-immutable**\n",
    "- Tuple is immutable i.e. it will not change the values once we added the values in a tuple"
   ]
  },
  {
   "cell_type": "code",
   "execution_count": 51,
   "id": "c90f6d08-cef9-4268-a3c6-03a270537d7f",
   "metadata": {},
   "outputs": [
    {
     "ename": "AttributeError",
     "evalue": "'tuple' object has no attribute 'append'",
     "output_type": "error",
     "traceback": [
      "\u001b[1;31m---------------------------------------------------------------------------\u001b[0m",
      "\u001b[1;31mAttributeError\u001b[0m                            Traceback (most recent call last)",
      "Cell \u001b[1;32mIn[51], line 2\u001b[0m\n\u001b[0;32m      1\u001b[0m tup\u001b[38;5;241m=\u001b[39m(\u001b[38;5;241m1\u001b[39m,\u001b[38;5;241m2\u001b[39m,\u001b[38;5;241m3\u001b[39m,\u001b[38;5;241m4\u001b[39m,\u001b[38;5;241m5\u001b[39m,\u001b[38;5;241m6\u001b[39m,\u001b[38;5;124m'\u001b[39m\u001b[38;5;124mA\u001b[39m\u001b[38;5;124m'\u001b[39m,\u001b[38;5;124m'\u001b[39m\u001b[38;5;124mB\u001b[39m\u001b[38;5;124m'\u001b[39m,\u001b[38;5;124m'\u001b[39m\u001b[38;5;124mC\u001b[39m\u001b[38;5;124m'\u001b[39m,\u001b[38;5;124m'\u001b[39m\u001b[38;5;124mD\u001b[39m\u001b[38;5;124m'\u001b[39m,\u001b[38;5;124m'\u001b[39m\u001b[38;5;124mE\u001b[39m\u001b[38;5;124m'\u001b[39m,\u001b[38;5;124m'\u001b[39m\u001b[38;5;124mF\u001b[39m\u001b[38;5;124m'\u001b[39m,\u001b[38;5;124m'\u001b[39m\u001b[38;5;124mG\u001b[39m\u001b[38;5;124m'\u001b[39m)\n\u001b[1;32m----> 2\u001b[0m tup\u001b[38;5;241m.\u001b[39mappend(\u001b[38;5;241m0\u001b[39m)\n",
      "\u001b[1;31mAttributeError\u001b[0m: 'tuple' object has no attribute 'append'"
     ]
    }
   ],
   "source": [
    "tup=(1,2,3,4,5,6,'A','B','C','D','E','F','G')\n",
    "tup.append(0)"
   ]
  },
  {
   "cell_type": "markdown",
   "id": "9c333b17-5952-4def-9df4-a1bab088d265",
   "metadata": {},
   "source": [
    "**slicing**\n",
    "- we can cut into pieces\n",
    "- similar to range concept\n",
    "- start,stop,step here also"
   ]
  },
  {
   "cell_type": "code",
   "execution_count": 58,
   "id": "bffc4c11-a757-4d8d-a72e-e89cbd489639",
   "metadata": {},
   "outputs": [
    {
     "data": {
      "text/plain": [
       "(1, 2, 3, 4, 5, 6, 'A', 'B', 'C', 'D', 'E', 'F', 'G')"
      ]
     },
     "execution_count": 58,
     "metadata": {},
     "output_type": "execute_result"
    }
   ],
   "source": [
    "tup=(1,2,3,4,5,6,'A','B','C','D','E','F','G')\n",
    "tup[0:]"
   ]
  },
  {
   "cell_type": "markdown",
   "id": "089b16b5-b4e2-44e0-8c5f-3ac0098f38b2",
   "metadata": {},
   "source": [
    "**Concatenation**\n",
    "- This add the two tuples by using '+' operator"
   ]
  },
  {
   "cell_type": "code",
   "execution_count": 61,
   "id": "1d3ea5ea-4305-411d-955f-f1ea6675c530",
   "metadata": {},
   "outputs": [
    {
     "data": {
      "text/plain": [
       "(1, 2, 3, 4, 5, 6, 'A', 'B', 'C', 'D', 'E', 'F', 'G')"
      ]
     },
     "execution_count": 61,
     "metadata": {},
     "output_type": "execute_result"
    }
   ],
   "source": [
    "tup=(1,2,3,4,5,6)\n",
    "tup1=('A','B','C','D','E','F','G')\n",
    "tup+tup1"
   ]
  },
  {
   "cell_type": "markdown",
   "id": "8e2e87bd-88d4-462a-9f15-5be359349d99",
   "metadata": {},
   "source": [
    "**Methods**\n",
    "- There are count method and index method\n",
    "- The count method will count how many times is the value repeated in the tuple\n",
    "- Return number of occurrences of value.\n",
    "- The index will return first index of value."
   ]
  },
  {
   "cell_type": "code",
   "execution_count": 67,
   "id": "a6259fe7-b6b7-4214-9883-688e49ac5b29",
   "metadata": {},
   "outputs": [
    {
     "data": {
      "text/plain": [
       "3"
      ]
     },
     "execution_count": 67,
     "metadata": {},
     "output_type": "execute_result"
    }
   ],
   "source": [
    "tup=(1,2,3,4,5,6,5,4,3,4,6,7)   # tup.count(value, /)\n",
    "tup.count(4)"
   ]
  },
  {
   "cell_type": "code",
   "execution_count": 65,
   "id": "32721d4c-131c-4b3f-9231-c006c2039518",
   "metadata": {},
   "outputs": [
    {
     "data": {
      "text/plain": [
       "8"
      ]
     },
     "execution_count": 65,
     "metadata": {},
     "output_type": "execute_result"
    }
   ],
   "source": [
    "tup=(1,2,3,4,5,6,5,4,3,4,6,7) # tup.index(value, start=0, stop=9223372036854775807, /)\n",
    "tup.index(3,3)"
   ]
  }
 ],
 "metadata": {
  "kernelspec": {
   "display_name": "Python 3 (ipykernel)",
   "language": "python",
   "name": "python3"
  },
  "language_info": {
   "codemirror_mode": {
    "name": "ipython",
    "version": 3
   },
   "file_extension": ".py",
   "mimetype": "text/x-python",
   "name": "python",
   "nbconvert_exporter": "python",
   "pygments_lexer": "ipython3",
   "version": "3.11.7"
  }
 },
 "nbformat": 4,
 "nbformat_minor": 5
}
