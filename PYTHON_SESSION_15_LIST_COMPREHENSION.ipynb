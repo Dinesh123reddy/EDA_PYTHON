{
 "cells": [
  {
   "cell_type": "markdown",
   "id": "13bed50d-11e9-4e5b-ac01-bafe2b0445af",
   "metadata": {},
   "source": [
    "- we can store the output values by using append operations\n",
    "- we are taking empty list\n",
    "- we are iterating through elements from a given list\n",
    "- the result we are appending in a new list"
   ]
  },
  {
   "cell_type": "code",
   "execution_count": 2,
   "id": "35ec54b5-cf65-4f65-bcb6-563f15c2b733",
   "metadata": {},
   "outputs": [
    {
     "data": {
      "text/plain": [
       "[0, 1, 4, 9, 16, 25, 36, 49, 64, 81]"
      ]
     },
     "execution_count": 2,
     "metadata": {},
     "output_type": "execute_result"
    }
   ],
   "source": [
    "square_list=[]\n",
    "for i in range(10):\n",
    "    square_list.append(i**2)\n",
    "square_list"
   ]
  },
  {
   "cell_type": "markdown",
   "id": "16ac4af3-5cc0-435e-b82a-16a1ba401291",
   "metadata": {},
   "source": [
    "- There are almost 3 lines are in the process\n",
    "- The three lines we can make into a single line\n",
    "- This is called as **LIST COMPREHENSION**"
   ]
  },
  {
   "cell_type": "markdown",
   "id": "6fcf5349-f36e-4dab-869f-8f64358c093a",
   "metadata": {},
   "source": [
    "$Pattern-1$\n",
    "\n",
    "**Only for loop**"
   ]
  },
  {
   "cell_type": "code",
   "execution_count": 12,
   "id": "aa60f1c4-f2a5-4153-a4fc-8b2fa741a14d",
   "metadata": {},
   "outputs": [
    {
     "data": {
      "text/plain": [
       "[0, 1, 4, 9, 16, 25, 36, 49, 64, 81]"
      ]
     },
     "execution_count": 12,
     "metadata": {},
     "output_type": "execute_result"
    }
   ],
   "source": [
    "# syntax\n",
    "# [<output>  <for loop>]\n",
    "square_list=[i**2 for i in range(10)]\n",
    "square_list"
   ]
  },
  {
   "cell_type": "code",
   "execution_count": 16,
   "id": "2c931b1a-f388-4e70-abcf-d57e49ef7bd9",
   "metadata": {},
   "outputs": [
    {
     "data": {
      "text/plain": [
       "['Hyd', 'Mumbai', 'Chennai', 'Blr']"
      ]
     },
     "execution_count": 16,
     "metadata": {},
     "output_type": "execute_result"
    }
   ],
   "source": [
    "# l1=['hyd','mumbai','chennai','blr']\n",
    "# ans=['Hyd','Mumbai','Chennai','Blr']\n",
    "l1=['hyd','mumbai','chennai','blr']\n",
    "l1=[i.capitalize() for i in l1]\n",
    "l1"
   ]
  },
  {
   "cell_type": "code",
   "execution_count": 19,
   "id": "2d3ebeb9-6db5-4580-be73-92dd29eeb880",
   "metadata": {},
   "outputs": [
    {
     "data": {
      "text/plain": [
       "['hyd', 'mumbai', 'chennai', 'blr']"
      ]
     },
     "execution_count": 19,
     "metadata": {},
     "output_type": "execute_result"
    }
   ],
   "source": [
    "# l1=['Hyd','Mumbai','Chennai','Blr']\n",
    "# ans=['hyd','mumbai','chennai','blr']\n",
    "l1=['hyd','Mumbai','chennai','Blr']\n",
    "l2=[i.lower() for i in l1]\n",
    "l2"
   ]
  },
  {
   "cell_type": "code",
   "execution_count": 1,
   "id": "1731a042-d3b6-4d04-a27f-7f76be964794",
   "metadata": {},
   "outputs": [
    {
     "data": {
      "text/plain": [
       "6"
      ]
     },
     "execution_count": 1,
     "metadata": {},
     "output_type": "execute_result"
    }
   ],
   "source": [
    "# l1=['Hyd','Mumbai','Chennai','Blr']\n",
    "# sum of the indexes of all elements\n",
    "l1=['Hyd','Mumbai','Chennai','Blr']\n",
    "l2=[l1.index(i) for i in l1]\n",
    "sum(l2)"
   ]
  },
  {
   "cell_type": "markdown",
   "id": "decd0304-fbbf-494f-b282-1219be9c7d7c",
   "metadata": {},
   "source": [
    "- Making empty list will not works in List Comprehension\n",
    "- Initializations will not works in List Comprehension\n",
    "- Assignment operations also not works"
   ]
  },
  {
   "cell_type": "code",
   "execution_count": 2,
   "id": "8422fd84-1ae7-48cb-b367-e50eb0a57c5b",
   "metadata": {},
   "outputs": [
    {
     "name": "stdout",
     "output_type": "stream",
     "text": [
      "5\n",
      "Done\n",
      "4\n"
     ]
    }
   ],
   "source": [
    "num=5\n",
    "while num>0:\n",
    "    print(num)\n",
    "    num-=1\n",
    "    if num==3:\n",
    "        break\n",
    "    else:\n",
    "        print(\"Done\")"
   ]
  },
  {
   "cell_type": "markdown",
   "id": "6f02f926-d919-43a2-9eb8-7577fd27ab62",
   "metadata": {},
   "source": [
    "$Pattern-2$\n",
    "\n",
    "**for loop -if condition**"
   ]
  },
  {
   "cell_type": "code",
   "execution_count": null,
   "id": "f1c1f432-93f8-4cbb-992c-d9e9109519dc",
   "metadata": {},
   "outputs": [],
   "source": [
    "# syntax\n",
    "# [<output>  <for loop>  <if condition>]"
   ]
  },
  {
   "cell_type": "code",
   "execution_count": 3,
   "id": "f964091e-d33e-412c-bbf2-a09adbef5e74",
   "metadata": {},
   "outputs": [
    {
     "data": {
      "text/plain": [
       "['Mumbai', 'Chennai']"
      ]
     },
     "execution_count": 3,
     "metadata": {},
     "output_type": "execute_result"
    }
   ],
   "source": [
    "# l1=['Hyd','Mumbai','Chennai','Blr']\n",
    "# ans=[mumbai','chennai']\n",
    "# we want elements which are len of element >4\n",
    "l1=['Hyd','Mumbai','Chennai','Blr']\n",
    "l2=[i for i in l1 if len(i)>4]\n",
    "l2"
   ]
  },
  {
   "cell_type": "code",
   "execution_count": 5,
   "id": "8daa5d43-068e-4fc4-b4bf-849b598ed31b",
   "metadata": {},
   "outputs": [
    {
     "data": {
      "text/plain": [
       "['Mum#bai', 'Chen#nai']"
      ]
     },
     "execution_count": 5,
     "metadata": {},
     "output_type": "execute_result"
    }
   ],
   "source": [
    "# l1=['Hyd','Mum#bai','Chen#nai','Blr']\n",
    "# ans=[mum#bai','chen#nai']\n",
    "# we want elements which are having '#'\n",
    "l1=['Hyd','Mum#bai','Chen#nai','Blr']\n",
    "l2=[i for i in l1 if '#' in i]\n",
    "l2"
   ]
  },
  {
   "cell_type": "code",
   "execution_count": 16,
   "id": "ae4f2b3b-738e-4934-beaa-36ec090ec95a",
   "metadata": {},
   "outputs": [
    {
     "data": {
      "text/plain": [
       "['Hyd', 'Mumbai']"
      ]
     },
     "execution_count": 16,
     "metadata": {},
     "output_type": "execute_result"
    }
   ],
   "source": [
    "# l1=['Hyd','Mumbai','chennai','blr']\n",
    "# ans=['Hyd','Mumbai']\n",
    "# we want elements which are having capital letters\n",
    "l1=['Hyd','Mumbai','chennai','blr']\n",
    "l2=[i for i in l1 if i[0].istitle()]\n",
    "l2"
   ]
  },
  {
   "cell_type": "code",
   "execution_count": 10,
   "id": "5ef68512-ba83-496d-98ba-454f21e1a7d1",
   "metadata": {},
   "outputs": [
    {
     "data": {
      "text/plain": [
       "['Mum#bai', 'Chen#nai']"
      ]
     },
     "execution_count": 10,
     "metadata": {},
     "output_type": "execute_result"
    }
   ],
   "source": [
    "# l1=['Hyd','Mum#bai','Chen#nai','Blr']\n",
    "# ans_#=['mum#bai','chen#nai']\n",
    "# ans_without_#=['Hyd','Blr']\n",
    "# we want elements which are having '#' and without '#'\n",
    "l1=['Hyd','Mum#bai','Chen#nai','Blr']\n",
    "l2=[i for i in l1 if '#' in i]\n",
    "l2"
   ]
  },
  {
   "cell_type": "code",
   "execution_count": 11,
   "id": "fb1fa8dd-e569-4a01-a6ae-88fd66a575fc",
   "metadata": {},
   "outputs": [
    {
     "data": {
      "text/plain": [
       "['Hyd', 'Blr']"
      ]
     },
     "execution_count": 11,
     "metadata": {},
     "output_type": "execute_result"
    }
   ],
   "source": [
    "# ans_without_#=['Hyd','Blr']\n",
    "l1=['Hyd','Mum#bai','Chen#nai','Blr']\n",
    "l2=[i for i in l1 if '#' not in i]\n",
    "l2"
   ]
  },
  {
   "cell_type": "code",
   "execution_count": 48,
   "id": "a7761651-d66f-4792-b989-a29256068872",
   "metadata": {},
   "outputs": [
    {
     "name": "stdout",
     "output_type": "stream",
     "text": [
      "['virat', ' Rohit', ' KL']\n",
      "['kohli', 'sharma', 'Rahul']\n",
      "['rcb', 'mi', 'lucknow']\n"
     ]
    }
   ],
   "source": [
    "# Q9) str1='virat.kohli@rcb.com, Rohit.sharma@mi.co, KL.Rahul@lucknow.com'\n",
    "# Firstname=[]  second name=[]  cname =[]\n",
    "# append first name should be in first name list\n",
    "#        second name shoul be in second name list\n",
    "#        third name will be in third name list\n",
    "str1='virat.kohli@rcb.com, Rohit.sharma@mi.com, KL.Rahul@lucknow.com'\n",
    "l1=str1.split(',')\n",
    "Firstname=[l1[i][:l1[i].index('.')] for i in range(len(l1))]\n",
    "secondname=[l1[i][l1[i].index('.')+1:l1[i].index('@')] for i in range(len(l1))]\n",
    "cname=[l1[i][l1[i].index('@')+1:l1[i].index('.',(l1[i].index('.')+1))] for i in range(len(l1))]\n",
    "print(Firstname)\n",
    "print(secondname)\n",
    "print(cname)"
   ]
  },
  {
   "cell_type": "markdown",
   "id": "6a7550a3-d97a-491a-9595-6a9a382beef7",
   "metadata": {},
   "source": [
    "$Pattern-3$\n",
    "\n",
    "**for loop if-else condition**"
   ]
  },
  {
   "cell_type": "code",
   "execution_count": null,
   "id": "0a0b508c-06a2-49c7-a75f-4e084586a6d1",
   "metadata": {},
   "outputs": [],
   "source": [
    "[<ifoutput> <if> <else> <elseoutput> <for>]"
   ]
  },
  {
   "cell_type": "markdown",
   "id": "d0f13bf7-7313-43fe-9636-780fc2b0b47c",
   "metadata": {},
   "source": [
    "**Even-Odd**"
   ]
  },
  {
   "cell_type": "code",
   "execution_count": 3,
   "id": "377d8a7f-2af7-45f5-aa54-6c722a3c4fe4",
   "metadata": {},
   "outputs": [
    {
     "data": {
      "text/plain": [
       "['even', 'odd', 'even', 'odd', 'even', 'odd', 'even', 'odd', 'even', 'odd']"
      ]
     },
     "execution_count": 3,
     "metadata": {},
     "output_type": "execute_result"
    }
   ],
   "source": [
    "[\"even\" if i%2==0 else \"odd\" for i in range(10)]"
   ]
  },
  {
   "cell_type": "code",
   "execution_count": null,
   "id": "56a01024-dec0-4a41-aa2b-f104eac41064",
   "metadata": {},
   "outputs": [],
   "source": []
  },
  {
   "cell_type": "code",
   "execution_count": null,
   "id": "cf526542-2931-4e1e-b508-e5341adb2503",
   "metadata": {},
   "outputs": [],
   "source": []
  },
  {
   "cell_type": "code",
   "execution_count": null,
   "id": "390deece-5b4c-4406-b4ff-13f8e68d066b",
   "metadata": {},
   "outputs": [],
   "source": []
  },
  {
   "cell_type": "code",
   "execution_count": null,
   "id": "84483778-8bc4-4f3c-bfc9-be118a073b8d",
   "metadata": {},
   "outputs": [],
   "source": []
  }
 ],
 "metadata": {
  "kernelspec": {
   "display_name": "Python 3 (ipykernel)",
   "language": "python",
   "name": "python3"
  },
  "language_info": {
   "codemirror_mode": {
    "name": "ipython",
    "version": 3
   },
   "file_extension": ".py",
   "mimetype": "text/x-python",
   "name": "python",
   "nbconvert_exporter": "python",
   "pygments_lexer": "ipython3",
   "version": "3.11.7"
  }
 },
 "nbformat": 4,
 "nbformat_minor": 5
}
