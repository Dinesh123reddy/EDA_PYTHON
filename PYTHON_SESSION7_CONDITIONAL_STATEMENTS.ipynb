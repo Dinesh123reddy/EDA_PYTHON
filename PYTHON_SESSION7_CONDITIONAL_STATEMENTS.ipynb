{
 "cells": [
  {
   "cell_type": "markdown",
   "id": "f88ed5f7-f4ab-43f1-a8d1-0d12b87acfc2",
   "metadata": {},
   "source": [
    "**Conditional Statements**"
   ]
  },
  {
   "cell_type": "markdown",
   "id": "16ce7b23-d503-4219-b2c5-10cf4264ae5a",
   "metadata": {},
   "source": [
    "- Conditional statements means we want to run the code lines based on condition\n",
    "- if rain comes i will not go to school otherwise i will go to movie\n",
    "- Rain is there will effect one process\n",
    "- Rain is not there will effect another process\n",
    "- if conditional statement\n",
    "- elif conditional statement\n",
    "- else conditional statement"
   ]
  },
  {
   "cell_type": "markdown",
   "id": "737cca6a-a352-4b0d-b1d3-289e2f6be08b",
   "metadata": {},
   "source": [
    "**if conditional statement**"
   ]
  },
  {
   "cell_type": "code",
   "execution_count": null,
   "id": "e6fbd1a1-c4e3-47f8-ad2d-8509bd241e0b",
   "metadata": {},
   "outputs": [],
   "source": [
    "# Syntax\n",
    "if <condition>:\n",
    "    <codeline1>  \n",
    "    <codeline2>  # After if condition how many code lines are there with indentation then that codelines will belong to if conditional statements"
   ]
  },
  {
   "cell_type": "markdown",
   "id": "5a2cf9bc-0bc8-4f5d-b4b3-4b2d6a3275ef",
   "metadata": {},
   "source": [
    "- whenever any line start with **keyword(green)** at the end of the line we have **colon(:)**\n",
    "- whenever we have a **colon(:)** the next lines starts with some gap\n",
    "- and this gap is called as **indentation**\n",
    "- how many lines we are maintaining gap (indentation) that all are under one area"
   ]
  },
  {
   "cell_type": "markdown",
   "id": "9c5fdb70-f258-4c29-b8ab-6157c97bca95",
   "metadata": {},
   "source": [
    "- if is a conditional statement , it will check the condition True or False\n",
    "- if that condition will True then only it will enter inside the if area\n",
    "- and execute those code lines\n",
    "- if that condition will False, then it will not enter inside the if area\n",
    "- and it will not execute those code lines"
   ]
  },
  {
   "cell_type": "code",
   "execution_count": 6,
   "id": "74e04c16-517a-494d-a73a-eb6d8c297155",
   "metadata": {},
   "outputs": [
    {
     "name": "stdout",
     "output_type": "stream",
     "text": [
      "10 is greater than 1\n"
     ]
    }
   ],
   "source": [
    "if 10>1:\n",
    "    print(\"10 is greater than 1\")    \n",
    "# indentation requires 4 spaces"
   ]
  },
  {
   "cell_type": "markdown",
   "id": "d5ae7ccd-fcc9-4065-ae69-774364ba84ce",
   "metadata": {},
   "source": [
    "**Mistake-1**\n",
    "- Indentation"
   ]
  },
  {
   "cell_type": "code",
   "execution_count": 6,
   "id": "89937154-d8de-4fec-9f5f-9ba54aae1940",
   "metadata": {},
   "outputs": [
    {
     "ename": "IndentationError",
     "evalue": "expected an indented block after 'if' statement on line 1 (2581838736.py, line 2)",
     "output_type": "error",
     "traceback": [
      "\u001b[1;36m  Cell \u001b[1;32mIn[6], line 2\u001b[1;36m\u001b[0m\n\u001b[1;33m    print(\"Hello\")\u001b[0m\n\u001b[1;37m    ^\u001b[0m\n\u001b[1;31mIndentationError\u001b[0m\u001b[1;31m:\u001b[0m expected an indented block after 'if' statement on line 1\n"
     ]
    }
   ],
   "source": [
    "if 10>1 :\n",
    "print(\"Hello\")"
   ]
  },
  {
   "cell_type": "markdown",
   "id": "a7b3b1ad-724a-4e85-97f7-eacf36234a50",
   "metadata": {},
   "source": [
    "**Mistake-2**\n",
    "- Colon(:) missing"
   ]
  },
  {
   "cell_type": "code",
   "execution_count": 7,
   "id": "a078c34b-dd2e-47cc-b185-6922d497d351",
   "metadata": {},
   "outputs": [
    {
     "ename": "SyntaxError",
     "evalue": "expected ':' (22627044.py, line 1)",
     "output_type": "error",
     "traceback": [
      "\u001b[1;36m  Cell \u001b[1;32mIn[7], line 1\u001b[1;36m\u001b[0m\n\u001b[1;33m    if 10>1\u001b[0m\n\u001b[1;37m           ^\u001b[0m\n\u001b[1;31mSyntaxError\u001b[0m\u001b[1;31m:\u001b[0m expected ':'\n"
     ]
    }
   ],
   "source": [
    "if 10>1\n",
    "  print(\"Hello\")"
   ]
  },
  {
   "cell_type": "markdown",
   "id": "9cc68257-aff1-478f-a2c9-f87bd6b323ce",
   "metadata": {},
   "source": [
    "**Mistake-3**\n",
    "- Condition missing"
   ]
  },
  {
   "cell_type": "code",
   "execution_count": 8,
   "id": "f36bd0c2-5fd6-4386-8720-91de05884175",
   "metadata": {},
   "outputs": [
    {
     "ename": "SyntaxError",
     "evalue": "invalid syntax (731047118.py, line 1)",
     "output_type": "error",
     "traceback": [
      "\u001b[1;36m  Cell \u001b[1;32mIn[8], line 1\u001b[1;36m\u001b[0m\n\u001b[1;33m    if:\u001b[0m\n\u001b[1;37m      ^\u001b[0m\n\u001b[1;31mSyntaxError\u001b[0m\u001b[1;31m:\u001b[0m invalid syntax\n"
     ]
    }
   ],
   "source": [
    "if:\n",
    " print(\"Hello\")"
   ]
  },
  {
   "cell_type": "markdown",
   "id": "cf494498-5083-4195-87ad-fa9680b705b7",
   "metadata": {},
   "source": [
    "**Mistake-4**\n",
    "- Missing brackets for the print statement"
   ]
  },
  {
   "cell_type": "code",
   "execution_count": 11,
   "id": "30af8f47-e965-49fe-9c39-d708a3dcca4f",
   "metadata": {},
   "outputs": [
    {
     "ename": "SyntaxError",
     "evalue": "Missing parentheses in call to 'print'. Did you mean print(...)? (4290838861.py, line 2)",
     "output_type": "error",
     "traceback": [
      "\u001b[1;36m  Cell \u001b[1;32mIn[11], line 2\u001b[1;36m\u001b[0m\n\u001b[1;33m    print \"HI\"\u001b[0m\n\u001b[1;37m    ^\u001b[0m\n\u001b[1;31mSyntaxError\u001b[0m\u001b[1;31m:\u001b[0m Missing parentheses in call to 'print'. Did you mean print(...)?\n"
     ]
    }
   ],
   "source": [
    "if 10>1 :\n",
    " print \"HI\""
   ]
  },
  {
   "cell_type": "markdown",
   "id": "819010e8-0cc6-4670-b347-cea1aa3a50db",
   "metadata": {},
   "source": [
    "**Mistake-5**\n",
    "- Never assign a variable to print statement\n",
    "- print we are using for to see the answer"
   ]
  },
  {
   "cell_type": "code",
   "execution_count": 12,
   "id": "d3f60eb5-466c-4855-83ae-d96b847a8fac",
   "metadata": {},
   "outputs": [
    {
     "name": "stdout",
     "output_type": "stream",
     "text": [
      "HI\n"
     ]
    }
   ],
   "source": [
    "if 10>1:\n",
    "    a=print(\"HI\")"
   ]
  },
  {
   "cell_type": "markdown",
   "id": "d5d60556-f9bd-478c-8457-686bc338cb6d",
   "metadata": {},
   "source": [
    "**Mistake-6**\n",
    "- all types of syntax error\n",
    "- spelling mistakes"
   ]
  },
  {
   "cell_type": "code",
   "execution_count": 13,
   "id": "a285829a-47ae-4a60-b0fd-ece7cc91014a",
   "metadata": {},
   "outputs": [
    {
     "ename": "SyntaxError",
     "evalue": "invalid syntax (3648205085.py, line 1)",
     "output_type": "error",
     "traceback": [
      "\u001b[1;36m  Cell \u001b[1;32mIn[13], line 1\u001b[1;36m\u001b[0m\n\u001b[1;33m    if10>1:\u001b[0m\n\u001b[1;37m          ^\u001b[0m\n\u001b[1;31mSyntaxError\u001b[0m\u001b[1;31m:\u001b[0m invalid syntax\n"
     ]
    }
   ],
   "source": [
    "if10>1:\n",
    " print(\"HI\")"
   ]
  },
  {
   "cell_type": "code",
   "execution_count": 14,
   "id": "c2b9d13d-464f-43c2-b2c7-50cfe0816b13",
   "metadata": {},
   "outputs": [
    {
     "name": "stdout",
     "output_type": "stream",
     "text": [
      "HI\n"
     ]
    }
   ],
   "source": [
    "if 10>len('python'):\n",
    "    print(\"HI\")"
   ]
  },
  {
   "cell_type": "code",
   "execution_count": 16,
   "id": "0ad1c75f-7834-4d02-b43e-a162fc7430e2",
   "metadata": {},
   "outputs": [
    {
     "name": "stdout",
     "output_type": "stream",
     "text": [
      "HI\n",
      "HELLO\n"
     ]
    }
   ],
   "source": [
    "if 10>1 :\n",
    "    print(\"HI\")\n",
    "    print(\"HELLO\")"
   ]
  },
  {
   "cell_type": "code",
   "execution_count": 18,
   "id": "54f6df5e-fd4d-4050-8ea0-2b9146e7d2e5",
   "metadata": {},
   "outputs": [
    {
     "name": "stdout",
     "output_type": "stream",
     "text": [
      "HI\n",
      "HELLO\n",
      "GOOD MORNING\n"
     ]
    }
   ],
   "source": [
    "if 10>1 :\n",
    "    print(\"HI\")\n",
    "    print(\"HELLO\")\n",
    "######################################################################################################################3\n",
    "print(\"GOOD MORNING\")\n"
   ]
  },
  {
   "cell_type": "code",
   "execution_count": 19,
   "id": "c2fedef0-f5d1-4554-a46a-797b5d8ca202",
   "metadata": {},
   "outputs": [
    {
     "name": "stdout",
     "output_type": "stream",
     "text": [
      "10\n",
      "20\n",
      "HI\n",
      "HELLO\n",
      "GOOD MORNING\n",
      "VERY GOOD MORNING\n"
     ]
    }
   ],
   "source": [
    "print(10)\n",
    "print(20)\n",
    "#####################################################################################################################\n",
    "if 10>1 :\n",
    "    print(\"HI\")\n",
    "    print(\"HELLO\")\n",
    "######################################################################################################################\n",
    "print(\"GOOD MORNING\")\n",
    "print(\"VERY GOOD MORNING\")"
   ]
  },
  {
   "cell_type": "code",
   "execution_count": 23,
   "id": "887e9785-0b13-4fb4-998a-9388a16b601e",
   "metadata": {},
   "outputs": [
    {
     "name": "stdout",
     "output_type": "stream",
     "text": [
      "10\n",
      "20\n",
      "HI\n",
      "HELLO\n",
      "GOOD MORNING\n",
      "VERY GOOD MORNING\n"
     ]
    }
   ],
   "source": [
    "print(10)\n",
    "print(20)\n",
    "if True :\n",
    "    print(\"HI\")\n",
    "    print(\"HELLO\")\n",
    "print(\"GOOD MORNING\")\n",
    "print(\"VERY GOOD MORNING\")"
   ]
  },
  {
   "cell_type": "markdown",
   "id": "e826f5cb-da91-474a-be49-e89563f37d61",
   "metadata": {},
   "source": [
    "**if-else**"
   ]
  },
  {
   "cell_type": "markdown",
   "id": "63aa2e72-ff05-4c1e-bce1-653ed75852c2",
   "metadata": {},
   "source": [
    "- if required condition\n",
    "- if that condition is True , then it will execute if block\n",
    "- otherwise it can directly go to else block\n",
    "- so else block does not require any condition"
   ]
  },
  {
   "cell_type": "code",
   "execution_count": null,
   "id": "997313b1-1a1c-47e7-ba23-e7d5d1937c32",
   "metadata": {},
   "outputs": [],
   "source": [
    "# Syntax \n",
    "if <condition> :\n",
    "    <codeline1>\n",
    "else:\n",
    "    <codeline>"
   ]
  },
  {
   "cell_type": "code",
   "execution_count": 24,
   "id": "c7fabafc-404e-45a8-93a9-556e07916e6e",
   "metadata": {},
   "outputs": [
    {
     "name": "stdout",
     "output_type": "stream",
     "text": [
      "HELLO\n"
     ]
    }
   ],
   "source": [
    "if 0 :\n",
    "    print(\"Hi\")\n",
    "else:\n",
    "    print(\"HELLO\")"
   ]
  },
  {
   "cell_type": "code",
   "execution_count": 25,
   "id": "2d304796-c962-428f-8247-0b99b49c3a33",
   "metadata": {},
   "outputs": [
    {
     "name": "stdout",
     "output_type": "stream",
     "text": [
      "10\n",
      "20\n",
      "HI\n",
      "GOOD MORNING\n",
      "VERY GOOD MORNING\n"
     ]
    }
   ],
   "source": [
    "print(10)\n",
    "print(20)\n",
    "if True :\n",
    "    print(\"HI\")\n",
    "else:\n",
    "    print(\"HELLO\")\n",
    "print(\"GOOD MORNING\")\n",
    "print(\"VERY GOOD MORNING\")"
   ]
  },
  {
   "cell_type": "code",
   "execution_count": 27,
   "id": "065543d0-1368-4a4d-84e7-e6e5059385d0",
   "metadata": {},
   "outputs": [
    {
     "name": "stdout",
     "output_type": "stream",
     "text": [
      "0.5\n",
      "0\n",
      "1\n"
     ]
    }
   ],
   "source": [
    "print(1/2) # Normal division\n",
    "print(1//2) # Floor division\n",
    "print(1%2) # Modulas operator"
   ]
  },
  {
   "cell_type": "code",
   "execution_count": 43,
   "id": "3aec46be-28fe-4fb5-8e4f-0e19be8788b9",
   "metadata": {},
   "outputs": [
    {
     "name": "stdin",
     "output_type": "stream",
     "text": [
      "Enter the number:  6\n"
     ]
    },
    {
     "name": "stdout",
     "output_type": "stream",
     "text": [
      "Even number\n"
     ]
    }
   ],
   "source": [
    "# Write a program ask the user enter a number \n",
    "# Find it is a even number or odd number\n",
    "a=eval(input(\"Enter the number: \"))\n",
    "if (a%2==0):\n",
    "    print(\"Even number\")\n",
    "else:\n",
    "    print(\"Odd number\")"
   ]
  },
  {
   "cell_type": "code",
   "execution_count": 3,
   "id": "9c6fb4d2-1877-4e19-85ae-bedc6e531982",
   "metadata": {},
   "outputs": [
    {
     "name": "stdout",
     "output_type": "stream",
     "text": [
      "54\n",
      "Even number\n"
     ]
    }
   ],
   "source": [
    "# Write a program ask the user enter a number \n",
    "# Find it is a even number or odd number\n",
    "import random\n",
    "a=random.randint(1,100)\n",
    "print(a)\n",
    "if (a%2==0):\n",
    "    print(\"Even number\")\n",
    "else:\n",
    "    print(\"Odd number\")"
   ]
  },
  {
   "cell_type": "code",
   "execution_count": 4,
   "id": "2a9b2133-3c1c-4d44-8ed0-5f071d42886a",
   "metadata": {},
   "outputs": [
    {
     "name": "stdin",
     "output_type": "stream",
     "text": [
      "Enter the start value:  10\n",
      "Enter the end value:  20\n"
     ]
    },
    {
     "name": "stdout",
     "output_type": "stream",
     "text": [
      "18\n",
      "Even number\n"
     ]
    }
   ],
   "source": [
    "# Write a program ask the user enter a number \n",
    "# Find it is a even number or odd number\n",
    "import random\n",
    "start=eval(input(\"Enter the start value: \"))\n",
    "end=eval(input(\"Enter the end value: \"))\n",
    "a=random.randint(start,end)\n",
    "print(a)\n",
    "if (a%2==0):\n",
    "    print(\"Even number\")\n",
    "else:\n",
    "    print(\"Odd number\")"
   ]
  },
  {
   "cell_type": "code",
   "execution_count": 10,
   "id": "336f1fc8-baf2-4d5f-9ccf-827df4ca3730",
   "metadata": {},
   "outputs": [
    {
     "name": "stdin",
     "output_type": "stream",
     "text": [
      "Enter the distance covered:  30\n"
     ]
    },
    {
     "name": "stdout",
     "output_type": "stream",
     "text": [
      "The charge for the distance 30 is 3000\n"
     ]
    }
   ],
   "source": [
    "# wap ask the user enter the distance, if distance greater than 25km then enter charge and print the total cost,otherwise print free ride\n",
    "distance=eval(input(\"Enter the distance covered: \"))\n",
    "charge_extra_km=100\n",
    "a=distance*charge_extra_km\n",
    "if distance>25:\n",
    "    print(f\"The charge for the distance {distance} is {a}\")\n",
    "else:\n",
    "    print(f\"Free ride\")"
   ]
  },
  {
   "cell_type": "code",
   "execution_count": 20,
   "id": "d0e84cb3-5fbe-48e1-a3ff-d9655545729e",
   "metadata": {},
   "outputs": [
    {
     "name": "stdin",
     "output_type": "stream",
     "text": [
      "Enter the distance covered:  100\n",
      "Enter the cutoff distance:  25\n"
     ]
    },
    {
     "name": "stdout",
     "output_type": "stream",
     "text": [
      "The chargeble distance is 75\n"
     ]
    },
    {
     "name": "stdin",
     "output_type": "stream",
     "text": [
      "Enter the charge:  10\n"
     ]
    },
    {
     "name": "stdout",
     "output_type": "stream",
     "text": [
      "The total cost is 750\n"
     ]
    }
   ],
   "source": [
    "# wap ask the user enter the distance\n",
    "# cutoff distance enter 25\n",
    "# if distance greater than 25km\n",
    "# print(\"good news your charge is aplicable for only remaining of 25\")\n",
    "# chargeble distance= distance-cutoff\n",
    "# then enter the charge\n",
    "# print the total cost\n",
    "# otherwise\n",
    "# print free ride\n",
    "distance=eval(input(\"Enter the distance covered: \"))\n",
    "cutoff_distance=eval(input(\"Enter the cutoff distance: \"))\n",
    "if (distance>cutoff_distance):\n",
    "    chargeble_distance=distance-cutoff_distance\n",
    "    print(f\"The chargeble distance is {chargeble_distance}\")\n",
    "    charge=eval(input(\"Enter the charge: \"))\n",
    "    cost=chargeble_distance*charge\n",
    "    print(f\"The total cost is {cost}\")\n",
    "else:\n",
    "    print(f\"Free ride\")"
   ]
  },
  {
   "cell_type": "code",
   "execution_count": 19,
   "id": "05b4a661-1998-436a-b1bf-757dc06cf355",
   "metadata": {},
   "outputs": [
    {
     "name": "stdin",
     "output_type": "stream",
     "text": [
      "Enter the course:  data science\n",
      "Enter the institute:  naresh\n"
     ]
    },
    {
     "name": "stdout",
     "output_type": "stream",
     "text": [
      "You are bad\n"
     ]
    }
   ],
   "source": [
    "# wap ask the user enter the course\n",
    "# ask the user enter the institute\n",
    "# if the course equal to data science and institute equal to naresh it\n",
    "# then you are good\n",
    "# otherwise you are bad\n",
    "c1=input(\"Enter the course: \")\n",
    "i1=input(\"Enter the institute: \")\n",
    "if c1=='data science' and i1=='naresh it':\n",
    "    print(f\"You are good\")\n",
    "else:\n",
    "    print(f\"You are bad\")"
   ]
  },
  {
   "cell_type": "code",
   "execution_count": 27,
   "id": "5a72fec0-d2d3-4b57-a44d-030dd068acb8",
   "metadata": {},
   "outputs": [
    {
     "name": "stdin",
     "output_type": "stream",
     "text": [
      "Enter the number:  9\n"
     ]
    },
    {
     "name": "stdout",
     "output_type": "stream",
     "text": [
      "You won\n"
     ]
    }
   ],
   "source": [
    "# wap ask the user enter a random number between 1 to 100---> number1\n",
    "# ask the user enter another number from keyboard--->number2\n",
    "# if number1 equal to number2 then print you won\n",
    "# otherwise print you lose\n",
    "import random\n",
    "num1=random.randint(1,10)\n",
    "num2=eval(input(\"Enter the number: \"))\n",
    "if num1==num2:\n",
    "    print(f\"You won\")\n",
    "else:\n",
    "    print(f\"You lose\")"
   ]
  },
  {
   "cell_type": "markdown",
   "id": "46331594-a39e-4cce-9b1d-f4428e837f1f",
   "metadata": {},
   "source": [
    "- Till now we have seen one condition problem]\n",
    "- which means if that condition is True will get one answer\n",
    "- if that condition False then will get another answer\n",
    "- How about if we have more than 2 conditions\n",
    "- if-elif-else\n",
    "- 2 conditions means 3 results\n",
    "- if has condition\n",
    "- elif has second condition\n",
    "- if both are False then result is else"
   ]
  },
  {
   "cell_type": "code",
   "execution_count": null,
   "id": "a2352ef4-658d-48aa-a614-f9a5b6a4a611",
   "metadata": {},
   "outputs": [],
   "source": [
    "# syntax\n",
    "if <condition>:\n",
    "    <statements>\n",
    "elif <condition>:\n",
    "    <statements>\n",
    "else:\n",
    "    <statement>"
   ]
  },
  {
   "cell_type": "code",
   "execution_count": 29,
   "id": "228ee194-ce99-4bec-b7ea-30effb53c2ea",
   "metadata": {},
   "outputs": [
    {
     "name": "stdin",
     "output_type": "stream",
     "text": [
      "Enter the number:  3\n"
     ]
    },
    {
     "name": "stdout",
     "output_type": "stream",
     "text": [
      "three\n"
     ]
    }
   ],
   "source": [
    "# wap ask the user enter the number \n",
    "#if number equal to 1 then print one \n",
    "# if number equal to 2 print two\n",
    "# if number equal to 3 print three\n",
    "# otherwise print enter a valid number\n",
    "number=eval(input(\"Enter the number: \"))\n",
    "if number==1:\n",
    "    print(\"one\")\n",
    "elif number==2:\n",
    "    print(\"two\")\n",
    "elif number==3:\n",
    "    print(\"three\")\n",
    "else:\n",
    "    print(\"print a valid number\")"
   ]
  },
  {
   "cell_type": "code",
   "execution_count": 31,
   "id": "ac1e190f-70e1-4899-b184-cb74d1ea3fc6",
   "metadata": {},
   "outputs": [
    {
     "name": "stdin",
     "output_type": "stream",
     "text": [
      "Enter the number:  3\n"
     ]
    },
    {
     "name": "stdout",
     "output_type": "stream",
     "text": [
      "three\n"
     ]
    }
   ],
   "source": [
    "# wap ask the user enter the number \n",
    "#if number equal to 1 then print one \n",
    "# if number equal to 2 print two\n",
    "# if number equal to 3 print three\n",
    "# otherwise print enter a valid number\n",
    "number=eval(input(\"Enter the number: \"))\n",
    "if number==1:print(\"one\")\n",
    "elif number==2:print(\"two\")\n",
    "elif number==3:print(\"three\")\n",
    "else:print(\"print a valid number\")"
   ]
  },
  {
   "cell_type": "code",
   "execution_count": 38,
   "id": "79f36ad7-207c-4c64-b150-e6bf75ca4388",
   "metadata": {},
   "outputs": [
    {
     "name": "stdin",
     "output_type": "stream",
     "text": [
      "Enter the number:  -5\n"
     ]
    },
    {
     "name": "stdout",
     "output_type": "stream",
     "text": [
      "negative\n"
     ]
    }
   ],
   "source": [
    "# wap ask the user enter a number \n",
    "# if that number greater than 0 print positive\n",
    "# if that number less than 0 print negative\n",
    "# otherwise print 0\n",
    "number=eval(input(\"Enter the number: \"))\n",
    "if number>0:\n",
    "    print(\"positive\")\n",
    "elif number<0:\n",
    "    print(\"negative\")\n",
    "else :\n",
    "    print(\"Zero\")"
   ]
  },
  {
   "cell_type": "code",
   "execution_count": 47,
   "id": "b2e55782-4a9d-4016-8b70-895ffdb6e3c3",
   "metadata": {},
   "outputs": [
    {
     "name": "stdin",
     "output_type": "stream",
     "text": [
      "Enter the percentage:  92\n"
     ]
    },
    {
     "name": "stdout",
     "output_type": "stream",
     "text": [
      "A grade\n"
     ]
    }
   ],
   "source": [
    "# wap ask the user enter the percentage of marks\n",
    "# if percentage greater than 90 print A grade\n",
    "# if percentage between 75 to 90 print B grade\n",
    "# if percentage between 50 to 75 print C grade\n",
    "# if percentage between 35 to 50 print D grade\n",
    "# if percentage less than 35 print Fail\n",
    "percentage=eval(input(\"Enter the percentage: \"))\n",
    "if percentage>90:\n",
    "    print(\"A grade\")\n",
    "elif percentage>=75:\n",
    "    print(\"B grade\")\n",
    "elif percentage>=50 :\n",
    "    print(\"C grade\")\n",
    "elif percentage>=35:\n",
    "    print(\"D grade\")\n",
    "else:\n",
    "    print(\"Fail\")"
   ]
  },
  {
   "cell_type": "code",
   "execution_count": 2,
   "id": "0041432a-c509-47c3-99e4-276ddca2f5cc",
   "metadata": {},
   "outputs": [
    {
     "name": "stdin",
     "output_type": "stream",
     "text": [
      "Enter the age:  23\n"
     ]
    },
    {
     "name": "stdout",
     "output_type": "stream",
     "text": [
      "young man\n"
     ]
    }
   ],
   "source": [
    "# wap ask the user enter the age\n",
    "# if age greater than 100 print lucky\n",
    "# if age greater 75 print old age\n",
    "# if age between 50 to 75 print SS\n",
    "# if age between 30 to 50 print MA\n",
    "# if age between 15 to 15 print young age\n",
    "# if age less than 15 print kid\n",
    "age=eval(input(\"Enter the age: \"))\n",
    "if age>100:\n",
    "    print(\"lucky\")\n",
    "elif age>=75:\n",
    "    print(\"old age\")\n",
    "elif age>=50 :\n",
    "    print(\"SS\")\n",
    "elif age>=30:\n",
    "    print(\"MA\")\n",
    "elif age>=15:\n",
    "    print(\"young man\")\n",
    "else:\n",
    "    print(\"kid\")"
   ]
  },
  {
   "cell_type": "code",
   "execution_count": 5,
   "id": "00160130-2bcd-4613-925f-b73307f47d99",
   "metadata": {},
   "outputs": [
    {
     "name": "stdin",
     "output_type": "stream",
     "text": [
      "Enter the 1st value:  10\n",
      "Enter the 2nd value:  20\n"
     ]
    },
    {
     "name": "stdout",
     "output_type": "stream",
     "text": [
      "Enter operation 1 for addition\n",
      "Enter operation 2 for subtraction\n",
      "Enter operation 3 for multiplication\n",
      "Enter operation 4 for division\n"
     ]
    },
    {
     "name": "stdin",
     "output_type": "stream",
     "text": [
      "Enter the operation value:  3\n"
     ]
    },
    {
     "name": "stdout",
     "output_type": "stream",
     "text": [
      "Multiplication of 10 and 20 is 200\n"
     ]
    }
   ],
   "source": [
    "# wap ask the user enter 2 numbers\n",
    "# number1, number2\n",
    "# you need to print\n",
    "# enter operation 1 for addition\n",
    "# enter operation 2 for sub\n",
    "# enter operation 3 for mul\n",
    "# enter operation 4 for div\n",
    "# enter operation between 1 to 4\n",
    "# if operation equal to 1 then do add\n",
    "# if operation equal to 2 then do sub\n",
    "# if operation equal to 3 then do mul\n",
    "# if operation equal to 4 then do div\n",
    "# otherwise print enter a valid number\n",
    "num1=eval(input(\"Enter the 1st value: \"))\n",
    "num2=eval(input(\"Enter the 2nd value: \"))\n",
    "print(\"Enter operation 1 for addition\")\n",
    "print(\"Enter operation 2 for subtraction\")\n",
    "print(\"Enter operation 3 for multiplication\")\n",
    "print(\"Enter operation 4 for division\")\n",
    "operation=eval(input(\"Enter the operation value: \"))\n",
    "add=num1+num2\n",
    "sub=num1-num2\n",
    "mul=num1*num2\n",
    "div=round(num1/num2)\n",
    "if operation==1 :\n",
    "    print(f\"Addition of {num1} and {num2} is {add}\")\n",
    "elif operation==2 :\n",
    "    print(f\"Subtraction of {num1} and {num2} is {sub}\")\n",
    "elif operation==3 :\n",
    "    print(f\"Multiplication of {num1} and {num2} is {mul}\")\n",
    "elif operation==4 :\n",
    "    print(f\"Division of {num1} and {num2} is {div}\")\n",
    "else:\n",
    "    print(\"Enter a valid number\")"
   ]
  },
  {
   "cell_type": "code",
   "execution_count": 12,
   "id": "1d4c941e-2970-4360-a1bf-f3bc1b189690",
   "metadata": {},
   "outputs": [
    {
     "name": "stdin",
     "output_type": "stream",
     "text": [
      "Enter the gender:  male\n",
      "Enter the age:  22\n"
     ]
    },
    {
     "name": "stdout",
     "output_type": "stream",
     "text": [
      "Young man\n"
     ]
    }
   ],
   "source": [
    "# wap ask the user enter a gender\n",
    "# if gender equal to male\n",
    "#    ask the user enter age\n",
    "#    if age is greater than 60 print Senior citizen\n",
    "#    if age is between 30 and 60 print maman\n",
    "#    if age is between 15 and 30 print young boy\n",
    "#    otherwise print boy\n",
    "# elif gender equal to female\n",
    "#    ask the user enter age\n",
    "#    if age is greater than 60 print Senior citizen\n",
    "#    if age is between 30 and 60 print mawoman\n",
    "#    if age is between 15 and 30 print young girl\n",
    "#    otherwise print girl\n",
    "# otherwise:\n",
    "#    print enter a valid gender\n",
    "gender=input(\"Enter the gender: \")\n",
    "if gender=='male':\n",
    "    age=eval(input(\"Enter the age: \"))\n",
    "    if age>60:\n",
    "        print(\"Senior citizen\")\n",
    "    elif age>30:\n",
    "        print(\"maman\")\n",
    "    elif age>15:\n",
    "        print(\"Young man\")\n",
    "    else:\n",
    "        print(\"boy\")\n",
    "elif gender=='female':\n",
    "    age=eval(input(\"Enter the age: \"))\n",
    "    if age>60:\n",
    "        print(\"Senior citizen\")\n",
    "    elif age>30:\n",
    "        print(\"mawoman\")\n",
    "    elif age>15:\n",
    "        print(\"Young Girl\")\n",
    "    else:\n",
    "        print(\"Girl\")\n",
    "else:\n",
    "    print(\"Enter a valid gender\")"
   ]
  },
  {
   "cell_type": "code",
   "execution_count": 19,
   "id": "30aa43b8-f878-4412-a2c9-3c13cd2d63d2",
   "metadata": {},
   "outputs": [
    {
     "name": "stdin",
     "output_type": "stream",
     "text": [
      "Enter a number:  10\n"
     ]
    },
    {
     "name": "stdout",
     "output_type": "stream",
     "text": [
      "Positive\n"
     ]
    }
   ],
   "source": [
    "# wap ask the user to enter a number\n",
    "# if that number is greater than or equal to zero\n",
    "#    if number equal to zero \n",
    "#          print zero\n",
    "#   else\n",
    "#          print positive\n",
    "# else\n",
    "# print negative\n",
    "n1=eval(input(\"Enter a number: \"))\n",
    "if n1>=0:\n",
    "    if n1==0:\n",
    "       print(\"Zero\")\n",
    "    else:\n",
    "       print(\"Positive\")\n",
    "else:\n",
    "   print(\"Negative\")"
   ]
  },
  {
   "cell_type": "code",
   "execution_count": 23,
   "id": "c6a69ebf-b0a4-4b9e-9264-85759605cb16",
   "metadata": {},
   "outputs": [
    {
     "name": "stdout",
     "output_type": "stream",
     "text": [
      "Enter three different numbers\n"
     ]
    },
    {
     "name": "stdin",
     "output_type": "stream",
     "text": [
      "Enter the number 1:  5\n",
      "Enter the number 2:  4\n",
      "Enter the number 3:  3\n"
     ]
    },
    {
     "name": "stdout",
     "output_type": "stream",
     "text": [
      "Number 1 is greater\n"
     ]
    }
   ],
   "source": [
    "# take 3 numbers\n",
    "# find maximum value\n",
    "print(\"Enter three different numbers\")\n",
    "num1=eval(input(\"Enter the number 1: \"))\n",
    "num2=eval(input(\"Enter the number 2: \"))\n",
    "num3=eval(input(\"Enter the number 3: \"))\n",
    "if (num1>num2 and num1>num3):\n",
    "    print(\"Number 1 is greater\")\n",
    "elif (num2>num3):\n",
    "    print(\"Number 2 is greater\")\n",
    "else:\n",
    "    print(\"Number 3 is greater\")"
   ]
  }
 ],
 "metadata": {
  "kernelspec": {
   "display_name": "Python 3 (ipykernel)",
   "language": "python",
   "name": "python3"
  },
  "language_info": {
   "codemirror_mode": {
    "name": "ipython",
    "version": 3
   },
   "file_extension": ".py",
   "mimetype": "text/x-python",
   "name": "python",
   "nbconvert_exporter": "python",
   "pygments_lexer": "ipython3",
   "version": "3.11.7"
  }
 },
 "nbformat": 4,
 "nbformat_minor": 5
}
