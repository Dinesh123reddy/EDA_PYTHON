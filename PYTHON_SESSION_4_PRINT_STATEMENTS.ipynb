{
 "cells": [
  {
   "cell_type": "markdown",
   "id": "84a7ab36-67c7-404f-a9d0-ac582dbbf3c8",
   "metadata": {},
   "source": [
    "**PRINT STATEMENT**"
   ]
  },
  {
   "cell_type": "code",
   "execution_count": 1,
   "id": "8d0ebe63-ea38-4416-89a4-b4e526195c03",
   "metadata": {},
   "outputs": [
    {
     "name": "stdout",
     "output_type": "stream",
     "text": [
      "10\n"
     ]
    }
   ],
   "source": [
    "print(10)"
   ]
  },
  {
   "cell_type": "code",
   "execution_count": 2,
   "id": "bd8c74c6-7f2e-4c25-bbbe-f10bc373eea2",
   "metadata": {},
   "outputs": [
    {
     "name": "stdout",
     "output_type": "stream",
     "text": [
      "dad\n"
     ]
    }
   ],
   "source": [
    "print('dad')"
   ]
  },
  {
   "cell_type": "code",
   "execution_count": 3,
   "id": "3c03d985-12d8-4dde-abae-d9a0205d5e92",
   "metadata": {},
   "outputs": [
    {
     "name": "stdout",
     "output_type": "stream",
     "text": [
      "1.2\n"
     ]
    }
   ],
   "source": [
    "print(1.2)"
   ]
  },
  {
   "cell_type": "code",
   "execution_count": 4,
   "id": "d28c2982-9991-4432-a1f5-6bd67a352605",
   "metadata": {},
   "outputs": [
    {
     "name": "stdout",
     "output_type": "stream",
     "text": [
      "True\n"
     ]
    }
   ],
   "source": [
    "print(True)"
   ]
  },
  {
   "cell_type": "code",
   "execution_count": 5,
   "id": "8e975e8c-4360-459b-b7e1-e6fc5d08d90d",
   "metadata": {},
   "outputs": [
    {
     "name": "stdout",
     "output_type": "stream",
     "text": [
      "10 1.2 Dad True\n"
     ]
    }
   ],
   "source": [
    "print(10,1.2,'Dad',True)"
   ]
  },
  {
   "cell_type": "code",
   "execution_count": 6,
   "id": "6f320023-ad88-4982-ac3c-66616c75758e",
   "metadata": {},
   "outputs": [
    {
     "name": "stdout",
     "output_type": "stream",
     "text": [
      "1 2\n"
     ]
    }
   ],
   "source": [
    "n1=1\n",
    "n2=2\n",
    "print(n1,n2)"
   ]
  },
  {
   "cell_type": "code",
   "execution_count": 9,
   "id": "f549ae73-87c6-442f-9637-9eb1e39ebae7",
   "metadata": {},
   "outputs": [
    {
     "name": "stdout",
     "output_type": "stream",
     "text": [
      "10\n",
      "20\n"
     ]
    },
    {
     "data": {
      "text/plain": [
       "(None, None)"
      ]
     },
     "execution_count": 9,
     "metadata": {},
     "output_type": "execute_result"
    }
   ],
   "source": [
    "print(10),print(20) # None,None means no value"
   ]
  },
  {
   "cell_type": "code",
   "execution_count": 8,
   "id": "23a892e4-6d78-468b-b163-3bae639210f8",
   "metadata": {},
   "outputs": [
    {
     "name": "stdout",
     "output_type": "stream",
     "text": [
      "1 2 3\n",
      "4\n",
      "5\n"
     ]
    }
   ],
   "source": [
    "print(1,2,3)\n",
    "print(4)\n",
    "print(5)"
   ]
  },
  {
   "cell_type": "code",
   "execution_count": 17,
   "id": "3182b3e0-1cca-4986-a54a-4cdf4e01d66b",
   "metadata": {},
   "outputs": [
    {
     "name": "stdout",
     "output_type": "stream",
     "text": [
      "The addition of 10 and 20 is 30\n",
      "The addition of 15 and 25 is  40\n"
     ]
    }
   ],
   "source": [
    "n1=15\n",
    "n2=25\n",
    "n3=n1+n2\n",
    "# The addition of 10 and 20 is 30\n",
    "print(\"The addition of 10 and 20 is 30\")\n",
    "print(\"The addition of\", n1, \"and\", n2, \"is \",n3)"
   ]
  },
  {
   "cell_type": "markdown",
   "id": "8fa06e35-ae36-4870-83da-0f47338e5786",
   "metadata": {},
   "source": [
    "**Format Method**"
   ]
  },
  {
   "cell_type": "code",
   "execution_count": 18,
   "id": "3231436a-863b-4dcb-9fd4-b68f25f501c7",
   "metadata": {},
   "outputs": [
    {
     "name": "stdout",
     "output_type": "stream",
     "text": [
      "The addition of 1 and 2 is 3\n"
     ]
    }
   ],
   "source": [
    "a=1\n",
    "b=2\n",
    "c=a+b\n",
    "print(\"The addition of {} and {} is {}\".format(a,b,c))"
   ]
  },
  {
   "cell_type": "code",
   "execution_count": 31,
   "id": "4c2daa39-db13-4412-92fa-d6b799edcd48",
   "metadata": {},
   "outputs": [
    {
     "name": "stdout",
     "output_type": "stream",
     "text": [
      "My name is python, Iam am 10 years old and Im from Hyderabad\n"
     ]
    }
   ],
   "source": [
    "a='python'\n",
    "b=10 \n",
    "c='Hyderabad'\n",
    "print(\"My name is {}, Iam am {} years old and Im from {}\".format(a,b,c))"
   ]
  },
  {
   "cell_type": "code",
   "execution_count": 33,
   "id": "5e536125-c4ef-4171-9b87-d9b1b0c4d41d",
   "metadata": {},
   "outputs": [
    {
     "name": "stdout",
     "output_type": "stream",
     "text": [
      "My name is Dinesh, Iam working in this Data Scientist role since 10 years in Cognizant company\n"
     ]
    }
   ],
   "source": [
    "a='Dinesh'\n",
    "b='Data Scientist'\n",
    "c='Cognizant'\n",
    "d=10\n",
    "print(\"My name is {}, Iam working in this {} role since {} years in {} company\".format(a,b,d,c))"
   ]
  },
  {
   "cell_type": "code",
   "execution_count": 35,
   "id": "10296d68-8246-4b3b-a19e-cb17ffddb828",
   "metadata": {},
   "outputs": [
    {
     "name": "stdout",
     "output_type": "stream",
     "text": [
      "The addition of {a} and {b} is {c}\n"
     ]
    }
   ],
   "source": [
    "a=10\n",
    "b=20\n",
    "c=a+b\n",
    "print(\"The addition of {a} and {b} is {c}\")"
   ]
  },
  {
   "cell_type": "markdown",
   "id": "4d8d45d4-ce88-4fa4-9a5f-a449c4b89dc4",
   "metadata": {},
   "source": [
    "**F-String**\n",
    "- It is used to direct insert of the input values in the print statement\n",
    "- It is represented as print(f\"___ {} __ {}\")\n",
    "- Some of the examples are given below"
   ]
  },
  {
   "cell_type": "code",
   "execution_count": 39,
   "id": "be990eae-c541-4803-82f0-55b18ed85d3e",
   "metadata": {},
   "outputs": [
    {
     "name": "stdout",
     "output_type": "stream",
     "text": [
      "The addition of 10 and 20 is 30\n"
     ]
    }
   ],
   "source": [
    "a=10\n",
    "b=20\n",
    "c=a+b\n",
    "print(f\"The addition of {a} and {b} is {c}\")"
   ]
  },
  {
   "cell_type": "code",
   "execution_count": 37,
   "id": "e3d108ff-9831-4871-b396-b8b45a2f561d",
   "metadata": {},
   "outputs": [
    {
     "name": "stdout",
     "output_type": "stream",
     "text": [
      "My name is python, Iam am 10 years old and Im from Hyderabad\n"
     ]
    }
   ],
   "source": [
    "a='python'\n",
    "b=10 \n",
    "c='Hyderabad'\n",
    "print(f\"My name is {a}, Iam am {b} years old and Im from {c}\")"
   ]
  },
  {
   "cell_type": "code",
   "execution_count": 38,
   "id": "842661e0-678c-4c66-b41d-83fa484cf60f",
   "metadata": {},
   "outputs": [
    {
     "name": "stdout",
     "output_type": "stream",
     "text": [
      "My name is Dinesh, Iam working in this Data Scientist role since 10 years in Cognizant company\n"
     ]
    }
   ],
   "source": [
    "a='Dinesh'\n",
    "b='Data Scientist'\n",
    "c='Cognizant'\n",
    "d=10\n",
    "print(f\"My name is {a}, Iam working in this {b} role since {d} years in {c} company\")"
   ]
  },
  {
   "cell_type": "code",
   "execution_count": 7,
   "id": "4c7ff527-2267-45ce-beaa-ed7c0b768cd6",
   "metadata": {},
   "outputs": [
    {
     "name": "stdout",
     "output_type": "stream",
     "text": [
      "The average of 100 and 200 is: 150\n"
     ]
    }
   ],
   "source": [
    "n1=100\n",
    "n2=200\n",
    "average=(n1+n2)/2\n",
    "n3=int(average)\n",
    "print(\"The average of {} and {} is: {}\".format(n1,n2,n3)) # Format method"
   ]
  },
  {
   "cell_type": "code",
   "execution_count": 12,
   "id": "f5fe22b2-2e9c-4c09-bccf-999e11970ba6",
   "metadata": {},
   "outputs": [
    {
     "name": "stdout",
     "output_type": "stream",
     "text": [
      "The average of 100 and 200 is: 150\n"
     ]
    }
   ],
   "source": [
    "n1=100\n",
    "n2=200\n",
    "average=(n1+n2)/2\n",
    "n3=int(average)\n",
    "print(f\"The average of {n1} and {n2} is: {n3}\") # F string method\n"
   ]
  },
  {
   "cell_type": "code",
   "execution_count": 40,
   "id": "3ada7d09-b66e-4939-950d-c02e3fcdaad8",
   "metadata": {},
   "outputs": [
    {
     "name": "stdout",
     "output_type": "stream",
     "text": [
      "The area of circle with radius 5 is 78.5\n",
      "The area of circle with radius 5 is 78.5\n"
     ]
    }
   ],
   "source": [
    "# Take the radius of circle \n",
    "# Take the pie value=3.14\n",
    "# Find the area of circle=(pie)r^2\n",
    "Radius=5\n",
    "pie=3.14\n",
    "Area_of_circle = pie*Radius*Radius\n",
    "print(\"The area of circle with radius {} is {}\".format(Radius,Area_of_circle))\n",
    "print(f\"The area of circle with radius {Radius} is {Area_of_circle}\")"
   ]
  },
  {
   "cell_type": "code",
   "execution_count": 15,
   "id": "f0375165-a4d2-48a2-873e-78c453f8f3a4",
   "metadata": {},
   "outputs": [
    {
     "name": "stdout",
     "output_type": "stream",
     "text": [
      "The area of triangle with base 5 is 25.0\n",
      "The area of triangle with radius 5 is 25.0\n"
     ]
    }
   ],
   "source": [
    "# Take the breadth of triangle\n",
    "# Take the height of triangle\n",
    "# Find area of triangle = 1/2*base*height\n",
    "base=5\n",
    "height=10\n",
    "Area= 1/2*base*height\n",
    "print(\"The area of triangle with base {} is {}\".format(base,Area))\n",
    "print(f\"The area of triangle with radius {base} is {Area}\")"
   ]
  },
  {
   "cell_type": "code",
   "execution_count": 24,
   "id": "b21da311-f3d5-45e3-bb03-f8fc9d464b6e",
   "metadata": {},
   "outputs": [
    {
     "name": "stdout",
     "output_type": "stream",
     "text": [
      "The total bill amount with tip percentage is 1100.0\n",
      "The total tip amount is 100.0\n"
     ]
    }
   ],
   "source": [
    "# Bill amount\n",
    "# Take tip percentage\n",
    "# Calculate the tip amount\n",
    "# calculate tip_amount\n",
    "# print the total bill\n",
    "bill_amount=1000\n",
    "tip_percentage=10\n",
    "total_bill=bill_amount+tip_amount\n",
    "tip_amount=(bill_amount*tip_percentage)/100\n",
    "print(f\"The total bill amount with tip percentage is {total_bill}\")\n",
    "print(f\"The total tip amount is {tip_amount}\")"
   ]
  },
  {
   "cell_type": "markdown",
   "id": "4c6a5ee1-61b8-4e78-be3f-27c4c1a750fe",
   "metadata": {},
   "source": [
    "**End Operator**\n",
    "- Combining multiple print statements in a single line"
   ]
  },
  {
   "cell_type": "code",
   "execution_count": 28,
   "id": "6397081b-8ffb-47cb-a7b5-fa87ff83f5e2",
   "metadata": {},
   "outputs": [
    {
     "name": "stdout",
     "output_type": "stream",
     "text": [
      "10 20 30\n"
     ]
    }
   ],
   "source": [
    "print(10,end=\" \")\n",
    "print(20,end=\" \")\n",
    "print(30)"
   ]
  },
  {
   "cell_type": "markdown",
   "id": "9f9c3a11-1a12-4d97-b989-4f1e0061e420",
   "metadata": {},
   "source": [
    "**Separate**\n",
    "- Separate the multiple values in a single print statement\n",
    "- The syntax for sep is print(a,b,c,sep=\"you can use any character to separate\")"
   ]
  },
  {
   "cell_type": "code",
   "execution_count": 34,
   "id": "020abc72-79dc-417b-83fb-c2b21b4ddbf8",
   "metadata": {},
   "outputs": [
    {
     "name": "stdout",
     "output_type": "stream",
     "text": [
      "10 =! 20 =! 30\n"
     ]
    }
   ],
   "source": [
    "print(10,20,30,sep=\" =! \")"
   ]
  },
  {
   "cell_type": "code",
   "execution_count": 43,
   "id": "acc9176b-b24d-444a-a71a-11abd7082b05",
   "metadata": {},
   "outputs": [
    {
     "name": "stdout",
     "output_type": "stream",
     "text": [
      "The addition of 5 and 1 is 6.\n"
     ]
    }
   ],
   "source": [
    "print(f\"The addition of {5} and {1} is {5+1}.\")"
   ]
  },
  {
   "cell_type": "code",
   "execution_count": 49,
   "id": "202b96a7-b097-4cdc-b7d3-b3e98bed6adf",
   "metadata": {},
   "outputs": [
    {
     "name": "stdout",
     "output_type": "stream",
     "text": [
      "The addition of 5 and 1 is 6\n"
     ]
    }
   ],
   "source": [
    "print(\"The addition of {} and {} is {}\".format(5,1,5+1))"
   ]
  },
  {
   "cell_type": "code",
   "execution_count": 47,
   "id": "8b53aae0-b251-4e9e-b78b-077230ff054d",
   "metadata": {},
   "outputs": [
    {
     "name": "stdout",
     "output_type": "stream",
     "text": [
      "The addition of 5 and 1 is 6.\n"
     ]
    }
   ],
   "source": [
    "print(f\"The addition of {5} and {1} is {6}\",\".\",sep=\"\")"
   ]
  }
 ],
 "metadata": {
  "kernelspec": {
   "display_name": "Python 3 (ipykernel)",
   "language": "python",
   "name": "python3"
  },
  "language_info": {
   "codemirror_mode": {
    "name": "ipython",
    "version": 3
   },
   "file_extension": ".py",
   "mimetype": "text/x-python",
   "name": "python",
   "nbconvert_exporter": "python",
   "pygments_lexer": "ipython3",
   "version": "3.11.7"
  }
 },
 "nbformat": 4,
 "nbformat_minor": 5
}
